{
  "metadata": {
    "kernelspec": {
      "name": "python3",
      "display_name": "Python 3",
      "language": "python"
    },
    "language_info": {
      "name": "python",
      "version": "3.10.13",
      "mimetype": "text/x-python",
      "codemirror_mode": {
        "name": "ipython",
        "version": 3
      },
      "pygments_lexer": "ipython3",
      "nbconvert_exporter": "python",
      "file_extension": ".py"
    },
    "kaggle": {
      "accelerator": "none",
      "dataSources": [
        {
          "sourceId": 8871449,
          "sourceType": "datasetVersion",
          "datasetId": 5339233
        },
        {
          "sourceId": 8871483,
          "sourceType": "datasetVersion",
          "datasetId": 5339258
        },
        {
          "sourceId": 72619,
          "sourceType": "modelInstanceVersion",
          "isSourceIdPinned": true,
          "modelInstanceId": 60672
        },
        {
          "sourceId": 72620,
          "sourceType": "modelInstanceVersion",
          "isSourceIdPinned": true,
          "modelInstanceId": 60673
        }
      ],
      "dockerImageVersionId": 30732,
      "isInternetEnabled": true,
      "language": "python",
      "sourceType": "notebook",
      "isGpuEnabled": false
    },
    "colab": {
      "provenance": []
    }
  },
  "nbformat_minor": 0,
  "nbformat": 4,
  "cells": [
    {
      "cell_type": "code",
      "source": [
        "from pandas import read_csv, DataFrame, crosstab\n",
        "import numpy as np\n",
        "import seaborn as sns\n",
        "import matplotlib.pyplot as plt\n",
        "from matplotlib.colors import Normalize\n",
        "from sklearn.model_selection import train_test_split, GridSearchCV\n",
        "from sklearn.preprocessing import OneHotEncoder, OrdinalEncoder, LabelEncoder, StandardScaler\n",
        "from sklearn.metrics import classification_report, confusion_matrix, accuracy_score, precision_score, recall_score, f1_score, roc_auc_score, roc_curve\n",
        "from sklearn.compose import ColumnTransformer\n",
        "from sklearn.pipeline import Pipeline\n",
        "from sklearn.neighbors import KNeighborsClassifier\n",
        "from sklearn.linear_model import Perceptron\n",
        "from imblearn.pipeline import Pipeline as ImbPipeline\n",
        "from imblearn.over_sampling import RandomOverSampler, SMOTE, SVMSMOTE, BorderlineSMOTE, ADASYN\n",
        "import joblib\n",
        "import json\n",
        "from os.path import exists"
      ],
      "metadata": {
        "execution": {
          "iopub.status.busy": "2024-07-05T17:10:39.047034Z",
          "iopub.execute_input": "2024-07-05T17:10:39.047498Z",
          "iopub.status.idle": "2024-07-05T17:10:42.690789Z",
          "shell.execute_reply.started": "2024-07-05T17:10:39.047462Z",
          "shell.execute_reply": "2024-07-05T17:10:42.689058Z"
        },
        "trusted": true,
        "id": "reoPMbNAggHB"
      },
      "execution_count": null,
      "outputs": []
    },
    {
      "cell_type": "code",
      "source": [
        "df = read_csv(\"/kaggle/input/titanic-dataset-2/Titanic Data Set.csv\")"
      ],
      "metadata": {
        "execution": {
          "iopub.status.busy": "2024-07-05T17:11:33.635832Z",
          "iopub.execute_input": "2024-07-05T17:11:33.636288Z",
          "iopub.status.idle": "2024-07-05T17:11:33.659102Z",
          "shell.execute_reply.started": "2024-07-05T17:11:33.636254Z",
          "shell.execute_reply": "2024-07-05T17:11:33.657571Z"
        },
        "trusted": true,
        "id": "pv21Fkc0ggHB"
      },
      "execution_count": null,
      "outputs": []
    },
    {
      "cell_type": "code",
      "source": [
        "print(df.head())"
      ],
      "metadata": {
        "execution": {
          "iopub.status.busy": "2024-07-05T17:11:38.115951Z",
          "iopub.execute_input": "2024-07-05T17:11:38.116398Z",
          "iopub.status.idle": "2024-07-05T17:11:38.14152Z",
          "shell.execute_reply.started": "2024-07-05T17:11:38.116367Z",
          "shell.execute_reply": "2024-07-05T17:11:38.140195Z"
        },
        "trusted": true,
        "id": "Ycxm41lAggHB"
      },
      "execution_count": null,
      "outputs": []
    },
    {
      "cell_type": "code",
      "source": [
        "print(df.tail())"
      ],
      "metadata": {
        "execution": {
          "iopub.status.busy": "2024-07-05T17:11:39.044626Z",
          "iopub.execute_input": "2024-07-05T17:11:39.045127Z",
          "iopub.status.idle": "2024-07-05T17:11:39.059582Z",
          "shell.execute_reply.started": "2024-07-05T17:11:39.045091Z",
          "shell.execute_reply": "2024-07-05T17:11:39.057671Z"
        },
        "trusted": true,
        "id": "_6ciwnJfggHC"
      },
      "execution_count": null,
      "outputs": []
    },
    {
      "cell_type": "code",
      "source": [
        "# Check if there are any duplicate values in dataset\n",
        "print(sum(df.duplicated()))"
      ],
      "metadata": {
        "execution": {
          "iopub.status.busy": "2024-07-05T17:11:39.886898Z",
          "iopub.execute_input": "2024-07-05T17:11:39.887379Z",
          "iopub.status.idle": "2024-07-05T17:11:39.904538Z",
          "shell.execute_reply.started": "2024-07-05T17:11:39.887344Z",
          "shell.execute_reply": "2024-07-05T17:11:39.902719Z"
        },
        "trusted": true,
        "id": "ibxbPw9aggHC"
      },
      "execution_count": null,
      "outputs": []
    },
    {
      "cell_type": "code",
      "source": [
        "print(df.info())"
      ],
      "metadata": {
        "execution": {
          "iopub.status.busy": "2024-07-05T17:11:40.735072Z",
          "iopub.execute_input": "2024-07-05T17:11:40.735569Z",
          "iopub.status.idle": "2024-07-05T17:11:40.760404Z",
          "shell.execute_reply.started": "2024-07-05T17:11:40.735535Z",
          "shell.execute_reply": "2024-07-05T17:11:40.758804Z"
        },
        "trusted": true,
        "id": "rxx_pXBhggHC"
      },
      "execution_count": null,
      "outputs": []
    },
    {
      "cell_type": "code",
      "source": [
        "na_counts = DataFrame(df.isna().sum(),columns=[\"NA Counts\"]).reset_index()\n",
        "na_counts = na_counts.rename(columns={'index': 'Column Name'})\n",
        "print(na_counts)"
      ],
      "metadata": {
        "execution": {
          "iopub.status.busy": "2024-07-05T17:11:41.515153Z",
          "iopub.execute_input": "2024-07-05T17:11:41.515616Z",
          "iopub.status.idle": "2024-07-05T17:11:41.529098Z",
          "shell.execute_reply.started": "2024-07-05T17:11:41.515581Z",
          "shell.execute_reply": "2024-07-05T17:11:41.527376Z"
        },
        "trusted": true,
        "id": "rreBoIvdggHC"
      },
      "execution_count": null,
      "outputs": []
    },
    {
      "cell_type": "code",
      "source": [
        "df.describe()"
      ],
      "metadata": {
        "execution": {
          "iopub.status.busy": "2024-07-05T17:11:52.887903Z",
          "iopub.execute_input": "2024-07-05T17:11:52.888464Z",
          "iopub.status.idle": "2024-07-05T17:11:52.938197Z",
          "shell.execute_reply.started": "2024-07-05T17:11:52.888423Z",
          "shell.execute_reply": "2024-07-05T17:11:52.936325Z"
        },
        "trusted": true,
        "id": "HQuhNOpFggHC"
      },
      "execution_count": null,
      "outputs": []
    },
    {
      "cell_type": "code",
      "source": [
        "# Printing unique values in datasets columns\n",
        "for column in [\"Survived\",\"Pclass\",\"Sex\",\"SibSp\",\"Parch\",\"Cabin\",\"Embarked\"]:\n",
        "    print(f\"{column}:{df[column].unique()}\\n\")"
      ],
      "metadata": {
        "execution": {
          "iopub.status.busy": "2024-07-05T17:11:53.628288Z",
          "iopub.execute_input": "2024-07-05T17:11:53.629711Z",
          "iopub.status.idle": "2024-07-05T17:11:53.64172Z",
          "shell.execute_reply.started": "2024-07-05T17:11:53.629654Z",
          "shell.execute_reply": "2024-07-05T17:11:53.640274Z"
        },
        "trusted": true,
        "id": "A3tmIH5FggHC"
      },
      "execution_count": null,
      "outputs": []
    },
    {
      "cell_type": "code",
      "source": [
        "#Printing unique values in dataset columns\n",
        "for column in [\"Survived\",\"Pclass\",\"Sex\",\"SibSp\",\"Parch\",\"Cabin\",\"Embarked\"]:\n",
        "    print(f\"{df[column].value_counts()}{df[column].value_counts(normalize=True)}\\n\")"
      ],
      "metadata": {
        "execution": {
          "iopub.status.busy": "2024-07-05T17:11:54.413067Z",
          "iopub.execute_input": "2024-07-05T17:11:54.414265Z",
          "iopub.status.idle": "2024-07-05T17:11:54.443954Z",
          "shell.execute_reply.started": "2024-07-05T17:11:54.414203Z",
          "shell.execute_reply": "2024-07-05T17:11:54.442053Z"
        },
        "trusted": true,
        "id": "mVbRsOtlggHD"
      },
      "execution_count": null,
      "outputs": []
    },
    {
      "cell_type": "code",
      "source": [
        "# Replacing NA in Age with the mean age\n",
        "mean_Age = df['Age'].mean()\n",
        "df['Age'] = df['Age'].fillna(mean_Age)"
      ],
      "metadata": {
        "execution": {
          "iopub.status.busy": "2024-07-05T17:11:55.033311Z",
          "iopub.execute_input": "2024-07-05T17:11:55.033747Z",
          "iopub.status.idle": "2024-07-05T17:11:55.045232Z",
          "shell.execute_reply.started": "2024-07-05T17:11:55.033715Z",
          "shell.execute_reply": "2024-07-05T17:11:55.043801Z"
        },
        "trusted": true,
        "id": "teFYfb64ggHD"
      },
      "execution_count": null,
      "outputs": []
    },
    {
      "cell_type": "code",
      "source": [
        "# As there are several NA in Cabin, for better analysis making another column is_Cabin which is 0 if Cabin is NAN or else 1\n",
        "df['is_Cabin'] = np.where(df['Cabin'].isna(), 0, 1)\n",
        "df = df.drop('Cabin', axis = 1)"
      ],
      "metadata": {
        "execution": {
          "iopub.status.busy": "2024-07-05T17:11:55.63253Z",
          "iopub.execute_input": "2024-07-05T17:11:55.633024Z",
          "iopub.status.idle": "2024-07-05T17:11:55.646426Z",
          "shell.execute_reply.started": "2024-07-05T17:11:55.632989Z",
          "shell.execute_reply": "2024-07-05T17:11:55.644776Z"
        },
        "trusted": true,
        "id": "QNwYes-vggHD"
      },
      "execution_count": null,
      "outputs": []
    },
    {
      "cell_type": "code",
      "source": [
        "# Replacing NA in Embarked with the mode\n",
        "mode_Embarked = df['Embarked'].mode()\n",
        "df['Embarked'] = df['Embarked'].fillna(mode_Embarked[0])"
      ],
      "metadata": {
        "execution": {
          "iopub.status.busy": "2024-07-05T17:11:56.201491Z",
          "iopub.execute_input": "2024-07-05T17:11:56.201971Z",
          "iopub.status.idle": "2024-07-05T17:11:56.211193Z",
          "shell.execute_reply.started": "2024-07-05T17:11:56.201934Z",
          "shell.execute_reply": "2024-07-05T17:11:56.209498Z"
        },
        "trusted": true,
        "id": "ZFCC5fyMggHD"
      },
      "execution_count": null,
      "outputs": []
    },
    {
      "cell_type": "code",
      "source": [
        "# Now checking for NA\n",
        "na_counts = DataFrame(df.isna().sum(),columns=[\"NA Counts\"]).reset_index()\n",
        "na_counts = na_counts.rename(columns={'index': 'Column Name'})\n",
        "print(na_counts)"
      ],
      "metadata": {
        "execution": {
          "iopub.status.busy": "2024-07-05T17:11:56.879913Z",
          "iopub.execute_input": "2024-07-05T17:11:56.880431Z",
          "iopub.status.idle": "2024-07-05T17:11:56.89452Z",
          "shell.execute_reply.started": "2024-07-05T17:11:56.880394Z",
          "shell.execute_reply": "2024-07-05T17:11:56.892936Z"
        },
        "trusted": true,
        "id": "hUqBo5PaggHD"
      },
      "execution_count": null,
      "outputs": []
    },
    {
      "cell_type": "code",
      "source": [
        "# Printing unique values in datasets columns\n",
        "for column in [\"Survived\",\"Pclass\",\"Sex\",\"SibSp\",\"Parch\",\"is_Cabin\",\"Embarked\"]:\n",
        "    print(f\"{column}:{df[column].unique()}\\n\")"
      ],
      "metadata": {
        "execution": {
          "iopub.status.busy": "2024-07-05T17:11:57.377225Z",
          "iopub.execute_input": "2024-07-05T17:11:57.377655Z",
          "iopub.status.idle": "2024-07-05T17:11:57.388698Z",
          "shell.execute_reply.started": "2024-07-05T17:11:57.37762Z",
          "shell.execute_reply": "2024-07-05T17:11:57.387048Z"
        },
        "trusted": true,
        "id": "933zQnD9ggHE"
      },
      "execution_count": null,
      "outputs": []
    },
    {
      "cell_type": "code",
      "source": [
        "#Printing unique values in dataset columns\n",
        "for column in [\"Survived\",\"Pclass\",\"Sex\",\"SibSp\",\"Parch\",\"is_Cabin\",\"Embarked\"]:\n",
        "    print(f\"{df[column].value_counts()}{df[column].value_counts(normalize=True)}\\n\")"
      ],
      "metadata": {
        "execution": {
          "iopub.status.busy": "2024-07-05T17:11:57.88426Z",
          "iopub.execute_input": "2024-07-05T17:11:57.885096Z",
          "iopub.status.idle": "2024-07-05T17:11:57.908132Z",
          "shell.execute_reply.started": "2024-07-05T17:11:57.88506Z",
          "shell.execute_reply": "2024-07-05T17:11:57.906275Z"
        },
        "trusted": true,
        "id": "a0TGw_tfggHE"
      },
      "execution_count": null,
      "outputs": []
    },
    {
      "cell_type": "markdown",
      "source": [
        "<h1>Exploratory Data Analysis</h1>"
      ],
      "metadata": {
        "id": "SmH4bRWWggHE"
      }
    },
    {
      "cell_type": "markdown",
      "source": [
        "<p>As we know that females, elderly and children were preferred to be saved via lifeboats let us check the survival on basis of these two parameters. Then let us analyze it in terms of Pclass to check if there was a preference to save 1st class passengers.</p>"
      ],
      "metadata": {
        "id": "M85fiBUkggHE"
      }
    },
    {
      "cell_type": "code",
      "source": [
        "# Create a heatmap directly from the DataFrame\n",
        "sns.heatmap(crosstab(df['Survived'], df['Sex']), cmap='Blues', annot=True)  # Adjust colormap as desired\n",
        "\n",
        "# Customize the plot\n",
        "plt.xlabel('Gender')\n",
        "plt.ylabel('Survived')\n",
        "plt.title('Heatmap - Survived vs Gender')\n",
        "plt.show()"
      ],
      "metadata": {
        "execution": {
          "iopub.status.busy": "2024-07-05T17:11:59.260727Z",
          "iopub.execute_input": "2024-07-05T17:11:59.261233Z",
          "iopub.status.idle": "2024-07-05T17:11:59.652Z",
          "shell.execute_reply.started": "2024-07-05T17:11:59.261195Z",
          "shell.execute_reply": "2024-07-05T17:11:59.650659Z"
        },
        "trusted": true,
        "id": "aFXqSHFUggHF"
      },
      "execution_count": null,
      "outputs": []
    },
    {
      "cell_type": "code",
      "source": [
        " # Create the violin plot\n",
        "sns.violinplot(x = \"Survived\",\n",
        "               y = \"Age\",\n",
        "               data = df,\n",
        "               hue = \"Survived\",\n",
        "               palette = \"viridis\")\n",
        "\n",
        "# Customize the plot\n",
        "plt.xlabel(\"Survived\")\n",
        "plt.ylabel(\"Age\")\n",
        "plt.title(\"Violin Plot of Survived vs Age\")\n",
        "plt.xticks(rotation=45)\n",
        "plt.show()"
      ],
      "metadata": {
        "execution": {
          "iopub.status.busy": "2024-07-05T17:11:59.65431Z",
          "iopub.execute_input": "2024-07-05T17:11:59.654701Z",
          "iopub.status.idle": "2024-07-05T17:12:00.069858Z",
          "shell.execute_reply.started": "2024-07-05T17:11:59.654668Z",
          "shell.execute_reply": "2024-07-05T17:12:00.068269Z"
        },
        "trusted": true,
        "id": "YsMPsrWyggHF"
      },
      "execution_count": null,
      "outputs": []
    },
    {
      "cell_type": "code",
      "source": [
        " # Create the violin plot\n",
        "sns.violinplot(x = \"Survived\",\n",
        "               y = \"Age\",\n",
        "               data = df,\n",
        "               hue = \"Sex\",\n",
        "               palette = \"viridis\")\n",
        "\n",
        "# Customize the plot\n",
        "plt.xlabel(\"Survived\")\n",
        "plt.ylabel(\"Age\")\n",
        "plt.title(\"Violin Plot of Survived vs Age and Gender\")\n",
        "plt.xticks(rotation=45)\n",
        "plt.show()"
      ],
      "metadata": {
        "execution": {
          "iopub.status.busy": "2024-07-05T17:12:00.072292Z",
          "iopub.execute_input": "2024-07-05T17:12:00.072815Z",
          "iopub.status.idle": "2024-07-05T17:12:00.514502Z",
          "shell.execute_reply.started": "2024-07-05T17:12:00.072771Z",
          "shell.execute_reply": "2024-07-05T17:12:00.513285Z"
        },
        "trusted": true,
        "id": "GvTFlQABggHF"
      },
      "execution_count": null,
      "outputs": []
    },
    {
      "cell_type": "code",
      "source": [
        "# Create a heatmap directly from the DataFrame\n",
        "sns.heatmap(crosstab(df['Survived'], df['Pclass']), cmap='Blues', annot=True)  # Adjust colormap as desired\n",
        "\n",
        "# Customize the plot\n",
        "plt.xlabel('Passenger Class')\n",
        "plt.ylabel('Survived')\n",
        "plt.title('Heatmap - Survived vs Passenger Class')\n",
        "plt.show()"
      ],
      "metadata": {
        "execution": {
          "iopub.status.busy": "2024-07-05T17:12:00.517028Z",
          "iopub.execute_input": "2024-07-05T17:12:00.517549Z",
          "iopub.status.idle": "2024-07-05T17:12:00.866484Z",
          "shell.execute_reply.started": "2024-07-05T17:12:00.517505Z",
          "shell.execute_reply": "2024-07-05T17:12:00.865258Z"
        },
        "trusted": true,
        "id": "CTRq47VtggHF"
      },
      "execution_count": null,
      "outputs": []
    },
    {
      "cell_type": "code",
      "source": [
        "# Create a heatmap directly from the DataFrame\n",
        "sns.heatmap(crosstab(df['Survived'], df['is_Cabin']), cmap='Blues', annot=True)  # Adjust colormap as desired\n",
        "\n",
        "# Customize the plot\n",
        "plt.xlabel('Cabin Passenger')\n",
        "plt.ylabel('Survived')\n",
        "plt.title('Heatmap - Survived vs Cabin Passenger')\n",
        "plt.show()"
      ],
      "metadata": {
        "execution": {
          "iopub.status.busy": "2024-07-05T17:12:00.867794Z",
          "iopub.execute_input": "2024-07-05T17:12:00.868142Z",
          "iopub.status.idle": "2024-07-05T17:12:01.213918Z",
          "shell.execute_reply.started": "2024-07-05T17:12:00.868114Z",
          "shell.execute_reply": "2024-07-05T17:12:01.212739Z"
        },
        "trusted": true,
        "id": "ytN688pZggHF"
      },
      "execution_count": null,
      "outputs": []
    },
    {
      "cell_type": "markdown",
      "source": [
        "<p>We see a clear indication that female passengers are more likely to survive. Children and the Elderly were also more likely to survive especially in males. Passengers in 1st Class are more likely to survive than passengers in 2nd Class and 3rd Class. Passengers in Cabin are also more likely to survive than passengers not having cabin tickets.</p>"
      ],
      "metadata": {
        "id": "Q0UE4RKBggHG"
      }
    },
    {
      "cell_type": "markdown",
      "source": [
        "<h1>Splitting the Training and Testing Data Set</h1>"
      ],
      "metadata": {
        "id": "i84zkgBUggHG"
      }
    },
    {
      "cell_type": "code",
      "source": [
        "# The only features we will use for further modelling - SibSp, Pclass, Sex, Age, Parch, is_Cabin and Embarked\n",
        "X,y = df.drop([\"PassengerId\",\"Name\",\"Ticket\",\"Survived\"],axis=1), df[\"Survived\"]\n",
        "\n",
        "# Split data into training and testing sets (default test_size=0.2) # Through trial and error this was found to be the best split\n",
        "X_train, X_test, y_train, y_test = train_test_split(X, y, test_size=0.3, random_state=4)"
      ],
      "metadata": {
        "execution": {
          "iopub.status.busy": "2024-07-05T17:12:01.384641Z",
          "iopub.execute_input": "2024-07-05T17:12:01.38511Z",
          "iopub.status.idle": "2024-07-05T17:12:01.399694Z",
          "shell.execute_reply.started": "2024-07-05T17:12:01.385075Z",
          "shell.execute_reply": "2024-07-05T17:12:01.397989Z"
        },
        "trusted": true,
        "id": "znaCJ4VLggHG"
      },
      "execution_count": null,
      "outputs": []
    },
    {
      "cell_type": "code",
      "source": [
        "print(\"Training Data Shape\")\n",
        "print(X_train.shape)\n",
        "print(\"Testing Data Shape\")\n",
        "print(X_test.shape)"
      ],
      "metadata": {
        "execution": {
          "iopub.status.busy": "2024-07-05T17:12:01.791668Z",
          "iopub.execute_input": "2024-07-05T17:12:01.792092Z",
          "iopub.status.idle": "2024-07-05T17:12:01.799455Z",
          "shell.execute_reply.started": "2024-07-05T17:12:01.792061Z",
          "shell.execute_reply": "2024-07-05T17:12:01.797856Z"
        },
        "trusted": true,
        "id": "feSmBufdggHG"
      },
      "execution_count": null,
      "outputs": []
    },
    {
      "cell_type": "code",
      "source": [
        "# Define column names\n",
        "ordinal_cols = ['Sex']\n",
        "onehot_cols = ['Embarked']\n",
        "numerical_cols = [col for col in X.columns if col not in ordinal_cols + onehot_cols]\n",
        "\n",
        "# Define the ColumnTransformer\n",
        "preprocessor = ColumnTransformer(\n",
        "    transformers=[\n",
        "        ('ordinal', OrdinalEncoder(), ordinal_cols),\n",
        "        ('onehot', OneHotEncoder(), onehot_cols),\n",
        "        ('num', 'passthrough', numerical_cols)\n",
        "    ]\n",
        ")"
      ],
      "metadata": {
        "execution": {
          "iopub.status.busy": "2024-07-05T17:12:03.145898Z",
          "iopub.execute_input": "2024-07-05T17:12:03.146342Z",
          "iopub.status.idle": "2024-07-05T17:12:03.154382Z",
          "shell.execute_reply.started": "2024-07-05T17:12:03.14631Z",
          "shell.execute_reply": "2024-07-05T17:12:03.15244Z"
        },
        "trusted": true,
        "id": "PN9kzzHTggHG"
      },
      "execution_count": null,
      "outputs": []
    },
    {
      "cell_type": "code",
      "source": [
        "transformed_df = preprocessor.fit_transform(df.drop([\"PassengerId\",\"Name\",\"Ticket\"],axis=1))\n",
        "transformed_df = DataFrame(transformed_df, columns=['Sex', 'Embarked_C', 'Embarked_Q', 'Survived', 'Pclass', 'Age', 'SibSp','Parch','Fare','is_Cabin'])\n",
        "transformed_df[\"Survived\"] = df[\"Survived\"].astype(float)\n",
        "transformed_df[\"Embarked_S\"] = transformed_df.apply(lambda row: 1.0 if row['Embarked_C'] == 0.0 and row['Embarked_Q'] == 0.0 else 0.0, axis=1)\n",
        "\n",
        "corr = transformed_df.corr()\n",
        "norm = Normalize(vmin=-0.54, vmax=0.54)\n",
        "plt.figure(figsize=(10, 7.5))\n",
        "sns.heatmap(corr[\"Survived\"].to_frame().sort_values(by=\"Survived\", key=lambda x: x.abs(), ascending=False).iloc[1:11,:],\n",
        "            annot=True, cmap = \"coolwarm\",norm = norm)\n",
        "plt.show()"
      ],
      "metadata": {
        "execution": {
          "iopub.status.busy": "2024-07-05T17:12:03.680825Z",
          "iopub.execute_input": "2024-07-05T17:12:03.681263Z",
          "iopub.status.idle": "2024-07-05T17:12:04.105764Z",
          "shell.execute_reply.started": "2024-07-05T17:12:03.68123Z",
          "shell.execute_reply": "2024-07-05T17:12:04.104356Z"
        },
        "trusted": true,
        "id": "jto6N25BggHG"
      },
      "execution_count": null,
      "outputs": []
    },
    {
      "cell_type": "markdown",
      "source": [
        "<p> As per the above heatmap we can analyze the feature importance and correlation with the target variable Survived. By this analysis, we find the maximum importance is of gender followed by Passenger Class, whether the passenger has a cabin ticket and fare. The other features have relatively lesser importance due to its low correlation with the target variable."
      ],
      "metadata": {
        "id": "2zBCO9hFggHH"
      }
    },
    {
      "cell_type": "markdown",
      "source": [
        "<h1> KNN </h1>"
      ],
      "metadata": {
        "id": "zeTdRLWfggHH"
      }
    },
    {
      "cell_type": "code",
      "source": [
        "# If model already run from the existing model or else define the model\n",
        "if exists ('/kaggle/input/knn-model/scikitlearn/knn/1/knn_model.joblib'):\n",
        "    print(\"Loading from file\")\n",
        "    knn_loaded = joblib.load('/kaggle/input/knn-model/scikitlearn/knn/1/knn_model.joblib')\n",
        "    y_pred_knn = knn_loaded.predict(X_test)\n",
        "    y_pred_proba_knn = knn_loaded.predict_proba(X_test)\n",
        "    with open('/kaggle/input/result-json-2/knn_results.json', 'r') as json_file:\n",
        "        results = json.load(json_file)\n",
        "        optimal_params = results['optimal_params']\n",
        "        optimal_accuracy = results['optimal_accuracy']\n",
        "        print(f'Best parameters: {optimal_params}')\n",
        "        print(f'Best cross-validation accuracy: {optimal_accuracy:.5f}')\n",
        "else:\n",
        "    # Define the pipeline\n",
        "    pipeline = Pipeline(steps=[\n",
        "        ('preprocessor', preprocessor),\n",
        "        ('scaler', StandardScaler()),  # Apply scaling to all columns after preprocessing\n",
        "        ('knn', KNeighborsClassifier())\n",
        "    ])\n",
        "\n",
        "    # Define the parameter grid for GridSearchCV\n",
        "    param_grid = {\n",
        "        'knn__n_neighbors': [3, 5, 7, 9, 11],\n",
        "        'knn__weights': ['uniform', 'distance'],\n",
        "        'knn__metric': ['euclidean', 'manhattan', 'minkowski', 'canberra', 'braycurtis', 'chebyshev', 'cosine'],\n",
        "        'knn__p': [1.5, 2.5]\n",
        "    }\n",
        "\n",
        "    # Define the GridSearchCV\n",
        "    grid_search = GridSearchCV(pipeline, param_grid, cv=5, n_jobs = -1)\n",
        "\n",
        "    # Perform GridSearchCV to find the best parameters and fit the model\n",
        "    grid_search.fit(X_train, y_train)\n",
        "\n",
        "    # Update the pipeline with the best estimator\n",
        "    optimal_estimator = grid_search.best_estimator_\n",
        "\n",
        "    y_pred_knn = optimal_estimator.predict(X_test)\n",
        "    y_pred_proba_knn = optimal_estimator.predict_proba(X_test)\n",
        "\n",
        "    # Print the best parameters and cross-validation accuracy\n",
        "    print(f'Best parameters: {(optimal_params:= grid_search.best_params_)}')\n",
        "    print(f'Best cross-validation accuracy: {(optimal_accuracy:= grid_search.best_score_):.5f}')\n",
        "\n",
        "    # Writing it in json file\n",
        "    results = {'optimal_params': optimal_params, 'optimal_accuracy': optimal_accuracy}\n",
        "    with open('/kaggle/input/result-json-2/knn_results.json', 'w') as json_file:\n",
        "        json.dump(results, json_file)\n",
        "\n",
        "    # Save the pipeline\n",
        "    joblib.dump(optimal_estimator, '/kaggle/input/knn-model/scikitlearn/knn/1/knn_model.joblib')\n",
        "    print(\"Model trained and saved to disk.\")\n"
      ],
      "metadata": {
        "execution": {
          "iopub.status.busy": "2024-07-05T17:13:26.133997Z",
          "iopub.execute_input": "2024-07-05T17:13:26.134582Z",
          "iopub.status.idle": "2024-07-05T17:13:26.201367Z",
          "shell.execute_reply.started": "2024-07-05T17:13:26.134543Z",
          "shell.execute_reply": "2024-07-05T17:13:26.199985Z"
        },
        "trusted": true,
        "id": "OHuBKqFNggHH"
      },
      "execution_count": null,
      "outputs": []
    },
    {
      "cell_type": "markdown",
      "source": [
        "<h2> Model Evaluation </h2>"
      ],
      "metadata": {
        "id": "J5ex73nwggHH"
      }
    },
    {
      "cell_type": "code",
      "source": [
        "accuracy_knn = accuracy_score(y_test, y_pred_knn)\n",
        "print(f\"The accuracy of KNN model is {accuracy_knn:5f}\")"
      ],
      "metadata": {
        "execution": {
          "iopub.status.busy": "2024-07-05T17:13:30.116054Z",
          "iopub.execute_input": "2024-07-05T17:13:30.116597Z",
          "iopub.status.idle": "2024-07-05T17:13:30.126908Z",
          "shell.execute_reply.started": "2024-07-05T17:13:30.11656Z",
          "shell.execute_reply": "2024-07-05T17:13:30.125318Z"
        },
        "trusted": true,
        "id": "BR5K1LG1ggHH"
      },
      "execution_count": null,
      "outputs": []
    },
    {
      "cell_type": "code",
      "source": [
        "print(confusion_matrix(y_test, y_pred_knn))"
      ],
      "metadata": {
        "execution": {
          "iopub.status.busy": "2024-07-05T17:13:30.906456Z",
          "iopub.execute_input": "2024-07-05T17:13:30.906911Z",
          "iopub.status.idle": "2024-07-05T17:13:30.917546Z",
          "shell.execute_reply.started": "2024-07-05T17:13:30.906879Z",
          "shell.execute_reply": "2024-07-05T17:13:30.916044Z"
        },
        "trusted": true,
        "id": "BZWkbEALggHH"
      },
      "execution_count": null,
      "outputs": []
    },
    {
      "cell_type": "code",
      "source": [
        "print(classification_report(y_test,y_pred_knn))"
      ],
      "metadata": {
        "execution": {
          "iopub.status.busy": "2024-07-05T17:13:31.575323Z",
          "iopub.execute_input": "2024-07-05T17:13:31.576658Z",
          "iopub.status.idle": "2024-07-05T17:13:31.594699Z",
          "shell.execute_reply.started": "2024-07-05T17:13:31.576616Z",
          "shell.execute_reply": "2024-07-05T17:13:31.59319Z"
        },
        "trusted": true,
        "id": "uemW9xWwggHI"
      },
      "execution_count": null,
      "outputs": []
    },
    {
      "cell_type": "code",
      "source": [
        "f1_knn = f1_score(y_test,y_pred_knn)\n",
        "print(f\"The f1 score of KNN model is {f1_knn:5f}\")"
      ],
      "metadata": {
        "execution": {
          "iopub.status.busy": "2024-07-05T17:13:31.940112Z",
          "iopub.execute_input": "2024-07-05T17:13:31.940602Z",
          "iopub.status.idle": "2024-07-05T17:13:31.95258Z",
          "shell.execute_reply.started": "2024-07-05T17:13:31.940568Z",
          "shell.execute_reply": "2024-07-05T17:13:31.951187Z"
        },
        "trusted": true,
        "id": "O40YAwxqggHI"
      },
      "execution_count": null,
      "outputs": []
    },
    {
      "cell_type": "code",
      "source": [
        "roc_auc_knn = roc_auc_score(y_test, y_pred_proba_knn[:,1])\n",
        "print(f\"The ROC-AUC score of KNN model is {roc_auc_knn:5f}\")"
      ],
      "metadata": {
        "execution": {
          "iopub.status.busy": "2024-07-05T17:13:32.325305Z",
          "iopub.execute_input": "2024-07-05T17:13:32.325792Z",
          "iopub.status.idle": "2024-07-05T17:13:32.338377Z",
          "shell.execute_reply.started": "2024-07-05T17:13:32.325755Z",
          "shell.execute_reply": "2024-07-05T17:13:32.336635Z"
        },
        "trusted": true,
        "id": "Pg5dSNmlggHI"
      },
      "execution_count": null,
      "outputs": []
    },
    {
      "cell_type": "code",
      "source": [
        "fpr_knn, tpr_knn, _ = roc_curve(y_test, y_pred_proba_knn[:, 1])\n",
        "plt.plot(fpr_knn, tpr_knn, label='KNN (AUC = {:.5f})'.format(roc_auc_knn))\n",
        "plt.xlabel('False Positive Rate')\n",
        "plt.ylabel('True Positive Rate')\n",
        "plt.title('ROC Curve for KNN')\n",
        "plt.text(0.6, 0.2, f'AUC = {roc_auc_knn:.5f}', fontsize=12, color='navy')\n",
        "plt.show()"
      ],
      "metadata": {
        "execution": {
          "iopub.status.busy": "2024-07-05T17:13:32.710673Z",
          "iopub.execute_input": "2024-07-05T17:13:32.711108Z",
          "iopub.status.idle": "2024-07-05T17:13:33.01672Z",
          "shell.execute_reply.started": "2024-07-05T17:13:32.711076Z",
          "shell.execute_reply": "2024-07-05T17:13:33.015438Z"
        },
        "trusted": true,
        "id": "6JtEgggTggHM"
      },
      "execution_count": null,
      "outputs": []
    },
    {
      "cell_type": "markdown",
      "source": [
        "<h1>Perceptron</h1>"
      ],
      "metadata": {
        "id": "n2e82rOdggHM"
      }
    },
    {
      "cell_type": "code",
      "source": [
        "# If model already run from the existing model or else define the model\n",
        "if exists ('/kaggle/input/perceptron/scikitlearn/perceptron/1/ppp_model.joblib'):\n",
        "    print(\"Loading from file\")\n",
        "    ppp_loaded = joblib.load('/kaggle/input/perceptron/scikitlearn/perceptron/1/ppp_model.joblib')\n",
        "    y_pred_ppp = ppp_loaded.predict(X_test)\n",
        "    y_pred_proba_ppp = ppp_loaded.decision_function(X_test)\n",
        "    with open('/kaggle/input/result-json-2/ppp_results.json', 'r') as json_file:\n",
        "        results = json.load(json_file)\n",
        "        optimal_params = results['optimal_params']\n",
        "        optimal_accuracy = results['optimal_accuracy']\n",
        "        print(f'Best parameters: {optimal_params}')\n",
        "        print(f'Best cross-validation accuracy: {optimal_accuracy:.5f}')\n",
        "else:\n",
        "    # Define the pipeline\n",
        "    pipeline = ImbPipeline(steps=[\n",
        "        ('preprocessor', preprocessor),\n",
        "        ('scaler', StandardScaler()),  # Apply scaling to all columns after preprocessing\n",
        "        ('smote', BorderlineSMOTE(random_state=21)),\n",
        "        ('perceptron', Perceptron(random_state = 4))\n",
        "    ])\n",
        "\n",
        "    # Define the parameter grid for GridSearchCV\n",
        "    param_grid = {\n",
        "        'perceptron__max_iter': [50, 100],          # Maximum number of iterations\n",
        "        'perceptron__eta0': [0.1, 0.01, 0.001, 0.0001],           # Initial learning rate\n",
        "    }\n",
        "\n",
        "    # Define the GridSearchCV\n",
        "    grid_search = GridSearchCV(pipeline, param_grid, cv=5)\n",
        "\n",
        "    # Perform GridSearchCV to find the best parameters and fit the model\n",
        "    grid_search.fit(X_train, y_train)\n",
        "\n",
        "    # Update the pipeline with the best estimator\n",
        "    optimal_estimator = grid_search.best_estimator_\n",
        "\n",
        "    y_pred_ppp = optimal_estimator.predict(X_test)\n",
        "    y_pred_proba_ppp = optimal_estimator.decision_function(X_test)\n",
        "\n",
        "    # Print the best parameters and cross-validation accuracy\n",
        "    print(f'Best parameters: {(optimal_params:= grid_search.best_params_)}')\n",
        "    print(f'Best cross-validation accuracy: {(optimal_accuracy:= grid_search.best_score_):.5f}')\n",
        "\n",
        "    # Writing it in json file\n",
        "    results = {'optimal_params': optimal_params, 'optimal_accuracy': optimal_accuracy}\n",
        "    with open('/kaggle/input/result-json-2/ppp_results.json', 'w') as json_file:\n",
        "        json.dump(results, json_file)\n",
        "\n",
        "    # Save the pipeline\n",
        "    joblib.dump(optimal_estimator, '/kaggle/input/perceptron/scikitlearn/perceptron/1/ppp_model.joblib')\n",
        "    print(\"Model trained and saved to disk.\")\n"
      ],
      "metadata": {
        "execution": {
          "iopub.status.busy": "2024-07-05T17:15:07.118555Z",
          "iopub.execute_input": "2024-07-05T17:15:07.119447Z",
          "iopub.status.idle": "2024-07-05T17:15:07.177484Z",
          "shell.execute_reply.started": "2024-07-05T17:15:07.119381Z",
          "shell.execute_reply": "2024-07-05T17:15:07.175701Z"
        },
        "trusted": true,
        "id": "UsI4QRoGggHM"
      },
      "execution_count": null,
      "outputs": []
    },
    {
      "cell_type": "markdown",
      "source": [
        "<h1> Model Evaluation </h1>"
      ],
      "metadata": {
        "id": "R4zhsm1AggHM"
      }
    },
    {
      "cell_type": "code",
      "source": [
        "accuracy_ppp = accuracy_score(y_test, y_pred_ppp)\n",
        "print(f\"The accuracy of Perceptron model is {accuracy_ppp:5f}\")"
      ],
      "metadata": {
        "execution": {
          "iopub.status.busy": "2024-07-05T17:15:22.545672Z",
          "iopub.execute_input": "2024-07-05T17:15:22.546387Z",
          "iopub.status.idle": "2024-07-05T17:15:22.559783Z",
          "shell.execute_reply.started": "2024-07-05T17:15:22.546344Z",
          "shell.execute_reply": "2024-07-05T17:15:22.557883Z"
        },
        "trusted": true,
        "id": "ZSA9sPujggHM"
      },
      "execution_count": null,
      "outputs": []
    },
    {
      "cell_type": "code",
      "source": [
        "print(confusion_matrix(y_test, y_pred_ppp))"
      ],
      "metadata": {
        "execution": {
          "iopub.status.busy": "2024-07-05T17:15:30.658475Z",
          "iopub.execute_input": "2024-07-05T17:15:30.658965Z",
          "iopub.status.idle": "2024-07-05T17:15:30.672718Z",
          "shell.execute_reply.started": "2024-07-05T17:15:30.658929Z",
          "shell.execute_reply": "2024-07-05T17:15:30.671292Z"
        },
        "trusted": true,
        "id": "_JRt797iggHN"
      },
      "execution_count": null,
      "outputs": []
    },
    {
      "cell_type": "code",
      "source": [
        "print(classification_report(y_test,y_pred_ppp))"
      ],
      "metadata": {
        "execution": {
          "iopub.status.busy": "2024-07-05T17:15:32.465068Z",
          "iopub.execute_input": "2024-07-05T17:15:32.465716Z",
          "iopub.status.idle": "2024-07-05T17:15:32.491562Z",
          "shell.execute_reply.started": "2024-07-05T17:15:32.465649Z",
          "shell.execute_reply": "2024-07-05T17:15:32.490003Z"
        },
        "trusted": true,
        "id": "UwsxxB7BggHN"
      },
      "execution_count": null,
      "outputs": []
    },
    {
      "cell_type": "code",
      "source": [
        "f1_ppp = f1_score(y_test,y_pred_ppp)\n",
        "print(f\"The f1 score of Perceptron model is {f1_ppp:5f}\")"
      ],
      "metadata": {
        "execution": {
          "iopub.status.busy": "2024-07-05T17:15:33.268597Z",
          "iopub.execute_input": "2024-07-05T17:15:33.269005Z",
          "iopub.status.idle": "2024-07-05T17:15:33.281156Z",
          "shell.execute_reply.started": "2024-07-05T17:15:33.268974Z",
          "shell.execute_reply": "2024-07-05T17:15:33.279836Z"
        },
        "trusted": true,
        "id": "u4aTDO-1ggHN"
      },
      "execution_count": null,
      "outputs": []
    },
    {
      "cell_type": "code",
      "source": [
        "roc_auc_ppp = roc_auc_score(y_test, y_pred_proba_ppp)\n",
        "print(f\"The ROC-AUC score of Perceptron model is {roc_auc_ppp:5f}\")"
      ],
      "metadata": {
        "execution": {
          "iopub.status.busy": "2024-07-05T17:15:34.26864Z",
          "iopub.execute_input": "2024-07-05T17:15:34.269081Z",
          "iopub.status.idle": "2024-07-05T17:15:34.282481Z",
          "shell.execute_reply.started": "2024-07-05T17:15:34.269048Z",
          "shell.execute_reply": "2024-07-05T17:15:34.280975Z"
        },
        "trusted": true,
        "id": "A4SGBCR0ggHN"
      },
      "execution_count": null,
      "outputs": []
    },
    {
      "cell_type": "code",
      "source": [
        "fpr_ppp, tpr_ppp, _ = roc_curve(y_test, y_pred_proba_ppp)\n",
        "plt.plot(fpr_ppp, tpr_ppp, label='Perceptron (AUC = {:.5f})'.format(roc_auc_ppp))\n",
        "plt.xlabel('False Positive Rate')\n",
        "plt.ylabel('True Positive Rate')\n",
        "plt.title('ROC Curve for Perceptron Model')\n",
        "plt.text(0.6, 0.2, f'AUC = {roc_auc_ppp:.5f}', fontsize=12, color='navy')\n",
        "plt.show()"
      ],
      "metadata": {
        "execution": {
          "iopub.status.busy": "2024-07-05T17:15:36.030501Z",
          "iopub.execute_input": "2024-07-05T17:15:36.031016Z",
          "iopub.status.idle": "2024-07-05T17:15:36.346102Z",
          "shell.execute_reply.started": "2024-07-05T17:15:36.030979Z",
          "shell.execute_reply": "2024-07-05T17:15:36.344294Z"
        },
        "trusted": true,
        "id": "2ZOwKQRKggHN"
      },
      "execution_count": null,
      "outputs": []
    },
    {
      "cell_type": "markdown",
      "source": [
        "<h1> Custom Perceptron </h1>"
      ],
      "metadata": {
        "id": "vPoX4ROYggHN"
      }
    },
    {
      "cell_type": "code",
      "source": [
        "class Perceptron1(object):\n",
        "    #eta : float, Learning rate (between 0.0 and 1.0)\n",
        "    #n_iter : int, Passes over the training dataset.\n",
        "    #random_state : int, Random number generator seed for random weight\n",
        "      #initialization.\n",
        "\n",
        "    def __init__(self, eta=0.01, n_iter=50, random_state=1):\n",
        "        self.eta = eta\n",
        "        self.n_iter = n_iter\n",
        "        self.random_state = random_state\n",
        "\n",
        "    def fit(self, X, y):\n",
        "        rgen = np.random.RandomState(self.random_state)\n",
        "        self.w_ = rgen.normal(loc=0.0, scale=0.01, size=1 + X.shape[1])\n",
        "        self.errors_ = []\n",
        "\n",
        "        for _ in range(self.n_iter):\n",
        "            errors = 0\n",
        "            for xi, target in zip(X, y):\n",
        "                update = self.eta * (target - self.predict(xi))\n",
        "                self.w_[1:] += update * xi\n",
        "                self.w_[0] += update\n",
        "                errors += int(update != 0.0)\n",
        "            self.errors_.append(errors)\n",
        "        return self\n",
        "\n",
        "    def net_input(self, X):\n",
        "        #Calculate net input\n",
        "        return np.dot(X, self.w_[1:]) + self.w_[0]\n",
        "\n",
        "    def predict(self, X):\n",
        "        #Return class label after unit step\n",
        "        return np.where(self.net_input(X) >= 0.0, 1, 0)\n",
        "\n",
        "    def predict_proba(self, X):\n",
        "        # Apply sigmoid function to output probabilities\n",
        "        return self.sigmoid(self.net_input(X))\n",
        "\n",
        "    def sigmoid(self, z):\n",
        "        return 1.0 / (1.0 + np.exp(-z))"
      ],
      "metadata": {
        "execution": {
          "iopub.status.busy": "2024-07-05T17:15:37.917367Z",
          "iopub.execute_input": "2024-07-05T17:15:37.918519Z",
          "iopub.status.idle": "2024-07-05T17:15:37.934071Z",
          "shell.execute_reply.started": "2024-07-05T17:15:37.91848Z",
          "shell.execute_reply": "2024-07-05T17:15:37.932811Z"
        },
        "trusted": true,
        "id": "cKhMjoLbggHN"
      },
      "execution_count": null,
      "outputs": []
    },
    {
      "cell_type": "code",
      "source": [
        "pipeline1 = ImbPipeline(steps=[\n",
        "    ('preprocessor', preprocessor),\n",
        "    ('scaler', StandardScaler()),  # Apply scaling to all columns after preprocessing\n",
        "    ('perceptron', Perceptron1(eta = 0.001, n_iter = 100, random_state = 10))\n",
        "])"
      ],
      "metadata": {
        "execution": {
          "iopub.status.busy": "2024-07-05T17:15:38.711108Z",
          "iopub.execute_input": "2024-07-05T17:15:38.7116Z",
          "iopub.status.idle": "2024-07-05T17:15:38.721265Z",
          "shell.execute_reply.started": "2024-07-05T17:15:38.711567Z",
          "shell.execute_reply": "2024-07-05T17:15:38.719602Z"
        },
        "trusted": true,
        "id": "aX244z-0ggHN"
      },
      "execution_count": null,
      "outputs": []
    },
    {
      "cell_type": "code",
      "source": [
        "pipeline1.fit(X_train, y_train)"
      ],
      "metadata": {
        "execution": {
          "iopub.status.busy": "2024-07-05T17:15:40.17446Z",
          "iopub.execute_input": "2024-07-05T17:15:40.175525Z",
          "iopub.status.idle": "2024-07-05T17:15:41.591328Z",
          "shell.execute_reply.started": "2024-07-05T17:15:40.175483Z",
          "shell.execute_reply": "2024-07-05T17:15:41.590086Z"
        },
        "trusted": true,
        "id": "fdo7zdI0ggHO"
      },
      "execution_count": null,
      "outputs": []
    },
    {
      "cell_type": "markdown",
      "source": [
        "<h1> Model Evaluation </h1>"
      ],
      "metadata": {
        "id": "u3fmINIBggHO"
      }
    },
    {
      "cell_type": "code",
      "source": [
        "y_pred_ppp1 = pipeline1.predict(X_test)"
      ],
      "metadata": {
        "execution": {
          "iopub.status.busy": "2024-07-05T17:15:45.947077Z",
          "iopub.execute_input": "2024-07-05T17:15:45.947606Z",
          "iopub.status.idle": "2024-07-05T17:15:45.961871Z",
          "shell.execute_reply.started": "2024-07-05T17:15:45.94757Z",
          "shell.execute_reply": "2024-07-05T17:15:45.960295Z"
        },
        "trusted": true,
        "id": "GLco5ccCggHO"
      },
      "execution_count": null,
      "outputs": []
    },
    {
      "cell_type": "code",
      "source": [
        "accuracy_ppp1 = accuracy_score(y_test, y_pred_ppp1)\n",
        "print(f\"The accuracy of Custom Perceptron model is {accuracy_ppp1:5f}\")"
      ],
      "metadata": {
        "execution": {
          "iopub.status.busy": "2024-07-05T17:15:46.342282Z",
          "iopub.execute_input": "2024-07-05T17:15:46.342775Z",
          "iopub.status.idle": "2024-07-05T17:15:46.353197Z",
          "shell.execute_reply.started": "2024-07-05T17:15:46.34274Z",
          "shell.execute_reply": "2024-07-05T17:15:46.351521Z"
        },
        "trusted": true,
        "id": "HsPWlpvsggHO"
      },
      "execution_count": null,
      "outputs": []
    },
    {
      "cell_type": "code",
      "source": [
        "print(confusion_matrix(y_test, y_pred_ppp1))"
      ],
      "metadata": {
        "execution": {
          "iopub.status.busy": "2024-07-05T17:15:46.735829Z",
          "iopub.execute_input": "2024-07-05T17:15:46.736354Z",
          "iopub.status.idle": "2024-07-05T17:15:46.74744Z",
          "shell.execute_reply.started": "2024-07-05T17:15:46.736316Z",
          "shell.execute_reply": "2024-07-05T17:15:46.74551Z"
        },
        "trusted": true,
        "id": "ypCk7J_MggHP"
      },
      "execution_count": null,
      "outputs": []
    },
    {
      "cell_type": "code",
      "source": [
        "print(classification_report(y_test,y_pred_ppp1))"
      ],
      "metadata": {
        "execution": {
          "iopub.status.busy": "2024-07-05T17:15:47.097594Z",
          "iopub.execute_input": "2024-07-05T17:15:47.098072Z",
          "iopub.status.idle": "2024-07-05T17:15:47.1153Z",
          "shell.execute_reply.started": "2024-07-05T17:15:47.098037Z",
          "shell.execute_reply": "2024-07-05T17:15:47.113648Z"
        },
        "trusted": true,
        "id": "Si7UPZ3YggHP"
      },
      "execution_count": null,
      "outputs": []
    },
    {
      "cell_type": "code",
      "source": [
        "f1_ppp1 = f1_score(y_test,y_pred_ppp1)\n",
        "print(f\"The f1 score of Custom Perceptron model is {f1_ppp1:5f}\")"
      ],
      "metadata": {
        "execution": {
          "iopub.status.busy": "2024-07-05T17:15:47.533623Z",
          "iopub.execute_input": "2024-07-05T17:15:47.534135Z",
          "iopub.status.idle": "2024-07-05T17:15:47.547084Z",
          "shell.execute_reply.started": "2024-07-05T17:15:47.534096Z",
          "shell.execute_reply": "2024-07-05T17:15:47.545691Z"
        },
        "trusted": true,
        "id": "P3G00smrggHP"
      },
      "execution_count": null,
      "outputs": []
    },
    {
      "cell_type": "code",
      "source": [
        "y_pred_proba_ppp1 = pipeline1.predict_proba(X_test)"
      ],
      "metadata": {
        "execution": {
          "iopub.status.busy": "2024-07-05T17:15:47.903063Z",
          "iopub.execute_input": "2024-07-05T17:15:47.903671Z",
          "iopub.status.idle": "2024-07-05T17:15:47.918232Z",
          "shell.execute_reply.started": "2024-07-05T17:15:47.903622Z",
          "shell.execute_reply": "2024-07-05T17:15:47.916757Z"
        },
        "trusted": true,
        "id": "OLQ8G2hDggHP"
      },
      "execution_count": null,
      "outputs": []
    },
    {
      "cell_type": "code",
      "source": [
        "roc_auc_ppp1 = roc_auc_score(y_test, y_pred_proba_ppp1)\n",
        "print(f\"The ROC-AUC score of Custom Perceptron model is {roc_auc_ppp1:5f}\")"
      ],
      "metadata": {
        "execution": {
          "iopub.status.busy": "2024-07-05T17:15:48.2699Z",
          "iopub.execute_input": "2024-07-05T17:15:48.270354Z",
          "iopub.status.idle": "2024-07-05T17:15:48.282884Z",
          "shell.execute_reply.started": "2024-07-05T17:15:48.270321Z",
          "shell.execute_reply": "2024-07-05T17:15:48.281145Z"
        },
        "trusted": true,
        "id": "8s78W6z7ggHP"
      },
      "execution_count": null,
      "outputs": []
    },
    {
      "cell_type": "code",
      "source": [
        "fpr_ppp1, tpr_ppp1, _ = roc_curve(y_test, y_pred_proba_ppp1)\n",
        "plt.plot(fpr_ppp1, tpr_ppp1, label='Custom Perceptron (AUC = {:.5f})'.format(roc_auc_ppp1))\n",
        "plt.xlabel('False Positive Rate')\n",
        "plt.ylabel('True Positive Rate')\n",
        "plt.title('ROC Curve for Custom Perceptron Model')\n",
        "plt.text(0.6, 0.2, f'AUC = {roc_auc_ppp1:.5f}', fontsize=12, color='navy')\n",
        "plt.show()"
      ],
      "metadata": {
        "execution": {
          "iopub.status.busy": "2024-07-05T17:15:48.619625Z",
          "iopub.execute_input": "2024-07-05T17:15:48.620126Z",
          "iopub.status.idle": "2024-07-05T17:15:48.927854Z",
          "shell.execute_reply.started": "2024-07-05T17:15:48.620092Z",
          "shell.execute_reply": "2024-07-05T17:15:48.925962Z"
        },
        "trusted": true,
        "id": "aAiC-OzWggHP"
      },
      "execution_count": null,
      "outputs": []
    },
    {
      "cell_type": "markdown",
      "source": [
        "<h1>Comparision of Models</h1>"
      ],
      "metadata": {
        "id": "dA0JxwhXggHP"
      }
    },
    {
      "cell_type": "code",
      "source": [
        "metrics = DataFrame({\"KNN\":[accuracy_knn, f1_knn, roc_auc_knn],\n",
        "                     \"Perceptron\":[accuracy_ppp, f1_ppp, roc_auc_ppp],\n",
        "                     \"Custom Perceptron\":[accuracy_ppp1, f1_ppp1, roc_auc_ppp1],},\n",
        "                    index = [\"Accuracy\", \"F1 Score\", \"ROC AUC Score\"])\n",
        "metrics = metrics.rename_axis('Metrics')\n",
        "display(metrics)\n",
        "\n"
      ],
      "metadata": {
        "execution": {
          "iopub.status.busy": "2024-07-05T17:15:49.299082Z",
          "iopub.execute_input": "2024-07-05T17:15:49.300212Z",
          "iopub.status.idle": "2024-07-05T17:15:49.31705Z",
          "shell.execute_reply.started": "2024-07-05T17:15:49.300143Z",
          "shell.execute_reply": "2024-07-05T17:15:49.315654Z"
        },
        "trusted": true,
        "id": "lu-QRplQggHQ"
      },
      "execution_count": null,
      "outputs": []
    },
    {
      "cell_type": "code",
      "source": [
        "plt.plot(fpr_knn, tpr_knn, label='KNN (AUC = {:.5f})'.format(roc_auc_knn), color = \"red\", alpha = 0.5)\n",
        "plt.plot(fpr_ppp, tpr_ppp, label='Perceptron (AUC = {:.5f})'.format(roc_auc_ppp),color = \"green\", alpha = 0.5)\n",
        "plt.plot(fpr_ppp1, tpr_ppp1, label='Custom Perceptron (AUC = {:.5f})'.format(roc_auc_ppp1),color = \"blue\", alpha = 0.5)\n",
        "plt.xlabel('False Positive Rate')\n",
        "plt.ylabel('True Positive Rate')\n",
        "plt.title('Comparision of ROC Curve for KNN, Perceptron and Custom Perceptron')\n",
        "plt.legend(loc='lower right')\n",
        "plt.show()"
      ],
      "metadata": {
        "execution": {
          "iopub.status.busy": "2024-07-05T17:15:49.663744Z",
          "iopub.execute_input": "2024-07-05T17:15:49.664153Z",
          "iopub.status.idle": "2024-07-05T17:15:49.979588Z",
          "shell.execute_reply.started": "2024-07-05T17:15:49.664121Z",
          "shell.execute_reply": "2024-07-05T17:15:49.978267Z"
        },
        "trusted": true,
        "id": "ekYo__R3ggHQ"
      },
      "execution_count": null,
      "outputs": []
    }
  ]
}