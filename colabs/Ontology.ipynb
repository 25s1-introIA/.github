{
  "nbformat": 4,
  "nbformat_minor": 0,
  "metadata": {
    "colab": {
      "provenance": []
    },
    "kernelspec": {
      "name": "python3",
      "display_name": "Python 3"
    },
    "language_info": {
      "name": "python"
    }
  },
  "cells": [
    {
      "cell_type": "code",
      "execution_count": 1,
      "metadata": {
        "colab": {
          "base_uri": "https://localhost:8080/"
        },
        "id": "VAqu4kPwmgli",
        "outputId": "f0e8769e-60df-4502-e4ca-2e6861997831"
      },
      "outputs": [
        {
          "output_type": "stream",
          "name": "stdout",
          "text": [
            "Collecting owlready2\n",
            "  Downloading owlready2-0.47.tar.gz (27.3 MB)\n",
            "\u001b[2K     \u001b[90m━━━━━━━━━━━━━━━━━━━━━━━━━━━━━━━━━━━━━━━━\u001b[0m \u001b[32m27.3/27.3 MB\u001b[0m \u001b[31m32.4 MB/s\u001b[0m eta \u001b[36m0:00:00\u001b[0m\n",
            "\u001b[?25h  Installing build dependencies ... \u001b[?25l\u001b[?25hdone\n",
            "  Getting requirements to build wheel ... \u001b[?25l\u001b[?25hdone\n",
            "  Preparing metadata (pyproject.toml) ... \u001b[?25l\u001b[?25hdone\n",
            "Collecting rdflib\n",
            "  Downloading rdflib-7.1.4-py3-none-any.whl.metadata (11 kB)\n",
            "Requirement already satisfied: pyparsing<4,>=2.1.0 in /usr/local/lib/python3.11/dist-packages (from rdflib) (3.2.3)\n",
            "Downloading rdflib-7.1.4-py3-none-any.whl (565 kB)\n",
            "\u001b[2K   \u001b[90m━━━━━━━━━━━━━━━━━━━━━━━━━━━━━━━━━━━━━━━━\u001b[0m \u001b[32m565.1/565.1 kB\u001b[0m \u001b[31m30.0 MB/s\u001b[0m eta \u001b[36m0:00:00\u001b[0m\n",
            "\u001b[?25hBuilding wheels for collected packages: owlready2\n",
            "  Building wheel for owlready2 (pyproject.toml) ... \u001b[?25l\u001b[?25hdone\n",
            "  Created wheel for owlready2: filename=owlready2-0.47-cp311-cp311-linux_x86_64.whl size=24577496 sha256=aa62cea98af1a2a0c95cbc04a7a43afedb2b96c449a94aaa6c1c1b79c57c4b01\n",
            "  Stored in directory: /root/.cache/pip/wheels/25/9a/a3/fb1ac6339caa859c8bb18d685736168b0b51d851af13d81d52\n",
            "Successfully built owlready2\n",
            "Installing collected packages: rdflib, owlready2\n",
            "Successfully installed owlready2-0.47 rdflib-7.1.4\n"
          ]
        }
      ],
      "source": [
        "!pip install owlready2 rdflib"
      ]
    },
    {
      "cell_type": "code",
      "source": [
        "from owlready2 import *\n",
        "import pandas as pd\n",
        "import random\n",
        "\n",
        "# 1. Ontology Builder\n",
        "class IndustrialOntology:\n",
        "    def __init__(self, ontology_path=\"ontology.owl\"):\n",
        "        self.ontology_path = ontology_path\n",
        "        self.onto = get_ontology(\"http://example.org/industrial.owl\")\n",
        "\n",
        "    def define_classes_relations(self):\n",
        "        with self.onto:\n",
        "            class Produto(Thing): pass\n",
        "            class Categoria(Thing): pass\n",
        "            class Aplicacao(Thing): pass\n",
        "\n",
        "            class pertence_a(Produto >> Categoria): pass\n",
        "            class usado_em(Produto >> Aplicacao): pass\n",
        "\n",
        "            class has_id(DataProperty, FunctionalProperty):\n",
        "                domain = [Produto]\n",
        "                range = [str]\n",
        "\n",
        "    def save_ontology(self):\n",
        "        self.onto.save(file=self.ontology_path)\n",
        "\n",
        "\n",
        "# 2. Data Loader\n",
        "class DataLoader:\n",
        "    def __init__(self, data_path=\"default.csv\"):\n",
        "        self.data_path = data_path\n",
        "        self.data = None\n",
        "\n",
        "    def load_data(self):\n",
        "        self.data = pd.read_csv(self.data_path)\n",
        "\n",
        "    def enrich_data_with_ontology(self, ontology_obj):\n",
        "        Produto = ontology_obj.onto.Produto\n",
        "        Categoria = ontology_obj.onto.Categoria\n",
        "        Aplicacao = ontology_obj.onto.Aplicacao\n",
        "\n",
        "        for _, row in self.data.iterrows():\n",
        "            #print(row)\n",
        "            product_id = str(row[\"product_id\"])\n",
        "            category_id = str(row[\"category\"])\n",
        "            application_id = str(row[\"application\"])\n",
        "\n",
        "            produto = Produto(product_id)\n",
        "            produto.has_id = product_id\n",
        "\n",
        "            print(produto)\n",
        "\n",
        "            categoria = Categoria(category_id)\n",
        "            aplicacao = Aplicacao(application_id)\n",
        "\n",
        "            produto.pertence_a.append(categoria)\n",
        "            produto.usado_em.append(aplicacao)\n",
        "\n",
        "\n",
        "\n"
      ],
      "metadata": {
        "id": "bA487V-3mk7o"
      },
      "execution_count": 54,
      "outputs": []
    },
    {
      "cell_type": "code",
      "source": [
        "import pandas as pd\n",
        "\n",
        "df = pd.read_csv('products_new.csv')\n",
        "df"
      ],
      "metadata": {
        "colab": {
          "base_uri": "https://localhost:8080/",
          "height": 206
        },
        "id": "r4ukk65anRJ9",
        "outputId": "9bcb47b4-b423-407d-d183-bf6b6a3a5f1e"
      },
      "execution_count": 53,
      "outputs": [
        {
          "output_type": "execute_result",
          "data": {
            "text/plain": [
              "  product_id        product_name       category           application user_id\n",
              "0      P1234      Motor_Eletrico        Motores  Automacao_Industrial   U5678\n",
              "1      P5678    Bomba_Hidraulica         Bombas            Hidraulica   U1234\n",
              "2     P91011   Sensor_de_Pressao       Sensores         Monitoramento   U5678\n",
              "3      P1213  Valvula_Pneumatica       Valvulas     Controle_de_Fluxo  U91011\n",
              "4      P1415     Controlador_PLC  Controladores             Automacao   U1415"
            ],
            "text/html": [
              "\n",
              "  <div id=\"df-489896d2-92bc-4ee3-8631-b0bd59583652\" class=\"colab-df-container\">\n",
              "    <div>\n",
              "<style scoped>\n",
              "    .dataframe tbody tr th:only-of-type {\n",
              "        vertical-align: middle;\n",
              "    }\n",
              "\n",
              "    .dataframe tbody tr th {\n",
              "        vertical-align: top;\n",
              "    }\n",
              "\n",
              "    .dataframe thead th {\n",
              "        text-align: right;\n",
              "    }\n",
              "</style>\n",
              "<table border=\"1\" class=\"dataframe\">\n",
              "  <thead>\n",
              "    <tr style=\"text-align: right;\">\n",
              "      <th></th>\n",
              "      <th>product_id</th>\n",
              "      <th>product_name</th>\n",
              "      <th>category</th>\n",
              "      <th>application</th>\n",
              "      <th>user_id</th>\n",
              "    </tr>\n",
              "  </thead>\n",
              "  <tbody>\n",
              "    <tr>\n",
              "      <th>0</th>\n",
              "      <td>P1234</td>\n",
              "      <td>Motor_Eletrico</td>\n",
              "      <td>Motores</td>\n",
              "      <td>Automacao_Industrial</td>\n",
              "      <td>U5678</td>\n",
              "    </tr>\n",
              "    <tr>\n",
              "      <th>1</th>\n",
              "      <td>P5678</td>\n",
              "      <td>Bomba_Hidraulica</td>\n",
              "      <td>Bombas</td>\n",
              "      <td>Hidraulica</td>\n",
              "      <td>U1234</td>\n",
              "    </tr>\n",
              "    <tr>\n",
              "      <th>2</th>\n",
              "      <td>P91011</td>\n",
              "      <td>Sensor_de_Pressao</td>\n",
              "      <td>Sensores</td>\n",
              "      <td>Monitoramento</td>\n",
              "      <td>U5678</td>\n",
              "    </tr>\n",
              "    <tr>\n",
              "      <th>3</th>\n",
              "      <td>P1213</td>\n",
              "      <td>Valvula_Pneumatica</td>\n",
              "      <td>Valvulas</td>\n",
              "      <td>Controle_de_Fluxo</td>\n",
              "      <td>U91011</td>\n",
              "    </tr>\n",
              "    <tr>\n",
              "      <th>4</th>\n",
              "      <td>P1415</td>\n",
              "      <td>Controlador_PLC</td>\n",
              "      <td>Controladores</td>\n",
              "      <td>Automacao</td>\n",
              "      <td>U1415</td>\n",
              "    </tr>\n",
              "  </tbody>\n",
              "</table>\n",
              "</div>\n",
              "    <div class=\"colab-df-buttons\">\n",
              "\n",
              "  <div class=\"colab-df-container\">\n",
              "    <button class=\"colab-df-convert\" onclick=\"convertToInteractive('df-489896d2-92bc-4ee3-8631-b0bd59583652')\"\n",
              "            title=\"Convert this dataframe to an interactive table.\"\n",
              "            style=\"display:none;\">\n",
              "\n",
              "  <svg xmlns=\"http://www.w3.org/2000/svg\" height=\"24px\" viewBox=\"0 -960 960 960\">\n",
              "    <path d=\"M120-120v-720h720v720H120Zm60-500h600v-160H180v160Zm220 220h160v-160H400v160Zm0 220h160v-160H400v160ZM180-400h160v-160H180v160Zm440 0h160v-160H620v160ZM180-180h160v-160H180v160Zm440 0h160v-160H620v160Z\"/>\n",
              "  </svg>\n",
              "    </button>\n",
              "\n",
              "  <style>\n",
              "    .colab-df-container {\n",
              "      display:flex;\n",
              "      gap: 12px;\n",
              "    }\n",
              "\n",
              "    .colab-df-convert {\n",
              "      background-color: #E8F0FE;\n",
              "      border: none;\n",
              "      border-radius: 50%;\n",
              "      cursor: pointer;\n",
              "      display: none;\n",
              "      fill: #1967D2;\n",
              "      height: 32px;\n",
              "      padding: 0 0 0 0;\n",
              "      width: 32px;\n",
              "    }\n",
              "\n",
              "    .colab-df-convert:hover {\n",
              "      background-color: #E2EBFA;\n",
              "      box-shadow: 0px 1px 2px rgba(60, 64, 67, 0.3), 0px 1px 3px 1px rgba(60, 64, 67, 0.15);\n",
              "      fill: #174EA6;\n",
              "    }\n",
              "\n",
              "    .colab-df-buttons div {\n",
              "      margin-bottom: 4px;\n",
              "    }\n",
              "\n",
              "    [theme=dark] .colab-df-convert {\n",
              "      background-color: #3B4455;\n",
              "      fill: #D2E3FC;\n",
              "    }\n",
              "\n",
              "    [theme=dark] .colab-df-convert:hover {\n",
              "      background-color: #434B5C;\n",
              "      box-shadow: 0px 1px 3px 1px rgba(0, 0, 0, 0.15);\n",
              "      filter: drop-shadow(0px 1px 2px rgba(0, 0, 0, 0.3));\n",
              "      fill: #FFFFFF;\n",
              "    }\n",
              "  </style>\n",
              "\n",
              "    <script>\n",
              "      const buttonEl =\n",
              "        document.querySelector('#df-489896d2-92bc-4ee3-8631-b0bd59583652 button.colab-df-convert');\n",
              "      buttonEl.style.display =\n",
              "        google.colab.kernel.accessAllowed ? 'block' : 'none';\n",
              "\n",
              "      async function convertToInteractive(key) {\n",
              "        const element = document.querySelector('#df-489896d2-92bc-4ee3-8631-b0bd59583652');\n",
              "        const dataTable =\n",
              "          await google.colab.kernel.invokeFunction('convertToInteractive',\n",
              "                                                    [key], {});\n",
              "        if (!dataTable) return;\n",
              "\n",
              "        const docLinkHtml = 'Like what you see? Visit the ' +\n",
              "          '<a target=\"_blank\" href=https://colab.research.google.com/notebooks/data_table.ipynb>data table notebook</a>'\n",
              "          + ' to learn more about interactive tables.';\n",
              "        element.innerHTML = '';\n",
              "        dataTable['output_type'] = 'display_data';\n",
              "        await google.colab.output.renderOutput(dataTable, element);\n",
              "        const docLink = document.createElement('div');\n",
              "        docLink.innerHTML = docLinkHtml;\n",
              "        element.appendChild(docLink);\n",
              "      }\n",
              "    </script>\n",
              "  </div>\n",
              "\n",
              "\n",
              "<div id=\"df-f824c374-8bd1-4f93-83d0-17409da03cf0\">\n",
              "  <button class=\"colab-df-quickchart\" onclick=\"quickchart('df-f824c374-8bd1-4f93-83d0-17409da03cf0')\"\n",
              "            title=\"Suggest charts\"\n",
              "            style=\"display:none;\">\n",
              "\n",
              "<svg xmlns=\"http://www.w3.org/2000/svg\" height=\"24px\"viewBox=\"0 0 24 24\"\n",
              "     width=\"24px\">\n",
              "    <g>\n",
              "        <path d=\"M19 3H5c-1.1 0-2 .9-2 2v14c0 1.1.9 2 2 2h14c1.1 0 2-.9 2-2V5c0-1.1-.9-2-2-2zM9 17H7v-7h2v7zm4 0h-2V7h2v10zm4 0h-2v-4h2v4z\"/>\n",
              "    </g>\n",
              "</svg>\n",
              "  </button>\n",
              "\n",
              "<style>\n",
              "  .colab-df-quickchart {\n",
              "      --bg-color: #E8F0FE;\n",
              "      --fill-color: #1967D2;\n",
              "      --hover-bg-color: #E2EBFA;\n",
              "      --hover-fill-color: #174EA6;\n",
              "      --disabled-fill-color: #AAA;\n",
              "      --disabled-bg-color: #DDD;\n",
              "  }\n",
              "\n",
              "  [theme=dark] .colab-df-quickchart {\n",
              "      --bg-color: #3B4455;\n",
              "      --fill-color: #D2E3FC;\n",
              "      --hover-bg-color: #434B5C;\n",
              "      --hover-fill-color: #FFFFFF;\n",
              "      --disabled-bg-color: #3B4455;\n",
              "      --disabled-fill-color: #666;\n",
              "  }\n",
              "\n",
              "  .colab-df-quickchart {\n",
              "    background-color: var(--bg-color);\n",
              "    border: none;\n",
              "    border-radius: 50%;\n",
              "    cursor: pointer;\n",
              "    display: none;\n",
              "    fill: var(--fill-color);\n",
              "    height: 32px;\n",
              "    padding: 0;\n",
              "    width: 32px;\n",
              "  }\n",
              "\n",
              "  .colab-df-quickchart:hover {\n",
              "    background-color: var(--hover-bg-color);\n",
              "    box-shadow: 0 1px 2px rgba(60, 64, 67, 0.3), 0 1px 3px 1px rgba(60, 64, 67, 0.15);\n",
              "    fill: var(--button-hover-fill-color);\n",
              "  }\n",
              "\n",
              "  .colab-df-quickchart-complete:disabled,\n",
              "  .colab-df-quickchart-complete:disabled:hover {\n",
              "    background-color: var(--disabled-bg-color);\n",
              "    fill: var(--disabled-fill-color);\n",
              "    box-shadow: none;\n",
              "  }\n",
              "\n",
              "  .colab-df-spinner {\n",
              "    border: 2px solid var(--fill-color);\n",
              "    border-color: transparent;\n",
              "    border-bottom-color: var(--fill-color);\n",
              "    animation:\n",
              "      spin 1s steps(1) infinite;\n",
              "  }\n",
              "\n",
              "  @keyframes spin {\n",
              "    0% {\n",
              "      border-color: transparent;\n",
              "      border-bottom-color: var(--fill-color);\n",
              "      border-left-color: var(--fill-color);\n",
              "    }\n",
              "    20% {\n",
              "      border-color: transparent;\n",
              "      border-left-color: var(--fill-color);\n",
              "      border-top-color: var(--fill-color);\n",
              "    }\n",
              "    30% {\n",
              "      border-color: transparent;\n",
              "      border-left-color: var(--fill-color);\n",
              "      border-top-color: var(--fill-color);\n",
              "      border-right-color: var(--fill-color);\n",
              "    }\n",
              "    40% {\n",
              "      border-color: transparent;\n",
              "      border-right-color: var(--fill-color);\n",
              "      border-top-color: var(--fill-color);\n",
              "    }\n",
              "    60% {\n",
              "      border-color: transparent;\n",
              "      border-right-color: var(--fill-color);\n",
              "    }\n",
              "    80% {\n",
              "      border-color: transparent;\n",
              "      border-right-color: var(--fill-color);\n",
              "      border-bottom-color: var(--fill-color);\n",
              "    }\n",
              "    90% {\n",
              "      border-color: transparent;\n",
              "      border-bottom-color: var(--fill-color);\n",
              "    }\n",
              "  }\n",
              "</style>\n",
              "\n",
              "  <script>\n",
              "    async function quickchart(key) {\n",
              "      const quickchartButtonEl =\n",
              "        document.querySelector('#' + key + ' button');\n",
              "      quickchartButtonEl.disabled = true;  // To prevent multiple clicks.\n",
              "      quickchartButtonEl.classList.add('colab-df-spinner');\n",
              "      try {\n",
              "        const charts = await google.colab.kernel.invokeFunction(\n",
              "            'suggestCharts', [key], {});\n",
              "      } catch (error) {\n",
              "        console.error('Error during call to suggestCharts:', error);\n",
              "      }\n",
              "      quickchartButtonEl.classList.remove('colab-df-spinner');\n",
              "      quickchartButtonEl.classList.add('colab-df-quickchart-complete');\n",
              "    }\n",
              "    (() => {\n",
              "      let quickchartButtonEl =\n",
              "        document.querySelector('#df-f824c374-8bd1-4f93-83d0-17409da03cf0 button');\n",
              "      quickchartButtonEl.style.display =\n",
              "        google.colab.kernel.accessAllowed ? 'block' : 'none';\n",
              "    })();\n",
              "  </script>\n",
              "</div>\n",
              "\n",
              "  <div id=\"id_db1ec25b-e2b0-4a3a-ae67-4009e0a2153b\">\n",
              "    <style>\n",
              "      .colab-df-generate {\n",
              "        background-color: #E8F0FE;\n",
              "        border: none;\n",
              "        border-radius: 50%;\n",
              "        cursor: pointer;\n",
              "        display: none;\n",
              "        fill: #1967D2;\n",
              "        height: 32px;\n",
              "        padding: 0 0 0 0;\n",
              "        width: 32px;\n",
              "      }\n",
              "\n",
              "      .colab-df-generate:hover {\n",
              "        background-color: #E2EBFA;\n",
              "        box-shadow: 0px 1px 2px rgba(60, 64, 67, 0.3), 0px 1px 3px 1px rgba(60, 64, 67, 0.15);\n",
              "        fill: #174EA6;\n",
              "      }\n",
              "\n",
              "      [theme=dark] .colab-df-generate {\n",
              "        background-color: #3B4455;\n",
              "        fill: #D2E3FC;\n",
              "      }\n",
              "\n",
              "      [theme=dark] .colab-df-generate:hover {\n",
              "        background-color: #434B5C;\n",
              "        box-shadow: 0px 1px 3px 1px rgba(0, 0, 0, 0.15);\n",
              "        filter: drop-shadow(0px 1px 2px rgba(0, 0, 0, 0.3));\n",
              "        fill: #FFFFFF;\n",
              "      }\n",
              "    </style>\n",
              "    <button class=\"colab-df-generate\" onclick=\"generateWithVariable('df')\"\n",
              "            title=\"Generate code using this dataframe.\"\n",
              "            style=\"display:none;\">\n",
              "\n",
              "  <svg xmlns=\"http://www.w3.org/2000/svg\" height=\"24px\"viewBox=\"0 0 24 24\"\n",
              "       width=\"24px\">\n",
              "    <path d=\"M7,19H8.4L18.45,9,17,7.55,7,17.6ZM5,21V16.75L18.45,3.32a2,2,0,0,1,2.83,0l1.4,1.43a1.91,1.91,0,0,1,.58,1.4,1.91,1.91,0,0,1-.58,1.4L9.25,21ZM18.45,9,17,7.55Zm-12,3A5.31,5.31,0,0,0,4.9,8.1,5.31,5.31,0,0,0,1,6.5,5.31,5.31,0,0,0,4.9,4.9,5.31,5.31,0,0,0,6.5,1,5.31,5.31,0,0,0,8.1,4.9,5.31,5.31,0,0,0,12,6.5,5.46,5.46,0,0,0,6.5,12Z\"/>\n",
              "  </svg>\n",
              "    </button>\n",
              "    <script>\n",
              "      (() => {\n",
              "      const buttonEl =\n",
              "        document.querySelector('#id_db1ec25b-e2b0-4a3a-ae67-4009e0a2153b button.colab-df-generate');\n",
              "      buttonEl.style.display =\n",
              "        google.colab.kernel.accessAllowed ? 'block' : 'none';\n",
              "\n",
              "      buttonEl.onclick = () => {\n",
              "        google.colab.notebook.generateWithVariable('df');\n",
              "      }\n",
              "      })();\n",
              "    </script>\n",
              "  </div>\n",
              "\n",
              "    </div>\n",
              "  </div>\n"
            ],
            "application/vnd.google.colaboratory.intrinsic+json": {
              "type": "dataframe",
              "variable_name": "df",
              "summary": "{\n  \"name\": \"df\",\n  \"rows\": 5,\n  \"fields\": [\n    {\n      \"column\": \"product_id\",\n      \"properties\": {\n        \"dtype\": \"string\",\n        \"num_unique_values\": 5,\n        \"samples\": [\n          \"P5678\",\n          \"P1415\",\n          \"P91011\"\n        ],\n        \"semantic_type\": \"\",\n        \"description\": \"\"\n      }\n    },\n    {\n      \"column\": \"product_name\",\n      \"properties\": {\n        \"dtype\": \"string\",\n        \"num_unique_values\": 5,\n        \"samples\": [\n          \"Bomba_Hidraulica\",\n          \"Controlador_PLC\",\n          \"Sensor_de_Pressao\"\n        ],\n        \"semantic_type\": \"\",\n        \"description\": \"\"\n      }\n    },\n    {\n      \"column\": \"category\",\n      \"properties\": {\n        \"dtype\": \"string\",\n        \"num_unique_values\": 5,\n        \"samples\": [\n          \"Bombas\",\n          \"Controladores\",\n          \"Sensores\"\n        ],\n        \"semantic_type\": \"\",\n        \"description\": \"\"\n      }\n    },\n    {\n      \"column\": \"application\",\n      \"properties\": {\n        \"dtype\": \"string\",\n        \"num_unique_values\": 5,\n        \"samples\": [\n          \"Hidraulica\",\n          \"Automacao\",\n          \"Monitoramento\"\n        ],\n        \"semantic_type\": \"\",\n        \"description\": \"\"\n      }\n    },\n    {\n      \"column\": \"user_id\",\n      \"properties\": {\n        \"dtype\": \"string\",\n        \"num_unique_values\": 4,\n        \"samples\": [\n          \"U1234\",\n          \"U1415\",\n          \"U5678\"\n        ],\n        \"semantic_type\": \"\",\n        \"description\": \"\"\n      }\n    }\n  ]\n}"
            }
          },
          "metadata": {},
          "execution_count": 53
        }
      ]
    },
    {
      "cell_type": "code",
      "source": [
        "\n",
        "# Step 1: Create and define ontology\n",
        "ontology = IndustrialOntology()\n",
        "ontology.define_classes_relations()\n",
        "\n",
        "# Step 2: Load data and enrich ontology\n",
        "data_loader = DataLoader(\"products_new.csv\")\n",
        "data_loader.load_data()\n",
        "data_loader.enrich_data_with_ontology(ontology)\n",
        "\n",
        "# Step 3: Save the updated ontology\n",
        "ontology.save_ontology()\n"
      ],
      "metadata": {
        "colab": {
          "base_uri": "https://localhost:8080/"
        },
        "id": "VHtgvV0CnJov",
        "outputId": "f519ae7c-a29b-42f7-9bc9-1656155c3604"
      },
      "execution_count": 55,
      "outputs": [
        {
          "output_type": "stream",
          "name": "stdout",
          "text": [
            "industrial.P1234\n",
            "industrial.P5678\n",
            "industrial.P91011\n",
            "industrial.P1213\n",
            "industrial.P1415\n"
          ]
        }
      ]
    },
    {
      "cell_type": "code",
      "source": [
        "# 3. Recommender System\n",
        "class RecommenderSystem:\n",
        "    def __init__(self, ontology_wrapper, data):\n",
        "        self.ontology_wrapper = ontology_wrapper\n",
        "        self.ontology = ontology_wrapper.onto\n",
        "        self.data = data\n",
        "\n",
        "    def recommend_by_similarity(self, product_id):\n",
        "        produto = self.ontology.search_one(has_id=product_id)\n",
        "        print(produto)\n",
        "        if not produto or not produto.pertence_a:\n",
        "            return None\n",
        "\n",
        "        categoria = produto.pertence_a[0]\n",
        "        for p in self.ontology_wrapper.onto.Produto.instances():\n",
        "            if categoria in p.pertence_a and p != produto:\n",
        "                return p.name\n",
        "        return None\n",
        "\n",
        "    def recommend_by_compatibility(self, product_id):\n",
        "        produto = self.ontology.search_one(has_id=product_id)\n",
        "        if not produto or not produto.usado_em:\n",
        "            return None\n",
        "\n",
        "        aplicacao = produto.usado_em[0]\n",
        "        for p in self.ontology_wrapper.onto.Produto.instances():\n",
        "            if aplicacao in p.usado_em and p != produto:\n",
        "                return p.name\n",
        "        return None\n",
        "\n",
        "    def recommend_by_profile(self, user_id):\n",
        "        user_purchases = self.data[self.data[\"user_id\"] == user_id][\"product_id\"].tolist()\n",
        "        recommendations = set()\n",
        "        for prod_id in user_purchases:\n",
        "            produto = self.ontology.search_one(has_id=prod_id)\n",
        "            if produto and produto.pertence_a:\n",
        "                categoria = produto.pertence_a[0]\n",
        "                for p in self.ontology_wrapper.onto.Produto.instances():\n",
        "                    if categoria in p.pertence_a and p != produto:\n",
        "                        recommendations.add(p.name)\n",
        "        return list(recommendations)"
      ],
      "metadata": {
        "id": "OYjlFivYnWPQ"
      },
      "execution_count": 21,
      "outputs": []
    },
    {
      "cell_type": "code",
      "source": [
        "# 4. Shopping Cart\n",
        "class ShoppingCart:\n",
        "    def __init__(self):\n",
        "        self.items = []\n",
        "\n",
        "    def add_item(self, product_id):\n",
        "        self.items.append(product_id)\n",
        "\n",
        "    def get_recommendations(self, recommender):\n",
        "        recommendations = set()\n",
        "        for item in self.items:\n",
        "            print(item)\n",
        "            sim = recommender.recommend_by_similarity(item)\n",
        "            comp = recommender.recommend_by_compatibility(item)\n",
        "            if sim:\n",
        "                recommendations.add(sim)\n",
        "            if comp:\n",
        "                recommendations.add(comp)\n",
        "        return list(recommendations)"
      ],
      "metadata": {
        "id": "WXo5na3gphfO"
      },
      "execution_count": 22,
      "outputs": []
    },
    {
      "cell_type": "code",
      "source": [
        "recommender = RecommenderSystem(ontology, data_loader.data)\n"
      ],
      "metadata": {
        "id": "O6IMKGwZpl8M"
      },
      "execution_count": 23,
      "outputs": []
    },
    {
      "cell_type": "code",
      "source": [
        "cart = ShoppingCart()\n",
        "cart.add_item(\"P1234\")\n",
        "cart.add_item(\"P5678\")\n",
        "\n"
      ],
      "metadata": {
        "id": "MVFQSYa4pwu2"
      },
      "execution_count": 61,
      "outputs": []
    },
    {
      "cell_type": "code",
      "source": [
        "print(\"🛒 Recomendações para Cesta:\", cart.get_recommendations(recommender))\n"
      ],
      "metadata": {
        "colab": {
          "base_uri": "https://localhost:8080/"
        },
        "id": "ZN_R8uTZp2NN",
        "outputId": "3e35bdd2-b860-4357-d230-8de0a1a53b9d"
      },
      "execution_count": 62,
      "outputs": [
        {
          "output_type": "stream",
          "name": "stdout",
          "text": [
            "P1234\n",
            "industrial.P1234\n",
            "P5678\n",
            "industrial.P5678\n",
            "🛒 Recomendações para Cesta: ['Motor_Eletrico', 'Bomba_Hidraulica']\n"
          ]
        }
      ]
    },
    {
      "cell_type": "code",
      "source": [
        "print(\"📎 Similaridade:\", recommender.recommend_by_similarity(\"P1234\"))\n"
      ],
      "metadata": {
        "colab": {
          "base_uri": "https://localhost:8080/"
        },
        "id": "_MLbQON1p6kO",
        "outputId": "aad6f00a-c60d-4500-dd92-48f494521e7e"
      },
      "execution_count": 63,
      "outputs": [
        {
          "output_type": "stream",
          "name": "stdout",
          "text": [
            "industrial.P1234\n",
            "📎 Similaridade: Motor_Eletrico\n"
          ]
        }
      ]
    },
    {
      "cell_type": "code",
      "source": [
        "print(\"🔗 Compatibilidade:\", recommender.recommend_by_compatibility(\"P1234\"))\n"
      ],
      "metadata": {
        "colab": {
          "base_uri": "https://localhost:8080/"
        },
        "id": "YOIwZntcp7pm",
        "outputId": "c086a3a6-4aba-4dee-fe3c-a9e70ed011d1"
      },
      "execution_count": 64,
      "outputs": [
        {
          "output_type": "stream",
          "name": "stdout",
          "text": [
            "🔗 Compatibilidade: Motor_Eletrico\n"
          ]
        }
      ]
    },
    {
      "cell_type": "code",
      "source": [
        "print(\"👤 Perfil do Usuário:\", recommender.recommend_by_profile(\"U5678\"))"
      ],
      "metadata": {
        "colab": {
          "base_uri": "https://localhost:8080/"
        },
        "id": "wzecRfzlp9BT",
        "outputId": "c297a4c8-6eb7-411e-ea9c-b8a36ecb8150"
      },
      "execution_count": 65,
      "outputs": [
        {
          "output_type": "stream",
          "name": "stdout",
          "text": [
            "👤 Perfil do Usuário: ['Motor_Eletrico', 'Sensor_de_Pressao']\n"
          ]
        }
      ]
    },
    {
      "cell_type": "code",
      "source": [
        "for p in ontology.onto.Produto.instances():\n",
        "    print(\"👉 Verificando produto:\", p.has_id, \"usado_em:\", [a.name for a in p.usado_em])"
      ],
      "metadata": {
        "colab": {
          "base_uri": "https://localhost:8080/"
        },
        "id": "HEblqZOfqiEZ",
        "outputId": "65f56359-7396-4115-c8b3-3df2b4d1dd11"
      },
      "execution_count": 57,
      "outputs": [
        {
          "output_type": "stream",
          "name": "stdout",
          "text": [
            "👉 Verificando produto: Motor_Eletrico usado_em: ['Automacao_Industrial', 'Automacao_Industrial', 'Automacao_Industrial', 'Automacao_Industrial']\n",
            "👉 Verificando produto: Bomba_Hidraulica usado_em: ['Hidraulica', 'Hidraulica', 'Hidraulica', 'Hidraulica']\n",
            "👉 Verificando produto: Sensor_de_Pressao usado_em: ['Monitoramento', 'Monitoramento', 'Monitoramento', 'Monitoramento']\n",
            "👉 Verificando produto: Valvula_Pneumatica usado_em: ['Controle de Fluxo', 'Controle de Fluxo', 'Controle_de_Fluxo', 'Controle_de_Fluxo']\n",
            "👉 Verificando produto: Controlador_PLC usado_em: ['Automacao', 'Automacao', 'Automacao', 'Automacao']\n",
            "👉 Verificando produto: P1234 usado_em: ['Automacao_Industrial', 'Automacao_Industrial', 'Automacao_Industrial', 'Automacao_Industrial', 'Automacao_Industrial']\n",
            "👉 Verificando produto: P5678 usado_em: ['Hidraulica', 'Hidraulica', 'Hidraulica', 'Hidraulica', 'Hidraulica']\n",
            "👉 Verificando produto: P91011 usado_em: ['Monitoramento', 'Monitoramento', 'Monitoramento', 'Monitoramento', 'Monitoramento']\n",
            "👉 Verificando produto: P1213 usado_em: ['Controle_de_Fluxo', 'Controle_de_Fluxo', 'Controle_de_Fluxo', 'Controle_de_Fluxo', 'Controle_de_Fluxo']\n",
            "👉 Verificando produto: P1415 usado_em: ['Automacao', 'Automacao', 'Automacao', 'Automacao', 'Automacao']\n"
          ]
        }
      ]
    },
    {
      "cell_type": "code",
      "source": [
        "print(\"🔍 Buscando produto:\", \"P1234\")\n",
        "produto = ontology.onto.search_one(has_id=\"P1234\")\n",
        "print(\"🔎 Encontrado:\", produto)"
      ],
      "metadata": {
        "colab": {
          "base_uri": "https://localhost:8080/"
        },
        "id": "XACq0hLYqipl",
        "outputId": "32352446-a6d1-4d00-f5aa-1841681a827e"
      },
      "execution_count": 51,
      "outputs": [
        {
          "output_type": "stream",
          "name": "stdout",
          "text": [
            "🔍 Buscando produto: P1234\n",
            "🔎 Encontrado: industrial.P1234\n"
          ]
        }
      ]
    },
    {
      "cell_type": "code",
      "source": [],
      "metadata": {
        "id": "_hqbPSRKtv-b"
      },
      "execution_count": null,
      "outputs": []
    }
  ]
}