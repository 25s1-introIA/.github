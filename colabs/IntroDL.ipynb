{
  "nbformat": 4,
  "nbformat_minor": 0,
  "metadata": {
    "colab": {
      "provenance": [],
      "gpuType": "T4"
    },
    "kernelspec": {
      "name": "python3",
      "display_name": "Python 3"
    },
    "language_info": {
      "name": "python"
    },
    "accelerator": "GPU"
  },
  "cells": [
    {
      "cell_type": "markdown",
      "source": [
        "#Feedfoward  Neural  Network\n",
        "Fully Connected Network\n",
        "##Deep Learning (MNIST Classification) -  part #4\n"
      ],
      "metadata": {
        "id": "UukB0Jg7cCXV"
      }
    },
    {
      "cell_type": "markdown",
      "source": [
        "##Overfitting and Regularization\n",
        "One question we haven't answered yet is what to do when a model is not performing well. This is very common for Deep Learning models. We train a model and the performance on the test set is disappointing.\n",
        "\n",
        "This issue could be due to many reasons:\n",
        "\n",
        "* too little data\n",
        "* wrong architecture\n",
        "* too little training\n",
        "* wrong hyper-parameters\n",
        "\n",
        "How do we approach debugging and improving a model?\n",
        "\n",
        "This chapter is about a few techniques to do that. We will start by introducing **Learning Curves**, a tool that is useful to decide if more data is needed. Then we will present several **regularization** techniques, that may be useful to fight **Overfitting**. Some of these techniques have been invented very recently.\n",
        "\n",
        "Finally, we will discuss **data augmentation**, which is useful in some cases, e.g., when the input data are images. We will conclude the notebook with a brief part on **hyperparameter optimization**. This is a vast topic, that can be approached in several ways."
      ],
      "metadata": {
        "id": "bM5wpDbRj6OA"
      }
    },
    {
      "cell_type": "code",
      "source": [
        "import numpy as np\n",
        "import matplotlib.pyplot as plt\n",
        "# MNIST digit dataset\n",
        "from tensorflow.keras.datasets import mnist\n",
        "# split train and test datasets\n",
        "(X_train, y_train), (X_test, y_test) = mnist.load_data()\n",
        "# reescalonamento\n",
        "X_train, X_test = X_train / 255.0, X_test / 255.0\n",
        "# não vamos utilizar o reshape pois usaremos a camada Flatten na entrada da rede\n",
        "# X_train = X_train.reshape(-1, 28*28)\n",
        "# X_test = X_test.reshape(-1, 28*28)"
      ],
      "metadata": {
        "id": "mCI1ElwgAu_j",
        "colab": {
          "base_uri": "https://localhost:8080/"
        },
        "outputId": "a2eb3c93-a748-4dcb-8791-eff7ac7c3583"
      },
      "execution_count": null,
      "outputs": [
        {
          "output_type": "stream",
          "name": "stdout",
          "text": [
            "Downloading data from https://storage.googleapis.com/tensorflow/tf-keras-datasets/mnist.npz\n",
            "\u001b[1m11490434/11490434\u001b[0m \u001b[32m━━━━━━━━━━━━━━━━━━━━\u001b[0m\u001b[37m\u001b[0m \u001b[1m0s\u001b[0m 0us/step\n"
          ]
        }
      ]
    },
    {
      "cell_type": "code",
      "source": [
        "import tensorflow as tf\n",
        "from tensorflow.keras import Sequential, backend\n",
        "from tensorflow.keras.layers import Dense, Input, Dropout, Flatten\n",
        "\n",
        "# inicializa a sessão\n",
        "backend.clear_session()\n",
        "# inicialização do modelo\n",
        "model = Sequential(name='Deep1')\n",
        "# Camada de entrada\n",
        "model.add(Input(shape=(28,28), name='input'))\n",
        "# Flatten layer: 28x28 --> 784\n",
        "model.add(Flatten())\n",
        "# hidden layers\n",
        "model.add(Dense(1024, activation='relu', name='first_dense'))\n",
        "model.add(Dense(512, activation='relu', name='second_dense'))\n",
        "model.add(Dense(256, activation='relu', name='third_dense'))\n",
        "model.add(Dense(128, activation='relu', name='fourth_dense'))\n",
        "# saída\n",
        "model.add(Dense(10, activation='softmax', name='output_dense'))\n",
        "# salva os pesos e bias com os valores inicias\n",
        "initial_weights = model.get_weights()\n",
        "model.summary()"
      ],
      "metadata": {
        "id": "YR3AUIdly6hb",
        "colab": {
          "base_uri": "https://localhost:8080/",
          "height": 334
        },
        "outputId": "f052db49-9c59-4a20-a61e-82dbb608ef93"
      },
      "execution_count": null,
      "outputs": [
        {
          "output_type": "display_data",
          "data": {
            "text/plain": [
              "\u001b[1mModel: \"Deep1\"\u001b[0m\n"
            ],
            "text/html": [
              "<pre style=\"white-space:pre;overflow-x:auto;line-height:normal;font-family:Menlo,'DejaVu Sans Mono',consolas,'Courier New',monospace\"><span style=\"font-weight: bold\">Model: \"Deep1\"</span>\n",
              "</pre>\n"
            ]
          },
          "metadata": {}
        },
        {
          "output_type": "display_data",
          "data": {
            "text/plain": [
              "┏━━━━━━━━━━━━━━━━━━━━━━━━━━━━━━━━━┳━━━━━━━━━━━━━━━━━━━━━━━━┳━━━━━━━━━━━━━━━┓\n",
              "┃\u001b[1m \u001b[0m\u001b[1mLayer (type)                   \u001b[0m\u001b[1m \u001b[0m┃\u001b[1m \u001b[0m\u001b[1mOutput Shape          \u001b[0m\u001b[1m \u001b[0m┃\u001b[1m \u001b[0m\u001b[1m      Param #\u001b[0m\u001b[1m \u001b[0m┃\n",
              "┡━━━━━━━━━━━━━━━━━━━━━━━━━━━━━━━━━╇━━━━━━━━━━━━━━━━━━━━━━━━╇━━━━━━━━━━━━━━━┩\n",
              "│ flatten (\u001b[38;5;33mFlatten\u001b[0m)               │ (\u001b[38;5;45mNone\u001b[0m, \u001b[38;5;34m784\u001b[0m)            │             \u001b[38;5;34m0\u001b[0m │\n",
              "├─────────────────────────────────┼────────────────────────┼───────────────┤\n",
              "│ first_dense (\u001b[38;5;33mDense\u001b[0m)             │ (\u001b[38;5;45mNone\u001b[0m, \u001b[38;5;34m1024\u001b[0m)           │       \u001b[38;5;34m803,840\u001b[0m │\n",
              "├─────────────────────────────────┼────────────────────────┼───────────────┤\n",
              "│ second_dense (\u001b[38;5;33mDense\u001b[0m)            │ (\u001b[38;5;45mNone\u001b[0m, \u001b[38;5;34m512\u001b[0m)            │       \u001b[38;5;34m524,800\u001b[0m │\n",
              "├─────────────────────────────────┼────────────────────────┼───────────────┤\n",
              "│ third_dense (\u001b[38;5;33mDense\u001b[0m)             │ (\u001b[38;5;45mNone\u001b[0m, \u001b[38;5;34m256\u001b[0m)            │       \u001b[38;5;34m131,328\u001b[0m │\n",
              "├─────────────────────────────────┼────────────────────────┼───────────────┤\n",
              "│ fourth_dense (\u001b[38;5;33mDense\u001b[0m)            │ (\u001b[38;5;45mNone\u001b[0m, \u001b[38;5;34m128\u001b[0m)            │        \u001b[38;5;34m32,896\u001b[0m │\n",
              "├─────────────────────────────────┼────────────────────────┼───────────────┤\n",
              "│ output_dense (\u001b[38;5;33mDense\u001b[0m)            │ (\u001b[38;5;45mNone\u001b[0m, \u001b[38;5;34m10\u001b[0m)             │         \u001b[38;5;34m1,290\u001b[0m │\n",
              "└─────────────────────────────────┴────────────────────────┴───────────────┘\n"
            ],
            "text/html": [
              "<pre style=\"white-space:pre;overflow-x:auto;line-height:normal;font-family:Menlo,'DejaVu Sans Mono',consolas,'Courier New',monospace\">┏━━━━━━━━━━━━━━━━━━━━━━━━━━━━━━━━━┳━━━━━━━━━━━━━━━━━━━━━━━━┳━━━━━━━━━━━━━━━┓\n",
              "┃<span style=\"font-weight: bold\"> Layer (type)                    </span>┃<span style=\"font-weight: bold\"> Output Shape           </span>┃<span style=\"font-weight: bold\">       Param # </span>┃\n",
              "┡━━━━━━━━━━━━━━━━━━━━━━━━━━━━━━━━━╇━━━━━━━━━━━━━━━━━━━━━━━━╇━━━━━━━━━━━━━━━┩\n",
              "│ flatten (<span style=\"color: #0087ff; text-decoration-color: #0087ff\">Flatten</span>)               │ (<span style=\"color: #00d7ff; text-decoration-color: #00d7ff\">None</span>, <span style=\"color: #00af00; text-decoration-color: #00af00\">784</span>)            │             <span style=\"color: #00af00; text-decoration-color: #00af00\">0</span> │\n",
              "├─────────────────────────────────┼────────────────────────┼───────────────┤\n",
              "│ first_dense (<span style=\"color: #0087ff; text-decoration-color: #0087ff\">Dense</span>)             │ (<span style=\"color: #00d7ff; text-decoration-color: #00d7ff\">None</span>, <span style=\"color: #00af00; text-decoration-color: #00af00\">1024</span>)           │       <span style=\"color: #00af00; text-decoration-color: #00af00\">803,840</span> │\n",
              "├─────────────────────────────────┼────────────────────────┼───────────────┤\n",
              "│ second_dense (<span style=\"color: #0087ff; text-decoration-color: #0087ff\">Dense</span>)            │ (<span style=\"color: #00d7ff; text-decoration-color: #00d7ff\">None</span>, <span style=\"color: #00af00; text-decoration-color: #00af00\">512</span>)            │       <span style=\"color: #00af00; text-decoration-color: #00af00\">524,800</span> │\n",
              "├─────────────────────────────────┼────────────────────────┼───────────────┤\n",
              "│ third_dense (<span style=\"color: #0087ff; text-decoration-color: #0087ff\">Dense</span>)             │ (<span style=\"color: #00d7ff; text-decoration-color: #00d7ff\">None</span>, <span style=\"color: #00af00; text-decoration-color: #00af00\">256</span>)            │       <span style=\"color: #00af00; text-decoration-color: #00af00\">131,328</span> │\n",
              "├─────────────────────────────────┼────────────────────────┼───────────────┤\n",
              "│ fourth_dense (<span style=\"color: #0087ff; text-decoration-color: #0087ff\">Dense</span>)            │ (<span style=\"color: #00d7ff; text-decoration-color: #00d7ff\">None</span>, <span style=\"color: #00af00; text-decoration-color: #00af00\">128</span>)            │        <span style=\"color: #00af00; text-decoration-color: #00af00\">32,896</span> │\n",
              "├─────────────────────────────────┼────────────────────────┼───────────────┤\n",
              "│ output_dense (<span style=\"color: #0087ff; text-decoration-color: #0087ff\">Dense</span>)            │ (<span style=\"color: #00d7ff; text-decoration-color: #00d7ff\">None</span>, <span style=\"color: #00af00; text-decoration-color: #00af00\">10</span>)             │         <span style=\"color: #00af00; text-decoration-color: #00af00\">1,290</span> │\n",
              "└─────────────────────────────────┴────────────────────────┴───────────────┘\n",
              "</pre>\n"
            ]
          },
          "metadata": {}
        },
        {
          "output_type": "display_data",
          "data": {
            "text/plain": [
              "\u001b[1m Total params: \u001b[0m\u001b[38;5;34m1,494,154\u001b[0m (5.70 MB)\n"
            ],
            "text/html": [
              "<pre style=\"white-space:pre;overflow-x:auto;line-height:normal;font-family:Menlo,'DejaVu Sans Mono',consolas,'Courier New',monospace\"><span style=\"font-weight: bold\"> Total params: </span><span style=\"color: #00af00; text-decoration-color: #00af00\">1,494,154</span> (5.70 MB)\n",
              "</pre>\n"
            ]
          },
          "metadata": {}
        },
        {
          "output_type": "display_data",
          "data": {
            "text/plain": [
              "\u001b[1m Trainable params: \u001b[0m\u001b[38;5;34m1,494,154\u001b[0m (5.70 MB)\n"
            ],
            "text/html": [
              "<pre style=\"white-space:pre;overflow-x:auto;line-height:normal;font-family:Menlo,'DejaVu Sans Mono',consolas,'Courier New',monospace\"><span style=\"font-weight: bold\"> Trainable params: </span><span style=\"color: #00af00; text-decoration-color: #00af00\">1,494,154</span> (5.70 MB)\n",
              "</pre>\n"
            ]
          },
          "metadata": {}
        },
        {
          "output_type": "display_data",
          "data": {
            "text/plain": [
              "\u001b[1m Non-trainable params: \u001b[0m\u001b[38;5;34m0\u001b[0m (0.00 B)\n"
            ],
            "text/html": [
              "<pre style=\"white-space:pre;overflow-x:auto;line-height:normal;font-family:Menlo,'DejaVu Sans Mono',consolas,'Courier New',monospace\"><span style=\"font-weight: bold\"> Non-trainable params: </span><span style=\"color: #00af00; text-decoration-color: #00af00\">0</span> (0.00 B)\n",
              "</pre>\n"
            ]
          },
          "metadata": {}
        }
      ]
    },
    {
      "cell_type": "code",
      "source": [
        "# optimizers\n",
        "from tensorflow.keras.optimizers import SGD, Adam, Adagrad, RMSprop, Adadelta\n",
        "# compilando o modelo da rede com learning_rating=0.05\n",
        "model.compile(optimizer=SGD(0.05), loss='sparse_categorical_crossentropy', metrics=['accuracy'])"
      ],
      "metadata": {
        "id": "jm0dTmcWC4pU"
      },
      "execution_count": null,
      "outputs": []
    },
    {
      "cell_type": "code",
      "source": [
        "# função para calcular o tempo de treinamento da rede\n",
        "def processing_time(start_t, finish_t):\n",
        "  tot_seg = finish_t - start_t\n",
        "  t_min = tot_seg // 60\n",
        "  t_seg = tot_seg % 60\n",
        "  print(\"\\nTempo de treinamento da rede:%2im%2is\"% (t_min, t_seg))"
      ],
      "metadata": {
        "id": "pRjgxS-ipVe6"
      },
      "execution_count": null,
      "outputs": []
    },
    {
      "cell_type": "code",
      "source": [
        "import time\n",
        "# início do treinamento da rede\n",
        "start_time = time.process_time()\n",
        "# carrega os pesos e bias com os valores inicias, para um novo treinamento da rede\n",
        "model.set_weights(initial_weights)\n",
        "# treinamento da rede\n",
        "h = model.fit(X_train, y_train, batch_size=64, epochs=15, verbose=1, validation_split=0.1)\n",
        "# tempo total de treinamento da rede\n",
        "processing_time(start_time, time.process_time())"
      ],
      "metadata": {
        "colab": {
          "base_uri": "https://localhost:8080/"
        },
        "id": "hzrNDJKKDdv0",
        "outputId": "9457725b-d1d2-4a6e-f59a-bc031a2a6368"
      },
      "execution_count": null,
      "outputs": [
        {
          "output_type": "stream",
          "name": "stdout",
          "text": [
            "Epoch 1/15\n",
            "\u001b[1m844/844\u001b[0m \u001b[32m━━━━━━━━━━━━━━━━━━━━\u001b[0m\u001b[37m\u001b[0m \u001b[1m6s\u001b[0m 5ms/step - accuracy: 0.7893 - loss: 0.7255 - val_accuracy: 0.9515 - val_loss: 0.1596\n",
            "Epoch 2/15\n",
            "\u001b[1m844/844\u001b[0m \u001b[32m━━━━━━━━━━━━━━━━━━━━\u001b[0m\u001b[37m\u001b[0m \u001b[1m2s\u001b[0m 3ms/step - accuracy: 0.9527 - loss: 0.1566 - val_accuracy: 0.9733 - val_loss: 0.0922\n",
            "Epoch 3/15\n",
            "\u001b[1m844/844\u001b[0m \u001b[32m━━━━━━━━━━━━━━━━━━━━\u001b[0m\u001b[37m\u001b[0m \u001b[1m2s\u001b[0m 3ms/step - accuracy: 0.9716 - loss: 0.0947 - val_accuracy: 0.9752 - val_loss: 0.0825\n",
            "Epoch 4/15\n",
            "\u001b[1m844/844\u001b[0m \u001b[32m━━━━━━━━━━━━━━━━━━━━\u001b[0m\u001b[37m\u001b[0m \u001b[1m3s\u001b[0m 3ms/step - accuracy: 0.9800 - loss: 0.0663 - val_accuracy: 0.9755 - val_loss: 0.0851\n",
            "Epoch 5/15\n",
            "\u001b[1m844/844\u001b[0m \u001b[32m━━━━━━━━━━━━━━━━━━━━\u001b[0m\u001b[37m\u001b[0m \u001b[1m5s\u001b[0m 3ms/step - accuracy: 0.9863 - loss: 0.0468 - val_accuracy: 0.9792 - val_loss: 0.0763\n",
            "Epoch 6/15\n",
            "\u001b[1m844/844\u001b[0m \u001b[32m━━━━━━━━━━━━━━━━━━━━\u001b[0m\u001b[37m\u001b[0m \u001b[1m2s\u001b[0m 3ms/step - accuracy: 0.9897 - loss: 0.0341 - val_accuracy: 0.9807 - val_loss: 0.0655\n",
            "Epoch 7/15\n",
            "\u001b[1m844/844\u001b[0m \u001b[32m━━━━━━━━━━━━━━━━━━━━\u001b[0m\u001b[37m\u001b[0m \u001b[1m3s\u001b[0m 3ms/step - accuracy: 0.9931 - loss: 0.0246 - val_accuracy: 0.9812 - val_loss: 0.0673\n",
            "Epoch 8/15\n",
            "\u001b[1m844/844\u001b[0m \u001b[32m━━━━━━━━━━━━━━━━━━━━\u001b[0m\u001b[37m\u001b[0m \u001b[1m3s\u001b[0m 3ms/step - accuracy: 0.9951 - loss: 0.0181 - val_accuracy: 0.9802 - val_loss: 0.0679\n",
            "Epoch 9/15\n",
            "\u001b[1m844/844\u001b[0m \u001b[32m━━━━━━━━━━━━━━━━━━━━\u001b[0m\u001b[37m\u001b[0m \u001b[1m2s\u001b[0m 3ms/step - accuracy: 0.9977 - loss: 0.0108 - val_accuracy: 0.9817 - val_loss: 0.0734\n",
            "Epoch 10/15\n",
            "\u001b[1m844/844\u001b[0m \u001b[32m━━━━━━━━━━━━━━━━━━━━\u001b[0m\u001b[37m\u001b[0m \u001b[1m2s\u001b[0m 3ms/step - accuracy: 0.9979 - loss: 0.0100 - val_accuracy: 0.9822 - val_loss: 0.0702\n",
            "Epoch 11/15\n",
            "\u001b[1m844/844\u001b[0m \u001b[32m━━━━━━━━━━━━━━━━━━━━\u001b[0m\u001b[37m\u001b[0m \u001b[1m3s\u001b[0m 3ms/step - accuracy: 0.9991 - loss: 0.0061 - val_accuracy: 0.9827 - val_loss: 0.0672\n",
            "Epoch 12/15\n",
            "\u001b[1m844/844\u001b[0m \u001b[32m━━━━━━━━━━━━━━━━━━━━\u001b[0m\u001b[37m\u001b[0m \u001b[1m2s\u001b[0m 3ms/step - accuracy: 0.9998 - loss: 0.0031 - val_accuracy: 0.9830 - val_loss: 0.0684\n",
            "Epoch 13/15\n",
            "\u001b[1m844/844\u001b[0m \u001b[32m━━━━━━━━━━━━━━━━━━━━\u001b[0m\u001b[37m\u001b[0m \u001b[1m3s\u001b[0m 3ms/step - accuracy: 1.0000 - loss: 0.0019 - val_accuracy: 0.9818 - val_loss: 0.0697\n",
            "Epoch 14/15\n",
            "\u001b[1m844/844\u001b[0m \u001b[32m━━━━━━━━━━━━━━━━━━━━\u001b[0m\u001b[37m\u001b[0m \u001b[1m5s\u001b[0m 3ms/step - accuracy: 1.0000 - loss: 0.0015 - val_accuracy: 0.9835 - val_loss: 0.0712\n",
            "Epoch 15/15\n",
            "\u001b[1m844/844\u001b[0m \u001b[32m━━━━━━━━━━━━━━━━━━━━\u001b[0m\u001b[37m\u001b[0m \u001b[1m2s\u001b[0m 3ms/step - accuracy: 1.0000 - loss: 0.0011 - val_accuracy: 0.9823 - val_loss: 0.0724\n",
            "\n",
            "Tempo de treinamento da rede: 0m44s\n"
          ]
        }
      ]
    },
    {
      "cell_type": "code",
      "source": [
        "def plot_acc_loss(h):\n",
        "\n",
        "  plt.figure(figsize = (11,5))\n",
        "  plt.subplot(1,2,1)\n",
        "  plt.plot(h.history['loss'], label = 'Treino')\n",
        "  plt.plot(h.history['val_loss'], label = 'Validação')\n",
        "  plt.xlabel('Épocas')\n",
        "  plt.ylabel('Função Custo')\n",
        "  plt.title('loss')\n",
        "  plt.xticks()\n",
        "  plt.yticks()\n",
        "  plt.legend()\n",
        "  plt.grid()\n",
        "  plt.subplot(1,2,2)\n",
        "  plt.plot(h.history['accuracy'], label = 'Treino')\n",
        "  plt.plot(h.history['val_accuracy'], label = 'Validação')\n",
        "  plt.xlabel('Épocas')\n",
        "  plt.ylabel('Acurácia')\n",
        "  plt.title('accuracy')\n",
        "  plt.xticks()\n",
        "  plt.yticks()\n",
        "  plt.legend()\n",
        "  plt.tight_layout()\n",
        "  plt.grid()\n",
        "  plt.show()"
      ],
      "metadata": {
        "id": "xFfKuCP2y7ek"
      },
      "execution_count": null,
      "outputs": []
    },
    {
      "cell_type": "code",
      "source": [
        "plot_acc_loss(h)"
      ],
      "metadata": {
        "colab": {
          "base_uri": "https://localhost:8080/",
          "height": 507
        },
        "id": "O75_3qMC1Fxx",
        "outputId": "cee8f464-40e6-4059-94fa-9032c0bd8599"
      },
      "execution_count": null,
      "outputs": [
        {
          "output_type": "display_data",
          "data": {
            "text/plain": [
              "<Figure size 1100x500 with 2 Axes>"
            ],
            "image/png": "[encoded data removed]"
          },
          "metadata": {}
        }
      ]
    },
    {
      "cell_type": "markdown",
      "source": [
        "## Overfitting\n",
        "\n",
        "Nota-se nos gráficos acima que obtém-se uma acurácia de ~100% para o dataset de treino e de ~98% nos dados de validação, o que sugere um *overfitting*, demostrando que a rede se tornou *especialista* no banco de dados de treinamento, não conseguindo o mesmo desempenho no banco de dados de validação e de teste.\n",
        "\n",
        "Veremos abaixo as técnicas para prevenção e correção do overfitting."
      ],
      "metadata": {
        "id": "MMuIpzG9Oz_0"
      }
    },
    {
      "cell_type": "code",
      "source": [
        "# salvando o modelo (modelo, pesos e bias) para predições futuras sem ter que treiná-lo novamente\n",
        "from keras.models import model_from_json\n",
        "model_json = model.to_json()\n",
        "with open(\"./model_1_deeplearning.json\",\"w\") as json_file: #/content/drive/MyDrive/\n",
        "    json_file.write(model_json)\n",
        "model.save_weights(\"./weights_1.weights.h5\") #/content/drive/MyDrive/\n",
        "print('Saved model to disk')"
      ],
      "metadata": {
        "colab": {
          "base_uri": "https://localhost:8080/"
        },
        "outputId": "d66b5c23-a273-4fd5-a325-220d65d96a2b",
        "id": "JyGzKkpAxlYE"
      },
      "execution_count": null,
      "outputs": [
        {
          "output_type": "stream",
          "name": "stdout",
          "text": [
            "Saved model to disk\n"
          ]
        }
      ]
    },
    {
      "cell_type": "markdown",
      "metadata": {
        "id": "ebssGrdqY7_u"
      },
      "source": [
        "## Learning curves"
      ]
    },
    {
      "cell_type": "markdown",
      "metadata": {
        "id": "MwTSVmsaY7_v"
      },
      "source": [
        "The first tool we present is the [**Learning Curve**](https://en.wikipedia.org/wiki/Learning_curve). A learning curve plots the behavior of the training and validation scores as a function of how much training data we fed to the model."
      ]
    },
    {
      "cell_type": "markdown",
      "metadata": {
        "id": "4WeizF6RY8AF"
      },
      "source": [
        "The performance on the test set is lower than the performance on the training set, which indicates the model is _overfitting_.\n",
        "\n",
        "> TIP: Overfitting is a fundamental concept in Machine Learning and Deep Learning.  \n",
        "\n",
        "Before we start playing with different techniques to reduce overfitting, it is legitimate to ask if we don't have enough data to solve the problem.\n",
        "\n",
        "_This is a very common situation_: you collect data with labels, you train a model, and the model does not perform as well as you hoped.\n",
        "\n",
        "What should you do at that point? Should you collect more data? Alternatively, should you invest time in searching for better features or a different model?\n",
        "\n",
        "With the little information we have, it is hard to know which of these alternatives is more likely to help. What is sure, on the other hand, is that all these alternatives carry a cost. For example, let's say you think that more data is what you need.\n",
        "\n",
        "Collecting more labeled data could be as cheap and simple as downloading a new dataset from your source, or it could be as involved and complicated as coordinating with the data collection team at your company, hiring contractors to label the new data, and so on. In other words, the time and cost associated with new data collection strongly vary and need to be assessed case by case.\n",
        "\n",
        "If, on the other hand, you decided to experiment with new features and model architectures, this could be as simple as adding a few layers and nodes to your model, or as complex as an R&D team dedicating several months to discovering new features for your particular dataset. Again, the actual cost of this option strongly depends on your specific use case.\n",
        "\n",
        "Which of the two choices is more promising?\n",
        "\n",
        "Do we need more data or a better model?\n",
        "\n",
        "A learning curve is a tool we can use to answer that question. Here is how we build it."
      ]
    },
    {
      "cell_type": "markdown",
      "metadata": {
        "id": "5Xaa-Mz6Y8AF"
      },
      "source": [
        "First, we set the `X_test` aside, then, we take increasingly large fractions of `X_train` and use them to train the model. For each of these fractions, we fit the model. Then we evaluate the model on this fraction and the test set.\n",
        "Since the training data is small, we expect the model to overfit the training data and perform quite poorly on the test set.\n",
        "\n",
        "As we gradually take more training data, the model should improve and learn to generalize better, i.e., the test score should increase. We proceed like this until we have used all our training data."
      ]
    },
    {
      "cell_type": "markdown",
      "metadata": {
        "id": "VUY6f-dVY8AF"
      },
      "source": [
        "At this point two cases are possible. If it looks like the test performance stopped increasing with the size of the training set, we probably reached the maximum performance of our model. In this case, we should invest time in looking for a better model to improve our performance.\n",
        "\n",
        "In the second case, it would seem that the test error would continue to decrease if only we had access to more training data. If that's the case, we should probably go out looking for more labeled data first and then worry about changing model.\n",
        "\n",
        "So, now you know how to answer the big question of more data or better model: _use a learning curve_.\n",
        "\n",
        "Let's draw one together. First, we take increasing fractions of the training data using the function `np.linspace`.\n",
        "\n",
        "> TIP: `np.linspace` returns evenly spaced numbers over a specified interval. In this case, we are creating four fractions, from 10% to 90% of the data."
      ]
    },
    {
      "cell_type": "code",
      "execution_count": null,
      "metadata": {
        "id": "pXT2tyToY8AF",
        "outputId": "65bc39b8-6142-4a9b-9559-50df783d28a5",
        "colab": {
          "base_uri": "https://localhost:8080/"
        }
      },
      "outputs": [
        {
          "output_type": "execute_result",
          "data": {
            "text/plain": [
              "array([0.1, 0.3, 0.5, 0.7, 0.9])"
            ]
          },
          "metadata": {},
          "execution_count": 13
        }
      ],
      "source": [
        "fracs = np.linspace(0.1, 0.9, 5)\n",
        "fracs"
      ]
    },
    {
      "cell_type": "code",
      "execution_count": null,
      "metadata": {
        "id": "5qYwHXH9Y8AG",
        "outputId": "d09a2cdc-97c6-4077-a7fc-80c17b5f85b5",
        "colab": {
          "base_uri": "https://localhost:8080/"
        }
      },
      "outputs": [
        {
          "output_type": "execute_result",
          "data": {
            "text/plain": [
              "[np.int64(6000),\n",
              " np.int64(18000),\n",
              " np.int64(30000),\n",
              " np.int64(42000),\n",
              " np.int64(54000)]"
            ]
          },
          "metadata": {},
          "execution_count": 14
        }
      ],
      "source": [
        "train_sizes = list((len(X_train) * fracs).astype(int))\n",
        "train_sizes"
      ]
    },
    {
      "cell_type": "markdown",
      "metadata": {
        "id": "tld8CvgSY8AG"
      },
      "source": [
        "Then we loop over the train sizes, and for each `train_size` we do the following:\n",
        "\n",
        "- take exactly `train_size` data from the `X_train`\n",
        "- reset the model to the initial weights\n",
        "- train the model using only the fraction of training data\n",
        "- evaluate the model on the fraction of training data\n",
        "- evaluate the model on the test data\n",
        "- append both scores to arrays for plotting"
      ]
    },
    {
      "cell_type": "markdown",
      "metadata": {
        "id": "bCIa4rfJY8AG"
      },
      "source": [
        "Handling this in the first case (i.e., the first `train_size` in our `train_sizes` array), we'll use our work to then iterate over a long list of all the `train_sizes`.\n",
        "\n",
        "Let's create some variables where we'll store our scores. Let's iterate over them and build up our `train_scores` and `test_scores` variables:"
      ]
    },
    {
      "cell_type": "code",
      "execution_count": null,
      "metadata": {
        "id": "hdgosZzuY8AK",
        "outputId": "264c954e-5c1b-4fc6-bf71-ae0a5a87b1d7",
        "colab": {
          "base_uri": "https://localhost:8080/"
        }
      },
      "outputs": [
        {
          "output_type": "stream",
          "name": "stdout",
          "text": [
            "Done size:  6000\n",
            "Tempo: 8.59 segundos (0.14 minutos)\n",
            "Done size:  18000\n",
            "Tempo: 16.72 segundos (0.28 minutos)\n",
            "Done size:  30000\n",
            "Tempo: 24.90 segundos (0.41 minutos)\n",
            "Done size:  42000\n",
            "Tempo: 34.29 segundos (0.57 minutos)\n",
            "Done size:  54000\n",
            "Tempo: 41.02 segundos (0.68 minutos)\n",
            "\n",
            "Tempo de treinamento da rede: 2m 5s\n"
          ]
        }
      ],
      "source": [
        "from sklearn.model_selection import train_test_split\n",
        "train_scores = []\n",
        "test_scores = []\n",
        "start_time = time.process_time()\n",
        "\n",
        "for train_size in train_sizes:\n",
        "    inter_time = time.process_time()\n",
        "    X_train_frac, _, y_train_frac, _ = train_test_split(X_train, y_train, train_size=train_size,\n",
        "                     test_size=None, random_state=0, stratify=y_train)\n",
        "\n",
        "    model.set_weights(initial_weights)\n",
        "    h = model.fit(X_train_frac, y_train_frac, batch_size=64, epochs=15, verbose=0, validation_split=0.1)\n",
        "    # Returns the loss value & metrics values for the model for X_train\n",
        "    r = model.evaluate(X_train_frac, y_train_frac, verbose=0)\n",
        "    # save accuracy on list\n",
        "    train_scores.append(r[-1])\n",
        "    # Returns the loss value & metrics values for the model for X_test\n",
        "    e = model.evaluate(X_test, y_test, verbose=0)\n",
        "     # save accuracy on list\n",
        "    test_scores.append(e[-1])\n",
        "    print(\"Done size: \", train_size)\n",
        "\n",
        "    training_time_s = time.process_time() - inter_time\n",
        "    training_time_m = training_time_s / 60\n",
        "    print(\"Tempo: %.2f segundos (%.2f minutos)\" % (training_time_s, training_time_m))\n",
        "\n",
        "processing_time(start_time, time.process_time())"
      ]
    },
    {
      "cell_type": "markdown",
      "metadata": {
        "id": "Qk0nlzLuY8AL"
      },
      "source": [
        "Let's plot the training score and the test score as a function of increasing training size:"
      ]
    },
    {
      "cell_type": "code",
      "execution_count": null,
      "metadata": {
        "id": "50we88p5Y8AL",
        "colab": {
          "base_uri": "https://localhost:8080/",
          "height": 543
        },
        "outputId": "55229179-9f86-460f-f60e-74a4effc7eae"
      },
      "outputs": [
        {
          "output_type": "display_data",
          "data": {
            "text/plain": [
              "<Figure size 900x600 with 1 Axes>"
            ],
            "image/png": "[encoded data removed]"
          },
          "metadata": {}
        }
      ],
      "source": [
        "plt.figure(figsize = (9,6))\n",
        "plt.plot(train_sizes, train_scores, 'o-', label=\"Training score\")\n",
        "plt.plot(train_sizes, test_scores, 'o-', label=\"Test score\")\n",
        "plt.legend(loc=\"best\")\n",
        "plt.xlabel('Train size')\n",
        "plt.ylabel('Accuracy')\n",
        "plt.show()"
      ]
    },
    {
      "cell_type": "markdown",
      "metadata": {
        "id": "uQJX7WyaY8AL"
      },
      "source": [
        "Judging from the curve, it appears the test score would keep improving if we added more data. This is the indication we were looking for. If on the other hand the test score was not improving, it would have been more promising to improve the model first and only then go look for more data if needed."
      ]
    },
    {
      "cell_type": "markdown",
      "source": [
        "##What is overfitting?\n",
        "\n",
        "It is a common pitfall in deep learning algorithms in which a model tries to fit the training data entirely and ends up memorizing the data patterns and the noise and random fluctuations. These models fail to generalize and perform well in the case of unseen data scenarios, defeating the model's purpose.\n",
        "\n",
        "**When can overfitting occur?**\n",
        "\n",
        "The high variance of the model performance is an indicator of an overfitting problem.\n",
        "\n",
        "The training time of the model or its architectural complexity may cause the model to overfit. If the model trains for too long on the training data or is too complex, it learns the noise or irrelevant information within the dataset."
      ],
      "metadata": {
        "id": "-UQrDzk7Lv9F"
      }
    },
    {
      "cell_type": "markdown",
      "source": [
        "##Regularization Methods for Neural Networks\n",
        "The simplest and perhaps most common regularization method is to add a penalty to the loss function in proportion to the size of the weights in the model.\n",
        "\n",
        "1. **Weight Regularization** (weight decay): Penalize the model during training based on the magnitude of the weights.\n",
        "\n",
        "Below is a list of five of the most common additional regularization methods.\n",
        "\n",
        "\n",
        "1. **Activity Regularization**: Penalize the model during training base on the magnitude of the activations.\n",
        "1. **Weight Constraint**: Constrain the magnitude of weights to be within a range or below a limit.\n",
        "1. **Dropout**: Probabilistically remove inputs during training.\n",
        "1. **Noise**: Add statistical noise to inputs during training.\n",
        "1. **Early Stopping**: Monitor model performance on a validation set and stop training when performance degrades.\n"
      ],
      "metadata": {
        "id": "n3lkvey6MP7c"
      }
    },
    {
      "cell_type": "markdown",
      "metadata": {
        "id": "1NAGFv_RY8AL"
      },
      "source": [
        "## Reducing Overfitting"
      ]
    },
    {
      "cell_type": "markdown",
      "metadata": {
        "id": "b25_7VIJY8AM"
      },
      "source": [
        "Sometimes it's not easy to go out and look for more data. It could be time consuming and expensive. There are a few ways to improve a model and reduce its propensity to overfit without requiring additional data. These fall into the big family of **Regularization techniques**.\n",
        "\n",
        "The general idea here is the following. By now you should understand that the complexity of a model is somewhat represented by the number of parameters the model has. In simple terms, a model with many layers and many nodes is more complex than a model with a single layer and few nodes. More complexity gives the model, more freedom to learn nuances in our training data. This is what makes Neural Networks so powerful.\n",
        "\n",
        "On the other hand, the more freedom a model has, the more likely it will be to overfit on the training data, losing the ability to generalize. We could try to reduce the model freedom by reducing the model complexity, but this would not always be a great idea as it would make the model less able to pick up subtle patterns in our data.\n",
        "\n",
        "A different approach would be to keep the model very complex, but change something else in the model to push it towards less complex solutions. In other words, instead of removing the complexity, we allow the model to choose complex solutions, but we drive the model towards simpler, more _regular_, solutions. Regularization refers to techniques to keep the complexity of a model from spinning out of control.\n",
        "\n",
        "Let's review a few ways to regularize a model, and to ease our comparison we will define a few helper functions.\n",
        "\n",
        "First, let's define a helper function to repeat the training several times. This helper function will be useful to average out any statistical fluctuations in the model behavior due to the random initialization of the weights. We will reset the backend at each iteration to save memory and erase any previous training."
      ]
    },
    {
      "cell_type": "markdown",
      "metadata": {
        "id": "rTQKauFkY8AQ"
      },
      "source": [
        "### Model Regularization"
      ]
    },
    {
      "cell_type": "markdown",
      "metadata": {
        "id": "4UqHaTE4Y8AR"
      },
      "source": [
        "[Regularization](https://en.wikipedia.org/wiki/Regularization_(mathematics%29) is a common procedure in Machine Learning and it has been used to improve the performance of complex models with many parameters.\n",
        "\n",
        "Remember the [Cost Function](https://en.wikipedia.org/wiki/Loss_function) we have introduced? The main goal of the cost function is to make sure that the predictions of the model are close to the correct labels.\n",
        "\n",
        "Regularization works by modifying the original cost function $C$ with an additional term $\\lambda C_r$, that somehow penalizes the complexity of the model:\n",
        "\n",
        "\\begin{equation}\n",
        "C' = C + \\lambda C_r\n",
        "\\end{equation}\n",
        "\n",
        "The original cost function $C$ would decrease as the model predictions got closer and closer to the actual labels. In other words, the gradient descent algorithm for the original cost would push the parameters to the region of parameter space that would give the best predictions on the training data. In complex models with many parameters, this could result in overfitting because of all the freedom the model had.\n",
        "\n",
        "The new penalty $C_r$ pushes the model to be \"simple\", in other words, it grows with the parameters of the model, but it is entirely unrelated to the goodness of the prediction.\n",
        "\n",
        "The total cost $C'$ is a combination of the two terms, and therefore the model will have to try to generate the best predictions possible while retaining simplicity. In other words, the gradient descent algorithm is now solving a constrained minimization problem, where some regions of the parameter space are too expensive to use for a solution.\n",
        "\n",
        "The hyper-parameter $\\lambda$ determines the relative strength of the regularization, and we can set it.\n",
        "\n",
        "But how do we implement $C_r$ in practice? There are several ways to do it. **Weight Regularization** assigns a penalty proportional to the size of the weights, for example:\n",
        "\n",
        "The L1 regularization penalty is computed as: `loss = l1 * reduce_sum(abs(x))`\n",
        "\\begin{equation}\n",
        "C_w(L1) = \\sum_w |w|\n",
        "\\end{equation}\n",
        "The L2 regularization penalty is computed as `loss = l2 * reduce_sum(square(x))`\n",
        "\\begin{equation}\n",
        "C_w(L2) = \\sum_w w^2\n",
        "\\end{equation}\n",
        "\n",
        "The first one is called **L1-regularization** and it is the sum of the absolute values of each weight. The second one is called **L2-regularization** and it is the sum of the square values of each weight. While they both suppress complexity, their effect is different.\n",
        "\n",
        "L1-regularization pushes most weights to be zero, except for a few that will be non-zero. In other words, the net effect of L1-regularization is to make the weight matrix _sparse_.\n",
        "\n",
        "L2-regularization, on the other hand, suppresses weights quadratically, which means that any weight more significant than the others will give a much higher contribution to $C_r$ and therefore to the overall cost. The net effect of this is to make all weights equally small.\n",
        "\n",
        "Similarly to weight regularization, **Bias Regularization** and **Activity Regularization** penalize the cost function with a term proportional to the size of the biases and the activations respectively.\n",
        "\n",
        "Let's compare the behavior of our base model with a model with exact the same architecture but endowed with the `L2` weight regularization."
      ]
    },
    {
      "cell_type": "markdown",
      "metadata": {
        "id": "RIvKgdwRY8AS"
      },
      "source": [
        "We start by defining a helper function that creates a model with weight regularization: we start from the function `base_model`, and we create the function `regularized_model`, adding the `kernel_regularizer` option to each layer. First of all let's import keras's `L1L2` regularizer function:"
      ]
    },
    {
      "cell_type": "code",
      "execution_count": null,
      "metadata": {
        "id": "Vv9yvE11Y8AT"
      },
      "outputs": [],
      "source": [
        "from tensorflow.keras.regularizers import L1L2\n",
        "def regularized_model(l1=0.0001, l2=0.0001):\n",
        "    \"\"\"\n",
        "    Return an l2-weight-regularized, fully connected\n",
        "    model with 3 inner layers with 1024 nodes each\n",
        "    and relu activation function.\n",
        "    In this case, the default values used are l1=0.0001 and l2=0.0001.\n",
        "    \"\"\"\n",
        "    #reg2=L1L2(l1=0.0005, l2=0.002)\n",
        "    reg2=L1L2(l1, l2)\n",
        "    backend.clear_session()\n",
        "    model = Sequential(name='regularized_model')\n",
        "    model.add(Input(shape=(28,28), name='input'))\n",
        "    model.add(Flatten())\n",
        "    model.add(Dense(1024, activation='relu', kernel_regularizer=reg2))\n",
        "    model.add(Dense(512, activation='relu', kernel_regularizer=reg2))\n",
        "    model.add(Dense(256, activation='relu', kernel_regularizer=reg2))\n",
        "    model.add(Dense(128, activation='relu', kernel_regularizer=reg2))\n",
        "    model.add(Dense(10, activation='softmax'))\n",
        "    initial_weights_ = model.get_weights()\n",
        "    model.compile(optimizer=SGD(0.05), loss='sparse_categorical_crossentropy', metrics=['accuracy'])\n",
        "    model.summary()\n",
        "    return model, initial_weights_"
      ]
    },
    {
      "cell_type": "code",
      "source": [
        "L2_model, initial_weights_L2 = regularized_model(l1=0.0002, l2=0.0002)"
      ],
      "metadata": {
        "id": "877fOukI2iCq",
        "colab": {
          "base_uri": "https://localhost:8080/",
          "height": 334
        },
        "outputId": "b87c557b-999b-4d00-9a7c-c1fcedbd2298"
      },
      "execution_count": null,
      "outputs": [
        {
          "output_type": "display_data",
          "data": {
            "text/plain": [
              "\u001b[1mModel: \"regularized_model\"\u001b[0m\n"
            ],
            "text/html": [
              "<pre style=\"white-space:pre;overflow-x:auto;line-height:normal;font-family:Menlo,'DejaVu Sans Mono',consolas,'Courier New',monospace\"><span style=\"font-weight: bold\">Model: \"regularized_model\"</span>\n",
              "</pre>\n"
            ]
          },
          "metadata": {}
        },
        {
          "output_type": "display_data",
          "data": {
            "text/plain": [
              "┏━━━━━━━━━━━━━━━━━━━━━━━━━━━━━━━━━┳━━━━━━━━━━━━━━━━━━━━━━━━┳━━━━━━━━━━━━━━━┓\n",
              "┃\u001b[1m \u001b[0m\u001b[1mLayer (type)                   \u001b[0m\u001b[1m \u001b[0m┃\u001b[1m \u001b[0m\u001b[1mOutput Shape          \u001b[0m\u001b[1m \u001b[0m┃\u001b[1m \u001b[0m\u001b[1m      Param #\u001b[0m\u001b[1m \u001b[0m┃\n",
              "┡━━━━━━━━━━━━━━━━━━━━━━━━━━━━━━━━━╇━━━━━━━━━━━━━━━━━━━━━━━━╇━━━━━━━━━━━━━━━┩\n",
              "│ flatten (\u001b[38;5;33mFlatten\u001b[0m)               │ (\u001b[38;5;45mNone\u001b[0m, \u001b[38;5;34m784\u001b[0m)            │             \u001b[38;5;34m0\u001b[0m │\n",
              "├─────────────────────────────────┼────────────────────────┼───────────────┤\n",
              "│ dense (\u001b[38;5;33mDense\u001b[0m)                   │ (\u001b[38;5;45mNone\u001b[0m, \u001b[38;5;34m1024\u001b[0m)           │       \u001b[38;5;34m803,840\u001b[0m │\n",
              "├─────────────────────────────────┼────────────────────────┼───────────────┤\n",
              "│ dense_1 (\u001b[38;5;33mDense\u001b[0m)                 │ (\u001b[38;5;45mNone\u001b[0m, \u001b[38;5;34m512\u001b[0m)            │       \u001b[38;5;34m524,800\u001b[0m │\n",
              "├─────────────────────────────────┼────────────────────────┼───────────────┤\n",
              "│ dense_2 (\u001b[38;5;33mDense\u001b[0m)                 │ (\u001b[38;5;45mNone\u001b[0m, \u001b[38;5;34m256\u001b[0m)            │       \u001b[38;5;34m131,328\u001b[0m │\n",
              "├─────────────────────────────────┼────────────────────────┼───────────────┤\n",
              "│ dense_3 (\u001b[38;5;33mDense\u001b[0m)                 │ (\u001b[38;5;45mNone\u001b[0m, \u001b[38;5;34m128\u001b[0m)            │        \u001b[38;5;34m32,896\u001b[0m │\n",
              "├─────────────────────────────────┼────────────────────────┼───────────────┤\n",
              "│ dense_4 (\u001b[38;5;33mDense\u001b[0m)                 │ (\u001b[38;5;45mNone\u001b[0m, \u001b[38;5;34m10\u001b[0m)             │         \u001b[38;5;34m1,290\u001b[0m │\n",
              "└─────────────────────────────────┴────────────────────────┴───────────────┘\n"
            ],
            "text/html": [
              "<pre style=\"white-space:pre;overflow-x:auto;line-height:normal;font-family:Menlo,'DejaVu Sans Mono',consolas,'Courier New',monospace\">┏━━━━━━━━━━━━━━━━━━━━━━━━━━━━━━━━━┳━━━━━━━━━━━━━━━━━━━━━━━━┳━━━━━━━━━━━━━━━┓\n",
              "┃<span style=\"font-weight: bold\"> Layer (type)                    </span>┃<span style=\"font-weight: bold\"> Output Shape           </span>┃<span style=\"font-weight: bold\">       Param # </span>┃\n",
              "┡━━━━━━━━━━━━━━━━━━━━━━━━━━━━━━━━━╇━━━━━━━━━━━━━━━━━━━━━━━━╇━━━━━━━━━━━━━━━┩\n",
              "│ flatten (<span style=\"color: #0087ff; text-decoration-color: #0087ff\">Flatten</span>)               │ (<span style=\"color: #00d7ff; text-decoration-color: #00d7ff\">None</span>, <span style=\"color: #00af00; text-decoration-color: #00af00\">784</span>)            │             <span style=\"color: #00af00; text-decoration-color: #00af00\">0</span> │\n",
              "├─────────────────────────────────┼────────────────────────┼───────────────┤\n",
              "│ dense (<span style=\"color: #0087ff; text-decoration-color: #0087ff\">Dense</span>)                   │ (<span style=\"color: #00d7ff; text-decoration-color: #00d7ff\">None</span>, <span style=\"color: #00af00; text-decoration-color: #00af00\">1024</span>)           │       <span style=\"color: #00af00; text-decoration-color: #00af00\">803,840</span> │\n",
              "├─────────────────────────────────┼────────────────────────┼───────────────┤\n",
              "│ dense_1 (<span style=\"color: #0087ff; text-decoration-color: #0087ff\">Dense</span>)                 │ (<span style=\"color: #00d7ff; text-decoration-color: #00d7ff\">None</span>, <span style=\"color: #00af00; text-decoration-color: #00af00\">512</span>)            │       <span style=\"color: #00af00; text-decoration-color: #00af00\">524,800</span> │\n",
              "├─────────────────────────────────┼────────────────────────┼───────────────┤\n",
              "│ dense_2 (<span style=\"color: #0087ff; text-decoration-color: #0087ff\">Dense</span>)                 │ (<span style=\"color: #00d7ff; text-decoration-color: #00d7ff\">None</span>, <span style=\"color: #00af00; text-decoration-color: #00af00\">256</span>)            │       <span style=\"color: #00af00; text-decoration-color: #00af00\">131,328</span> │\n",
              "├─────────────────────────────────┼────────────────────────┼───────────────┤\n",
              "│ dense_3 (<span style=\"color: #0087ff; text-decoration-color: #0087ff\">Dense</span>)                 │ (<span style=\"color: #00d7ff; text-decoration-color: #00d7ff\">None</span>, <span style=\"color: #00af00; text-decoration-color: #00af00\">128</span>)            │        <span style=\"color: #00af00; text-decoration-color: #00af00\">32,896</span> │\n",
              "├─────────────────────────────────┼────────────────────────┼───────────────┤\n",
              "│ dense_4 (<span style=\"color: #0087ff; text-decoration-color: #0087ff\">Dense</span>)                 │ (<span style=\"color: #00d7ff; text-decoration-color: #00d7ff\">None</span>, <span style=\"color: #00af00; text-decoration-color: #00af00\">10</span>)             │         <span style=\"color: #00af00; text-decoration-color: #00af00\">1,290</span> │\n",
              "└─────────────────────────────────┴────────────────────────┴───────────────┘\n",
              "</pre>\n"
            ]
          },
          "metadata": {}
        },
        {
          "output_type": "display_data",
          "data": {
            "text/plain": [
              "\u001b[1m Total params: \u001b[0m\u001b[38;5;34m1,494,154\u001b[0m (5.70 MB)\n"
            ],
            "text/html": [
              "<pre style=\"white-space:pre;overflow-x:auto;line-height:normal;font-family:Menlo,'DejaVu Sans Mono',consolas,'Courier New',monospace\"><span style=\"font-weight: bold\"> Total params: </span><span style=\"color: #00af00; text-decoration-color: #00af00\">1,494,154</span> (5.70 MB)\n",
              "</pre>\n"
            ]
          },
          "metadata": {}
        },
        {
          "output_type": "display_data",
          "data": {
            "text/plain": [
              "\u001b[1m Trainable params: \u001b[0m\u001b[38;5;34m1,494,154\u001b[0m (5.70 MB)\n"
            ],
            "text/html": [
              "<pre style=\"white-space:pre;overflow-x:auto;line-height:normal;font-family:Menlo,'DejaVu Sans Mono',consolas,'Courier New',monospace\"><span style=\"font-weight: bold\"> Trainable params: </span><span style=\"color: #00af00; text-decoration-color: #00af00\">1,494,154</span> (5.70 MB)\n",
              "</pre>\n"
            ]
          },
          "metadata": {}
        },
        {
          "output_type": "display_data",
          "data": {
            "text/plain": [
              "\u001b[1m Non-trainable params: \u001b[0m\u001b[38;5;34m0\u001b[0m (0.00 B)\n"
            ],
            "text/html": [
              "<pre style=\"white-space:pre;overflow-x:auto;line-height:normal;font-family:Menlo,'DejaVu Sans Mono',consolas,'Courier New',monospace\"><span style=\"font-weight: bold\"> Non-trainable params: </span><span style=\"color: #00af00; text-decoration-color: #00af00\">0</span> (0.00 B)\n",
              "</pre>\n"
            ]
          },
          "metadata": {}
        }
      ]
    },
    {
      "cell_type": "code",
      "source": [
        "start_time = time.process_time()\n",
        "# carrega os pesos e bias com os valores inicias, para um novo treinamento da rede\n",
        "L2_model.set_weights(initial_weights_L2)\n",
        "# treinamento da rede\n",
        "h = L2_model.fit(X_train, y_train, batch_size=64, epochs=15, verbose=1, validation_split=0.1)\n",
        "# tempo total de treinamento da rede\n",
        "processing_time(start_time, time.process_time())"
      ],
      "metadata": {
        "colab": {
          "base_uri": "https://localhost:8080/"
        },
        "outputId": "94aad31e-523a-429a-8ace-015e6e34185e",
        "id": "CvFFRliC1oRL"
      },
      "execution_count": null,
      "outputs": [
        {
          "output_type": "stream",
          "name": "stdout",
          "text": [
            "Epoch 1/15\n",
            "\u001b[1m844/844\u001b[0m \u001b[32m━━━━━━━━━━━━━━━━━━━━\u001b[0m\u001b[37m\u001b[0m \u001b[1m8s\u001b[0m 7ms/step - accuracy: 0.7993 - loss: 9.9537 - val_accuracy: 0.9443 - val_loss: 7.5448\n",
            "Epoch 2/15\n",
            "\u001b[1m844/844\u001b[0m \u001b[32m━━━━━━━━━━━━━━━━━━━━\u001b[0m\u001b[37m\u001b[0m \u001b[1m3s\u001b[0m 3ms/step - accuracy: 0.9454 - loss: 6.9840 - val_accuracy: 0.9612 - val_loss: 5.3634\n",
            "Epoch 3/15\n",
            "\u001b[1m844/844\u001b[0m \u001b[32m━━━━━━━━━━━━━━━━━━━━\u001b[0m\u001b[37m\u001b[0m \u001b[1m3s\u001b[0m 3ms/step - accuracy: 0.9592 - loss: 4.9111 - val_accuracy: 0.9668 - val_loss: 3.6424\n",
            "Epoch 4/15\n",
            "\u001b[1m844/844\u001b[0m \u001b[32m━━━━━━━━━━━━━━━━━━━━\u001b[0m\u001b[37m\u001b[0m \u001b[1m2s\u001b[0m 3ms/step - accuracy: 0.9603 - loss: 3.3095 - val_accuracy: 0.9693 - val_loss: 2.3602\n",
            "Epoch 5/15\n",
            "\u001b[1m844/844\u001b[0m \u001b[32m━━━━━━━━━━━━━━━━━━━━\u001b[0m\u001b[37m\u001b[0m \u001b[1m3s\u001b[0m 3ms/step - accuracy: 0.9612 - loss: 2.1344 - val_accuracy: 0.9617 - val_loss: 1.5164\n",
            "Epoch 6/15\n",
            "\u001b[1m844/844\u001b[0m \u001b[32m━━━━━━━━━━━━━━━━━━━━\u001b[0m\u001b[37m\u001b[0m \u001b[1m3s\u001b[0m 4ms/step - accuracy: 0.9592 - loss: 1.3718 - val_accuracy: 0.9698 - val_loss: 0.9847\n",
            "Epoch 7/15\n",
            "\u001b[1m844/844\u001b[0m \u001b[32m━━━━━━━━━━━━━━━━━━━━\u001b[0m\u001b[37m\u001b[0m \u001b[1m4s\u001b[0m 3ms/step - accuracy: 0.9600 - loss: 0.9318 - val_accuracy: 0.9745 - val_loss: 0.7096\n",
            "Epoch 8/15\n",
            "\u001b[1m844/844\u001b[0m \u001b[32m━━━━━━━━━━━━━━━━━━━━\u001b[0m\u001b[37m\u001b[0m \u001b[1m5s\u001b[0m 3ms/step - accuracy: 0.9643 - loss: 0.6977 - val_accuracy: 0.9667 - val_loss: 0.5963\n",
            "Epoch 9/15\n",
            "\u001b[1m844/844\u001b[0m \u001b[32m━━━━━━━━━━━━━━━━━━━━\u001b[0m\u001b[37m\u001b[0m \u001b[1m3s\u001b[0m 4ms/step - accuracy: 0.9665 - loss: 0.5613 - val_accuracy: 0.9760 - val_loss: 0.4705\n",
            "Epoch 10/15\n",
            "\u001b[1m844/844\u001b[0m \u001b[32m━━━━━━━━━━━━━━━━━━━━\u001b[0m\u001b[37m\u001b[0m \u001b[1m3s\u001b[0m 3ms/step - accuracy: 0.9696 - loss: 0.4717 - val_accuracy: 0.9768 - val_loss: 0.4110\n",
            "Epoch 11/15\n",
            "\u001b[1m844/844\u001b[0m \u001b[32m━━━━━━━━━━━━━━━━━━━━\u001b[0m\u001b[37m\u001b[0m \u001b[1m5s\u001b[0m 3ms/step - accuracy: 0.9714 - loss: 0.4136 - val_accuracy: 0.9725 - val_loss: 0.3814\n",
            "Epoch 12/15\n",
            "\u001b[1m844/844\u001b[0m \u001b[32m━━━━━━━━━━━━━━━━━━━━\u001b[0m\u001b[37m\u001b[0m \u001b[1m3s\u001b[0m 3ms/step - accuracy: 0.9730 - loss: 0.3698 - val_accuracy: 0.9740 - val_loss: 0.3541\n",
            "Epoch 13/15\n",
            "\u001b[1m844/844\u001b[0m \u001b[32m━━━━━━━━━━━━━━━━━━━━\u001b[0m\u001b[37m\u001b[0m \u001b[1m3s\u001b[0m 4ms/step - accuracy: 0.9726 - loss: 0.3427 - val_accuracy: 0.9687 - val_loss: 0.3461\n",
            "Epoch 14/15\n",
            "\u001b[1m844/844\u001b[0m \u001b[32m━━━━━━━━━━━━━━━━━━━━\u001b[0m\u001b[37m\u001b[0m \u001b[1m5s\u001b[0m 3ms/step - accuracy: 0.9732 - loss: 0.3206 - val_accuracy: 0.9758 - val_loss: 0.3023\n",
            "Epoch 15/15\n",
            "\u001b[1m844/844\u001b[0m \u001b[32m━━━━━━━━━━━━━━━━━━━━\u001b[0m\u001b[37m\u001b[0m \u001b[1m3s\u001b[0m 3ms/step - accuracy: 0.9740 - loss: 0.3005 - val_accuracy: 0.9712 - val_loss: 0.3067\n",
            "\n",
            "Tempo de treinamento da rede: 0m46s\n"
          ]
        }
      ]
    },
    {
      "cell_type": "markdown",
      "metadata": {
        "id": "sHAS54LRdZyE"
      },
      "source": [
        "Let's now compare the performance of the weight regularized model with our base model. We will also plot a dashed line at the maximum test accuracy obtained by the base model:"
      ]
    },
    {
      "cell_type": "code",
      "source": [
        "plot_acc_loss(h)"
      ],
      "metadata": {
        "colab": {
          "base_uri": "https://localhost:8080/",
          "height": 507
        },
        "outputId": "6c3cf267-3c4d-44ab-a450-01ac1d6a9f31",
        "id": "dId_7qvL3pNN"
      },
      "execution_count": null,
      "outputs": [
        {
          "output_type": "display_data",
          "data": {
            "text/plain": [
              "<Figure size 1100x500 with 2 Axes>"
            ],
            "image/png": "[encoded data removed]"
          },
          "metadata": {}
        }
      ]
    },
    {
      "cell_type": "markdown",
      "metadata": {
        "id": "V3FZwCzrY8AV"
      },
      "source": [
        "With this particular dataset, weight regularization does not seem to improve the model performance.\n",
        "\n",
        "This is visually true at least within the small number of epochs we are running. It may be the case that if we let the training run much longer regularization would help, but we don't know for sure, and that can cost a lot of time and money.\n",
        "\n",
        "It's however good to know that this technique exists and keep it in mind as one of the options to try. In practice, weight regularization has been replaced by more modern regularization techniques such as **Dropout** and **Batch Normalization**."
      ]
    },
    {
      "cell_type": "code",
      "source": [
        "# salvando o Modelo para predições futuras sem ter que treiná-lo novamente\n",
        "from keras.models import model_from_json\n",
        "model_json = L2_model.to_json()\n",
        "with open(\"./model_2_deeplearning.json\",\"w\") as json_file: #/content/drive/MyDrive/\n",
        "    json_file.write(model_json)\n",
        "L2_model.save_weights(\"./weights_2.weights.h5\") #/content/drive/MyDrive/\n",
        "print('Saved model to disk')"
      ],
      "metadata": {
        "colab": {
          "base_uri": "https://localhost:8080/"
        },
        "outputId": "2e433f8a-2751-41a9-f2a8-58162835c237",
        "id": "fmtYrPurJMfD"
      },
      "execution_count": null,
      "outputs": [
        {
          "output_type": "stream",
          "name": "stdout",
          "text": [
            "Saved model to disk\n"
          ]
        }
      ]
    },
    {
      "cell_type": "markdown",
      "metadata": {
        "id": "9RRIZxXzY8AW"
      },
      "source": [
        "## Dropout"
      ]
    },
    {
      "cell_type": "markdown",
      "metadata": {
        "id": "-Q3ygOIqY8AW"
      },
      "source": [
        "[Dropout](https://en.wikipedia.org/wiki/Dropout_(neural_networks%29) was introduced in 2014 by [Srivastava et al.](http://www.cs.toronto.edu/~rsalakhu/papers/srivastava14a.pdf) at the University of Toronto to address the problem of overfitting in large networks. The key idea of Dropout is to randomly drop units (along with their connections) from the Neural Network during training.\n",
        "\n",
        "In other words, during the training phase, each unit has a non-zero probability not to emit its output to the next layer. This prevents units from co-adapting too much.\n",
        "\n",
        "Let's reflect on this for a second. It looks as if we are damaging the network by dropping a fraction of the units with non zero probability during training time. We are crippling the network and making it a lot harder for it to learn. This is counter-intuitive! Why are we weakening our model?\n",
        "\n",
        "It turns out that the underlying principle is quite universal in Machine Learning: we make the network less stable so that the solution found during training is more general, more robust, and more resilient to failure. Another way to look at this is to say that we are adding noise at training time so that the network will need to learn more general patterns that are resistant to noise.\n",
        "\n",
        "The technique has similarities with ensemble techniques, because it's as if, during training the network sampled from an many different “thinned” networks, where a few of the nodes are not working. At test time, dropout is turned off, and we use the full network. This technique has been shown to improve the performance of Neural Networks on Supervised Learning tasks in vision, speech recognition, document classification, and many others.\n",
        "\n",
        "We strongly encourage you to read the [paper](http://www.cs.toronto.edu/~rsalakhu/papers/srivastava14a.pdf) if you want to understand how dropout is implemented.\n",
        "\n",
        "On the other hand, if you are eager to apply it, you'll be happy to hear that Dropout is implemented in Keras as a layer, so all we need to do is to add it between the layers."
      ]
    },
    {
      "cell_type": "markdown",
      "source": [
        "##Dropout Regularization in Deep Learning\n",
        "\n",
        "Dropout is a regularization technique for reducing overfitting in neural networks by preventing complex co-adaptations on training data. It is a very efficient way of performing model averaging with neural networks. The term \"dropout\" refers to dropping out units (both hidden and visible) in a neural network.\n",
        "\n",
        "A simple and powerful regularization technique for neural networks and deep learning models is dropout. This notebook will uncover the dropout regularization technique and how to apply it to deep learning models in Python with Keras.\n",
        "\n",
        "###How the dropout regularization technique works.\n",
        "\n",
        "Dropout is a technique where randomly selected neurons are ignored during training. They are “dropped-out” randomly. This means that their contribution to the activation of downstream neurons is temporally removed on the forward pass and any weight updates are not applied to the neuron on the backward pass.\n",
        "\n",
        "As a neural network learns, neuron weights settle into their context within the network. Weights of neurons are tuned for specific features providing some specialization. Neighboring neurons become to rely on this specialization, which if taken too far can result in a fragile model too specialized to the training data. This reliant on context for a neuron during training is referred to complex co-adaptations."
      ],
      "metadata": {
        "id": "sGQuyywYItgN"
      }
    },
    {
      "cell_type": "markdown",
      "source": [
        "\n",
        "\n",
        "<img src=\"https://editor.analyticsvidhya.com/uploads/112801.gif\" alt=\"perceptron\" width=800>"
      ],
      "metadata": {
        "id": "upAZcrldJN9k"
      }
    },
    {
      "cell_type": "markdown",
      "metadata": {
        "id": "B1lGwp0tY8AW"
      },
      "source": [
        "And then we define a `dropout_model`, again starting from the `base_model` and adding the dropout layers. We've tested several configurations, and we've found that with this dataset good results can be obtained with a dropout rate of 10% at the input and 50% in the inner layers. Feel free to experiment with different numbers and see what results you get.\n",
        "\n",
        ">TIP: according to the [Documentation](https://keras.io/layers/core/#dropout), in the `Dropout` layer\n",
        "the argument `rate` is a float between 0 and 1, that gives the fraction of the input units to drop."
      ]
    },
    {
      "cell_type": "code",
      "execution_count": null,
      "metadata": {
        "id": "pLuVrrJKY8AW"
      },
      "outputs": [],
      "source": [
        "def dropout_model():\n",
        "    \"\"\"\n",
        "    Return a fully connected model\n",
        "    with 4 hidden layers and relu activation function.\n",
        "    Dropout can be applied by selecting the rate of dropout\n",
        "    \"\"\"\n",
        "    backend.clear_session()\n",
        "    model = Sequential(name='dropout_model')\n",
        "    model.add(Input(shape=(28,28), name='input'))\n",
        "    model.add(Flatten())\n",
        "    model.add(Dropout(0.1))\n",
        "    model.add(Dense(1024, activation='relu'))\n",
        "    model.add(Dropout(0.2))\n",
        "    model.add(Dense(512, activation='relu'))\n",
        "    model.add(Dropout(0.2))\n",
        "    model.add(Dense(256, activation='relu'))\n",
        "    model.add(Dropout(0.4))\n",
        "    model.add(Dense(128, activation='relu'))\n",
        "    model.add(Dropout(0.5))\n",
        "    model.add(Dense(10, activation='softmax'))\n",
        "    initial_weights_ = model.get_weights()\n",
        "    model.compile(optimizer=SGD(0.05), loss='sparse_categorical_crossentropy', metrics=['accuracy'])\n",
        "    model.summary()\n",
        "    return model, initial_weights_"
      ]
    },
    {
      "cell_type": "code",
      "source": [
        "Dropout_model, initial_weights_dropout = dropout_model()"
      ],
      "metadata": {
        "id": "P4bNAioef1O4",
        "colab": {
          "base_uri": "https://localhost:8080/",
          "height": 500
        },
        "outputId": "5c187680-97b6-4ddd-dd4a-7cf28d886e79"
      },
      "execution_count": null,
      "outputs": [
        {
          "output_type": "display_data",
          "data": {
            "text/plain": [
              "\u001b[1mModel: \"dropout_model\"\u001b[0m\n"
            ],
            "text/html": [
              "<pre style=\"white-space:pre;overflow-x:auto;line-height:normal;font-family:Menlo,'DejaVu Sans Mono',consolas,'Courier New',monospace\"><span style=\"font-weight: bold\">Model: \"dropout_model\"</span>\n",
              "</pre>\n"
            ]
          },
          "metadata": {}
        },
        {
          "output_type": "display_data",
          "data": {
            "text/plain": [
              "┏━━━━━━━━━━━━━━━━━━━━━━━━━━━━━━━━━┳━━━━━━━━━━━━━━━━━━━━━━━━┳━━━━━━━━━━━━━━━┓\n",
              "┃\u001b[1m \u001b[0m\u001b[1mLayer (type)                   \u001b[0m\u001b[1m \u001b[0m┃\u001b[1m \u001b[0m\u001b[1mOutput Shape          \u001b[0m\u001b[1m \u001b[0m┃\u001b[1m \u001b[0m\u001b[1m      Param #\u001b[0m\u001b[1m \u001b[0m┃\n",
              "┡━━━━━━━━━━━━━━━━━━━━━━━━━━━━━━━━━╇━━━━━━━━━━━━━━━━━━━━━━━━╇━━━━━━━━━━━━━━━┩\n",
              "│ flatten (\u001b[38;5;33mFlatten\u001b[0m)               │ (\u001b[38;5;45mNone\u001b[0m, \u001b[38;5;34m784\u001b[0m)            │             \u001b[38;5;34m0\u001b[0m │\n",
              "├─────────────────────────────────┼────────────────────────┼───────────────┤\n",
              "│ dropout (\u001b[38;5;33mDropout\u001b[0m)               │ (\u001b[38;5;45mNone\u001b[0m, \u001b[38;5;34m784\u001b[0m)            │             \u001b[38;5;34m0\u001b[0m │\n",
              "├─────────────────────────────────┼────────────────────────┼───────────────┤\n",
              "│ dense (\u001b[38;5;33mDense\u001b[0m)                   │ (\u001b[38;5;45mNone\u001b[0m, \u001b[38;5;34m1024\u001b[0m)           │       \u001b[38;5;34m803,840\u001b[0m │\n",
              "├─────────────────────────────────┼────────────────────────┼───────────────┤\n",
              "│ dropout_1 (\u001b[38;5;33mDropout\u001b[0m)             │ (\u001b[38;5;45mNone\u001b[0m, \u001b[38;5;34m1024\u001b[0m)           │             \u001b[38;5;34m0\u001b[0m │\n",
              "├─────────────────────────────────┼────────────────────────┼───────────────┤\n",
              "│ dense_1 (\u001b[38;5;33mDense\u001b[0m)                 │ (\u001b[38;5;45mNone\u001b[0m, \u001b[38;5;34m512\u001b[0m)            │       \u001b[38;5;34m524,800\u001b[0m │\n",
              "├─────────────────────────────────┼────────────────────────┼───────────────┤\n",
              "│ dropout_2 (\u001b[38;5;33mDropout\u001b[0m)             │ (\u001b[38;5;45mNone\u001b[0m, \u001b[38;5;34m512\u001b[0m)            │             \u001b[38;5;34m0\u001b[0m │\n",
              "├─────────────────────────────────┼────────────────────────┼───────────────┤\n",
              "│ dense_2 (\u001b[38;5;33mDense\u001b[0m)                 │ (\u001b[38;5;45mNone\u001b[0m, \u001b[38;5;34m256\u001b[0m)            │       \u001b[38;5;34m131,328\u001b[0m │\n",
              "├─────────────────────────────────┼────────────────────────┼───────────────┤\n",
              "│ dropout_3 (\u001b[38;5;33mDropout\u001b[0m)             │ (\u001b[38;5;45mNone\u001b[0m, \u001b[38;5;34m256\u001b[0m)            │             \u001b[38;5;34m0\u001b[0m │\n",
              "├─────────────────────────────────┼────────────────────────┼───────────────┤\n",
              "│ dense_3 (\u001b[38;5;33mDense\u001b[0m)                 │ (\u001b[38;5;45mNone\u001b[0m, \u001b[38;5;34m128\u001b[0m)            │        \u001b[38;5;34m32,896\u001b[0m │\n",
              "├─────────────────────────────────┼────────────────────────┼───────────────┤\n",
              "│ dropout_4 (\u001b[38;5;33mDropout\u001b[0m)             │ (\u001b[38;5;45mNone\u001b[0m, \u001b[38;5;34m128\u001b[0m)            │             \u001b[38;5;34m0\u001b[0m │\n",
              "├─────────────────────────────────┼────────────────────────┼───────────────┤\n",
              "│ dense_4 (\u001b[38;5;33mDense\u001b[0m)                 │ (\u001b[38;5;45mNone\u001b[0m, \u001b[38;5;34m10\u001b[0m)             │         \u001b[38;5;34m1,290\u001b[0m │\n",
              "└─────────────────────────────────┴────────────────────────┴───────────────┘\n"
            ],
            "text/html": [
              "<pre style=\"white-space:pre;overflow-x:auto;line-height:normal;font-family:Menlo,'DejaVu Sans Mono',consolas,'Courier New',monospace\">┏━━━━━━━━━━━━━━━━━━━━━━━━━━━━━━━━━┳━━━━━━━━━━━━━━━━━━━━━━━━┳━━━━━━━━━━━━━━━┓\n",
              "┃<span style=\"font-weight: bold\"> Layer (type)                    </span>┃<span style=\"font-weight: bold\"> Output Shape           </span>┃<span style=\"font-weight: bold\">       Param # </span>┃\n",
              "┡━━━━━━━━━━━━━━━━━━━━━━━━━━━━━━━━━╇━━━━━━━━━━━━━━━━━━━━━━━━╇━━━━━━━━━━━━━━━┩\n",
              "│ flatten (<span style=\"color: #0087ff; text-decoration-color: #0087ff\">Flatten</span>)               │ (<span style=\"color: #00d7ff; text-decoration-color: #00d7ff\">None</span>, <span style=\"color: #00af00; text-decoration-color: #00af00\">784</span>)            │             <span style=\"color: #00af00; text-decoration-color: #00af00\">0</span> │\n",
              "├─────────────────────────────────┼────────────────────────┼───────────────┤\n",
              "│ dropout (<span style=\"color: #0087ff; text-decoration-color: #0087ff\">Dropout</span>)               │ (<span style=\"color: #00d7ff; text-decoration-color: #00d7ff\">None</span>, <span style=\"color: #00af00; text-decoration-color: #00af00\">784</span>)            │             <span style=\"color: #00af00; text-decoration-color: #00af00\">0</span> │\n",
              "├─────────────────────────────────┼────────────────────────┼───────────────┤\n",
              "│ dense (<span style=\"color: #0087ff; text-decoration-color: #0087ff\">Dense</span>)                   │ (<span style=\"color: #00d7ff; text-decoration-color: #00d7ff\">None</span>, <span style=\"color: #00af00; text-decoration-color: #00af00\">1024</span>)           │       <span style=\"color: #00af00; text-decoration-color: #00af00\">803,840</span> │\n",
              "├─────────────────────────────────┼────────────────────────┼───────────────┤\n",
              "│ dropout_1 (<span style=\"color: #0087ff; text-decoration-color: #0087ff\">Dropout</span>)             │ (<span style=\"color: #00d7ff; text-decoration-color: #00d7ff\">None</span>, <span style=\"color: #00af00; text-decoration-color: #00af00\">1024</span>)           │             <span style=\"color: #00af00; text-decoration-color: #00af00\">0</span> │\n",
              "├─────────────────────────────────┼────────────────────────┼───────────────┤\n",
              "│ dense_1 (<span style=\"color: #0087ff; text-decoration-color: #0087ff\">Dense</span>)                 │ (<span style=\"color: #00d7ff; text-decoration-color: #00d7ff\">None</span>, <span style=\"color: #00af00; text-decoration-color: #00af00\">512</span>)            │       <span style=\"color: #00af00; text-decoration-color: #00af00\">524,800</span> │\n",
              "├─────────────────────────────────┼────────────────────────┼───────────────┤\n",
              "│ dropout_2 (<span style=\"color: #0087ff; text-decoration-color: #0087ff\">Dropout</span>)             │ (<span style=\"color: #00d7ff; text-decoration-color: #00d7ff\">None</span>, <span style=\"color: #00af00; text-decoration-color: #00af00\">512</span>)            │             <span style=\"color: #00af00; text-decoration-color: #00af00\">0</span> │\n",
              "├─────────────────────────────────┼────────────────────────┼───────────────┤\n",
              "│ dense_2 (<span style=\"color: #0087ff; text-decoration-color: #0087ff\">Dense</span>)                 │ (<span style=\"color: #00d7ff; text-decoration-color: #00d7ff\">None</span>, <span style=\"color: #00af00; text-decoration-color: #00af00\">256</span>)            │       <span style=\"color: #00af00; text-decoration-color: #00af00\">131,328</span> │\n",
              "├─────────────────────────────────┼────────────────────────┼───────────────┤\n",
              "│ dropout_3 (<span style=\"color: #0087ff; text-decoration-color: #0087ff\">Dropout</span>)             │ (<span style=\"color: #00d7ff; text-decoration-color: #00d7ff\">None</span>, <span style=\"color: #00af00; text-decoration-color: #00af00\">256</span>)            │             <span style=\"color: #00af00; text-decoration-color: #00af00\">0</span> │\n",
              "├─────────────────────────────────┼────────────────────────┼───────────────┤\n",
              "│ dense_3 (<span style=\"color: #0087ff; text-decoration-color: #0087ff\">Dense</span>)                 │ (<span style=\"color: #00d7ff; text-decoration-color: #00d7ff\">None</span>, <span style=\"color: #00af00; text-decoration-color: #00af00\">128</span>)            │        <span style=\"color: #00af00; text-decoration-color: #00af00\">32,896</span> │\n",
              "├─────────────────────────────────┼────────────────────────┼───────────────┤\n",
              "│ dropout_4 (<span style=\"color: #0087ff; text-decoration-color: #0087ff\">Dropout</span>)             │ (<span style=\"color: #00d7ff; text-decoration-color: #00d7ff\">None</span>, <span style=\"color: #00af00; text-decoration-color: #00af00\">128</span>)            │             <span style=\"color: #00af00; text-decoration-color: #00af00\">0</span> │\n",
              "├─────────────────────────────────┼────────────────────────┼───────────────┤\n",
              "│ dense_4 (<span style=\"color: #0087ff; text-decoration-color: #0087ff\">Dense</span>)                 │ (<span style=\"color: #00d7ff; text-decoration-color: #00d7ff\">None</span>, <span style=\"color: #00af00; text-decoration-color: #00af00\">10</span>)             │         <span style=\"color: #00af00; text-decoration-color: #00af00\">1,290</span> │\n",
              "└─────────────────────────────────┴────────────────────────┴───────────────┘\n",
              "</pre>\n"
            ]
          },
          "metadata": {}
        },
        {
          "output_type": "display_data",
          "data": {
            "text/plain": [
              "\u001b[1m Total params: \u001b[0m\u001b[38;5;34m1,494,154\u001b[0m (5.70 MB)\n"
            ],
            "text/html": [
              "<pre style=\"white-space:pre;overflow-x:auto;line-height:normal;font-family:Menlo,'DejaVu Sans Mono',consolas,'Courier New',monospace\"><span style=\"font-weight: bold\"> Total params: </span><span style=\"color: #00af00; text-decoration-color: #00af00\">1,494,154</span> (5.70 MB)\n",
              "</pre>\n"
            ]
          },
          "metadata": {}
        },
        {
          "output_type": "display_data",
          "data": {
            "text/plain": [
              "\u001b[1m Trainable params: \u001b[0m\u001b[38;5;34m1,494,154\u001b[0m (5.70 MB)\n"
            ],
            "text/html": [
              "<pre style=\"white-space:pre;overflow-x:auto;line-height:normal;font-family:Menlo,'DejaVu Sans Mono',consolas,'Courier New',monospace\"><span style=\"font-weight: bold\"> Trainable params: </span><span style=\"color: #00af00; text-decoration-color: #00af00\">1,494,154</span> (5.70 MB)\n",
              "</pre>\n"
            ]
          },
          "metadata": {}
        },
        {
          "output_type": "display_data",
          "data": {
            "text/plain": [
              "\u001b[1m Non-trainable params: \u001b[0m\u001b[38;5;34m0\u001b[0m (0.00 B)\n"
            ],
            "text/html": [
              "<pre style=\"white-space:pre;overflow-x:auto;line-height:normal;font-family:Menlo,'DejaVu Sans Mono',consolas,'Courier New',monospace\"><span style=\"font-weight: bold\"> Non-trainable params: </span><span style=\"color: #00af00; text-decoration-color: #00af00\">0</span> (0.00 B)\n",
              "</pre>\n"
            ]
          },
          "metadata": {}
        }
      ]
    },
    {
      "cell_type": "code",
      "source": [
        "start_time = time.process_time()\n",
        "# carrega os pesos e bias com os valores inicias, para um novo treinamento da rede\n",
        "Dropout_model.set_weights(initial_weights_dropout)\n",
        "# treinamento da rede\n",
        "h = Dropout_model.fit(X_train, y_train, batch_size=64, epochs=15, verbose=1, validation_split=0.1)\n",
        "# tempo total de treinamento da rede\n",
        "processing_time(start_time, time.process_time())"
      ],
      "metadata": {
        "colab": {
          "base_uri": "https://localhost:8080/"
        },
        "outputId": "aee3d467-2bd5-4a62-95ad-ce56db8065e7",
        "id": "ljhwPO14f1PF"
      },
      "execution_count": null,
      "outputs": [
        {
          "output_type": "stream",
          "name": "stdout",
          "text": [
            "Epoch 1/15\n",
            "\u001b[1m844/844\u001b[0m \u001b[32m━━━━━━━━━━━━━━━━━━━━\u001b[0m\u001b[37m\u001b[0m \u001b[1m10s\u001b[0m 8ms/step - accuracy: 0.6066 - loss: 1.1648 - val_accuracy: 0.9523 - val_loss: 0.1631\n",
            "Epoch 2/15\n",
            "\u001b[1m844/844\u001b[0m \u001b[32m━━━━━━━━━━━━━━━━━━━━\u001b[0m\u001b[37m\u001b[0m \u001b[1m4s\u001b[0m 3ms/step - accuracy: 0.9124 - loss: 0.3068 - val_accuracy: 0.9660 - val_loss: 0.1121\n",
            "Epoch 3/15\n",
            "\u001b[1m844/844\u001b[0m \u001b[32m━━━━━━━━━━━━━━━━━━━━\u001b[0m\u001b[37m\u001b[0m \u001b[1m5s\u001b[0m 3ms/step - accuracy: 0.9397 - loss: 0.2123 - val_accuracy: 0.9725 - val_loss: 0.0944\n",
            "Epoch 4/15\n",
            "\u001b[1m844/844\u001b[0m \u001b[32m━━━━━━━━━━━━━━━━━━━━\u001b[0m\u001b[37m\u001b[0m \u001b[1m6s\u001b[0m 4ms/step - accuracy: 0.9509 - loss: 0.1739 - val_accuracy: 0.9758 - val_loss: 0.0797\n",
            "Epoch 5/15\n",
            "\u001b[1m844/844\u001b[0m \u001b[32m━━━━━━━━━━━━━━━━━━━━\u001b[0m\u001b[37m\u001b[0m \u001b[1m4s\u001b[0m 3ms/step - accuracy: 0.9596 - loss: 0.1439 - val_accuracy: 0.9782 - val_loss: 0.0739\n",
            "Epoch 6/15\n",
            "\u001b[1m844/844\u001b[0m \u001b[32m━━━━━━━━━━━━━━━━━━━━\u001b[0m\u001b[37m\u001b[0m \u001b[1m3s\u001b[0m 3ms/step - accuracy: 0.9646 - loss: 0.1272 - val_accuracy: 0.9783 - val_loss: 0.0725\n",
            "Epoch 7/15\n",
            "\u001b[1m844/844\u001b[0m \u001b[32m━━━━━━━━━━━━━━━━━━━━\u001b[0m\u001b[37m\u001b[0m \u001b[1m6s\u001b[0m 4ms/step - accuracy: 0.9696 - loss: 0.1098 - val_accuracy: 0.9815 - val_loss: 0.0648\n",
            "Epoch 8/15\n",
            "\u001b[1m844/844\u001b[0m \u001b[32m━━━━━━━━━━━━━━━━━━━━\u001b[0m\u001b[37m\u001b[0m \u001b[1m4s\u001b[0m 3ms/step - accuracy: 0.9721 - loss: 0.0972 - val_accuracy: 0.9828 - val_loss: 0.0587\n",
            "Epoch 9/15\n",
            "\u001b[1m844/844\u001b[0m \u001b[32m━━━━━━━━━━━━━━━━━━━━\u001b[0m\u001b[37m\u001b[0m \u001b[1m3s\u001b[0m 3ms/step - accuracy: 0.9762 - loss: 0.0841 - val_accuracy: 0.9808 - val_loss: 0.0619\n",
            "Epoch 10/15\n",
            "\u001b[1m844/844\u001b[0m \u001b[32m━━━━━━━━━━━━━━━━━━━━\u001b[0m\u001b[37m\u001b[0m \u001b[1m6s\u001b[0m 4ms/step - accuracy: 0.9755 - loss: 0.0853 - val_accuracy: 0.9830 - val_loss: 0.0586\n",
            "Epoch 11/15\n",
            "\u001b[1m844/844\u001b[0m \u001b[32m━━━━━━━━━━━━━━━━━━━━\u001b[0m\u001b[37m\u001b[0m \u001b[1m4s\u001b[0m 3ms/step - accuracy: 0.9791 - loss: 0.0726 - val_accuracy: 0.9823 - val_loss: 0.0620\n",
            "Epoch 12/15\n",
            "\u001b[1m844/844\u001b[0m \u001b[32m━━━━━━━━━━━━━━━━━━━━\u001b[0m\u001b[37m\u001b[0m \u001b[1m3s\u001b[0m 3ms/step - accuracy: 0.9803 - loss: 0.0704 - val_accuracy: 0.9867 - val_loss: 0.0526\n",
            "Epoch 13/15\n",
            "\u001b[1m844/844\u001b[0m \u001b[32m━━━━━━━━━━━━━━━━━━━━\u001b[0m\u001b[37m\u001b[0m \u001b[1m3s\u001b[0m 3ms/step - accuracy: 0.9830 - loss: 0.0586 - val_accuracy: 0.9848 - val_loss: 0.0559\n",
            "Epoch 14/15\n",
            "\u001b[1m844/844\u001b[0m \u001b[32m━━━━━━━━━━━━━━━━━━━━\u001b[0m\u001b[37m\u001b[0m \u001b[1m5s\u001b[0m 4ms/step - accuracy: 0.9836 - loss: 0.0542 - val_accuracy: 0.9847 - val_loss: 0.0567\n",
            "Epoch 15/15\n",
            "\u001b[1m844/844\u001b[0m \u001b[32m━━━━━━━━━━━━━━━━━━━━\u001b[0m\u001b[37m\u001b[0m \u001b[1m5s\u001b[0m 3ms/step - accuracy: 0.9833 - loss: 0.0572 - val_accuracy: 0.9843 - val_loss: 0.0571\n",
            "\n",
            "Tempo de treinamento da rede: 0m49s\n"
          ]
        }
      ]
    },
    {
      "cell_type": "code",
      "source": [
        "plot_acc_loss(h)"
      ],
      "metadata": {
        "colab": {
          "base_uri": "https://localhost:8080/",
          "height": 507
        },
        "outputId": "ed76d966-c669-4cfc-baaa-c01db442ca31",
        "id": "F8gyMcXjhKlc"
      },
      "execution_count": null,
      "outputs": [
        {
          "output_type": "display_data",
          "data": {
            "text/plain": [
              "<Figure size 1100x500 with 2 Axes>"
            ],
            "image/png": "[encoded data removed]"
          },
          "metadata": {}
        }
      ]
    },
    {
      "cell_type": "markdown",
      "metadata": {
        "id": "nDPkS7KpY8AY"
      },
      "source": [
        "Nice! Adding Dropout to our model pushed our test score above the base model for the first time (although not by much)! This is great because we didn't have to add more data. Also, notice how the training score is lower than the test score, which indicates the model is not overfitting and also there seem to be even more room for improvement if we run the training for more epochs!"
      ]
    },
    {
      "cell_type": "code",
      "source": [
        "# salvando o Modelo para predições futuras sem ter que treiná-lo novamente\n",
        "from keras.models import model_from_json\n",
        "model_json = Dropout_model.to_json()\n",
        "with open(\"./model_3_deeplearning.json\",\"w\") as json_file: #/content/drive/MyDrive/\n",
        "    json_file.write(model_json)\n",
        "Dropout_model.save_weights(\"./weights_3.weights.h5\") #/content/drive/MyDrive/\n",
        "print('Saved model to disk')"
      ],
      "metadata": {
        "colab": {
          "base_uri": "https://localhost:8080/"
        },
        "outputId": "1216bd5f-1ba1-4242-eb49-7158177a8423",
        "id": "sdj1-NC-xBoa"
      },
      "execution_count": null,
      "outputs": [
        {
          "output_type": "stream",
          "name": "stdout",
          "text": [
            "Saved model to disk\n"
          ]
        }
      ]
    },
    {
      "cell_type": "markdown",
      "source": [
        "### Regularização\n",
        "\n",
        "Uma  forma  de  evitar  o  *overfitting*  é  a  aplicação  de  regularização.  Um  tipo  de regularização comum às redes neurais é o *dropout*, que anula de forma aleatória, e a cada iteração, uma porcentagem dos neurônios, reduzindo, assim, a complexidade do modelo\n",
        "e favorecendo a robustez do  mesmo, uma  vez que o treinamento se dá por morfologias distintas a cada iteração, evitando que certos neurônios se coadaptem ao aprendizado de neurônios anteriores.\n",
        "\n",
        "Ao acrescentar camadas *dropout* após cada *hidden layer* com 10% a 50% dos neurônios ativos, obtém-se uma acurácia de  ~98%  e  ~98%  para os dados de treino  e  validação,  respectivamente.  A  ausência  de  *overfitting*  pode  ser  verificada, também, pelos gráficos da função custo e acurácia."
      ],
      "metadata": {
        "id": "YXmpJjtbiT00"
      }
    },
    {
      "cell_type": "markdown",
      "source": [
        "###Max Norm\n",
        "The Dropout paper also mentions the use of a global constraint to improve the behavior of a Dropout network further. Constraints can be added in Keras through the `kernel_constraint` parameter available in the definition of a layer.\n",
        "Following the paper, let's see what happens if we impose a `max_norm` constraint to the weights of the model. According to the [Documentation](https://keras.io/constraints/), this is equivalent to say that the sum of the square of the weights cannot be higher than a certain _constant_, which can be specified by the user with the argument `c`."
      ],
      "metadata": {
        "id": "YuyCjNLllBuG"
      }
    },
    {
      "cell_type": "markdown",
      "metadata": {
        "id": "XkcmZOXuY8AY"
      },
      "source": [
        "Let's define a new model function `dropout_max_norm`, that has both `dropout` and the `max_norm` constraint:"
      ]
    },
    {
      "cell_type": "code",
      "execution_count": null,
      "metadata": {
        "id": "XNsva3doY8AZ"
      },
      "outputs": [],
      "source": [
        "from tensorflow.keras.constraints import max_norm\n",
        "def dropout_max_norm(c=2.0):\n",
        "    \"\"\"\n",
        "    MaxNorm weight constraint. Constrains the weights incident to each hidden unit\n",
        "    to have a norm less than or equal to a desired value.\n",
        "    Args: max_value(c): the maximum norm value for the incoming weights (default c=2).\n",
        "    Return a fully connected model with Dropout and Max Norm constraint.\n",
        "    \"\"\"\n",
        "    backend.clear_session()\n",
        "    model = Sequential(name='dropout_max_norm')\n",
        "    model.add(Input(shape=(28,28), name='input'))\n",
        "    model.add(Flatten())\n",
        "    model.add(Dropout(0.1))\n",
        "    model.add(Dense(1024, activation='relu', kernel_constraint=max_norm(c)))\n",
        "    model.add(Dropout(0.2))\n",
        "    model.add(Dense(512, activation='relu', kernel_constraint=max_norm(c)))\n",
        "    model.add(Dropout(0.2))\n",
        "    model.add(Dense(256, activation='relu', kernel_constraint=max_norm(c)))\n",
        "    model.add(Dropout(0.4))\n",
        "    model.add(Dense(128, activation='relu', kernel_constraint=max_norm(c)))\n",
        "    model.add(Dropout(0.5))\n",
        "    model.add(Dense(10, activation='softmax'))\n",
        "    initial_weights_ = model.get_weights()\n",
        "    model.compile(optimizer=SGD(0.05), loss='sparse_categorical_crossentropy', metrics=['accuracy'])\n",
        "    model.summary()\n",
        "    return model, initial_weights_"
      ]
    },
    {
      "cell_type": "code",
      "source": [
        "max_norm_model, initial_weights_max_norm = dropout_max_norm(c=1)"
      ],
      "metadata": {
        "id": "yUCmQPFvmwsK",
        "colab": {
          "base_uri": "https://localhost:8080/",
          "height": 500
        },
        "outputId": "a9882e84-186c-41ef-c7c7-6f578fac2fe1"
      },
      "execution_count": null,
      "outputs": [
        {
          "output_type": "display_data",
          "data": {
            "text/plain": [
              "\u001b[1mModel: \"dropout_max_norm\"\u001b[0m\n"
            ],
            "text/html": [
              "<pre style=\"white-space:pre;overflow-x:auto;line-height:normal;font-family:Menlo,'DejaVu Sans Mono',consolas,'Courier New',monospace\"><span style=\"font-weight: bold\">Model: \"dropout_max_norm\"</span>\n",
              "</pre>\n"
            ]
          },
          "metadata": {}
        },
        {
          "output_type": "display_data",
          "data": {
            "text/plain": [
              "┏━━━━━━━━━━━━━━━━━━━━━━━━━━━━━━━━━┳━━━━━━━━━━━━━━━━━━━━━━━━┳━━━━━━━━━━━━━━━┓\n",
              "┃\u001b[1m \u001b[0m\u001b[1mLayer (type)                   \u001b[0m\u001b[1m \u001b[0m┃\u001b[1m \u001b[0m\u001b[1mOutput Shape          \u001b[0m\u001b[1m \u001b[0m┃\u001b[1m \u001b[0m\u001b[1m      Param #\u001b[0m\u001b[1m \u001b[0m┃\n",
              "┡━━━━━━━━━━━━━━━━━━━━━━━━━━━━━━━━━╇━━━━━━━━━━━━━━━━━━━━━━━━╇━━━━━━━━━━━━━━━┩\n",
              "│ flatten (\u001b[38;5;33mFlatten\u001b[0m)               │ (\u001b[38;5;45mNone\u001b[0m, \u001b[38;5;34m784\u001b[0m)            │             \u001b[38;5;34m0\u001b[0m │\n",
              "├─────────────────────────────────┼────────────────────────┼───────────────┤\n",
              "│ dropout (\u001b[38;5;33mDropout\u001b[0m)               │ (\u001b[38;5;45mNone\u001b[0m, \u001b[38;5;34m784\u001b[0m)            │             \u001b[38;5;34m0\u001b[0m │\n",
              "├─────────────────────────────────┼────────────────────────┼───────────────┤\n",
              "│ dense (\u001b[38;5;33mDense\u001b[0m)                   │ (\u001b[38;5;45mNone\u001b[0m, \u001b[38;5;34m1024\u001b[0m)           │       \u001b[38;5;34m803,840\u001b[0m │\n",
              "├─────────────────────────────────┼────────────────────────┼───────────────┤\n",
              "│ dropout_1 (\u001b[38;5;33mDropout\u001b[0m)             │ (\u001b[38;5;45mNone\u001b[0m, \u001b[38;5;34m1024\u001b[0m)           │             \u001b[38;5;34m0\u001b[0m │\n",
              "├─────────────────────────────────┼────────────────────────┼───────────────┤\n",
              "│ dense_1 (\u001b[38;5;33mDense\u001b[0m)                 │ (\u001b[38;5;45mNone\u001b[0m, \u001b[38;5;34m512\u001b[0m)            │       \u001b[38;5;34m524,800\u001b[0m │\n",
              "├─────────────────────────────────┼────────────────────────┼───────────────┤\n",
              "│ dropout_2 (\u001b[38;5;33mDropout\u001b[0m)             │ (\u001b[38;5;45mNone\u001b[0m, \u001b[38;5;34m512\u001b[0m)            │             \u001b[38;5;34m0\u001b[0m │\n",
              "├─────────────────────────────────┼────────────────────────┼───────────────┤\n",
              "│ dense_2 (\u001b[38;5;33mDense\u001b[0m)                 │ (\u001b[38;5;45mNone\u001b[0m, \u001b[38;5;34m256\u001b[0m)            │       \u001b[38;5;34m131,328\u001b[0m │\n",
              "├─────────────────────────────────┼────────────────────────┼───────────────┤\n",
              "│ dropout_3 (\u001b[38;5;33mDropout\u001b[0m)             │ (\u001b[38;5;45mNone\u001b[0m, \u001b[38;5;34m256\u001b[0m)            │             \u001b[38;5;34m0\u001b[0m │\n",
              "├─────────────────────────────────┼────────────────────────┼───────────────┤\n",
              "│ dense_3 (\u001b[38;5;33mDense\u001b[0m)                 │ (\u001b[38;5;45mNone\u001b[0m, \u001b[38;5;34m128\u001b[0m)            │        \u001b[38;5;34m32,896\u001b[0m │\n",
              "├─────────────────────────────────┼────────────────────────┼───────────────┤\n",
              "│ dropout_4 (\u001b[38;5;33mDropout\u001b[0m)             │ (\u001b[38;5;45mNone\u001b[0m, \u001b[38;5;34m128\u001b[0m)            │             \u001b[38;5;34m0\u001b[0m │\n",
              "├─────────────────────────────────┼────────────────────────┼───────────────┤\n",
              "│ dense_4 (\u001b[38;5;33mDense\u001b[0m)                 │ (\u001b[38;5;45mNone\u001b[0m, \u001b[38;5;34m10\u001b[0m)             │         \u001b[38;5;34m1,290\u001b[0m │\n",
              "└─────────────────────────────────┴────────────────────────┴───────────────┘\n"
            ],
            "text/html": [
              "<pre style=\"white-space:pre;overflow-x:auto;line-height:normal;font-family:Menlo,'DejaVu Sans Mono',consolas,'Courier New',monospace\">┏━━━━━━━━━━━━━━━━━━━━━━━━━━━━━━━━━┳━━━━━━━━━━━━━━━━━━━━━━━━┳━━━━━━━━━━━━━━━┓\n",
              "┃<span style=\"font-weight: bold\"> Layer (type)                    </span>┃<span style=\"font-weight: bold\"> Output Shape           </span>┃<span style=\"font-weight: bold\">       Param # </span>┃\n",
              "┡━━━━━━━━━━━━━━━━━━━━━━━━━━━━━━━━━╇━━━━━━━━━━━━━━━━━━━━━━━━╇━━━━━━━━━━━━━━━┩\n",
              "│ flatten (<span style=\"color: #0087ff; text-decoration-color: #0087ff\">Flatten</span>)               │ (<span style=\"color: #00d7ff; text-decoration-color: #00d7ff\">None</span>, <span style=\"color: #00af00; text-decoration-color: #00af00\">784</span>)            │             <span style=\"color: #00af00; text-decoration-color: #00af00\">0</span> │\n",
              "├─────────────────────────────────┼────────────────────────┼───────────────┤\n",
              "│ dropout (<span style=\"color: #0087ff; text-decoration-color: #0087ff\">Dropout</span>)               │ (<span style=\"color: #00d7ff; text-decoration-color: #00d7ff\">None</span>, <span style=\"color: #00af00; text-decoration-color: #00af00\">784</span>)            │             <span style=\"color: #00af00; text-decoration-color: #00af00\">0</span> │\n",
              "├─────────────────────────────────┼────────────────────────┼───────────────┤\n",
              "│ dense (<span style=\"color: #0087ff; text-decoration-color: #0087ff\">Dense</span>)                   │ (<span style=\"color: #00d7ff; text-decoration-color: #00d7ff\">None</span>, <span style=\"color: #00af00; text-decoration-color: #00af00\">1024</span>)           │       <span style=\"color: #00af00; text-decoration-color: #00af00\">803,840</span> │\n",
              "├─────────────────────────────────┼────────────────────────┼───────────────┤\n",
              "│ dropout_1 (<span style=\"color: #0087ff; text-decoration-color: #0087ff\">Dropout</span>)             │ (<span style=\"color: #00d7ff; text-decoration-color: #00d7ff\">None</span>, <span style=\"color: #00af00; text-decoration-color: #00af00\">1024</span>)           │             <span style=\"color: #00af00; text-decoration-color: #00af00\">0</span> │\n",
              "├─────────────────────────────────┼────────────────────────┼───────────────┤\n",
              "│ dense_1 (<span style=\"color: #0087ff; text-decoration-color: #0087ff\">Dense</span>)                 │ (<span style=\"color: #00d7ff; text-decoration-color: #00d7ff\">None</span>, <span style=\"color: #00af00; text-decoration-color: #00af00\">512</span>)            │       <span style=\"color: #00af00; text-decoration-color: #00af00\">524,800</span> │\n",
              "├─────────────────────────────────┼────────────────────────┼───────────────┤\n",
              "│ dropout_2 (<span style=\"color: #0087ff; text-decoration-color: #0087ff\">Dropout</span>)             │ (<span style=\"color: #00d7ff; text-decoration-color: #00d7ff\">None</span>, <span style=\"color: #00af00; text-decoration-color: #00af00\">512</span>)            │             <span style=\"color: #00af00; text-decoration-color: #00af00\">0</span> │\n",
              "├─────────────────────────────────┼────────────────────────┼───────────────┤\n",
              "│ dense_2 (<span style=\"color: #0087ff; text-decoration-color: #0087ff\">Dense</span>)                 │ (<span style=\"color: #00d7ff; text-decoration-color: #00d7ff\">None</span>, <span style=\"color: #00af00; text-decoration-color: #00af00\">256</span>)            │       <span style=\"color: #00af00; text-decoration-color: #00af00\">131,328</span> │\n",
              "├─────────────────────────────────┼────────────────────────┼───────────────┤\n",
              "│ dropout_3 (<span style=\"color: #0087ff; text-decoration-color: #0087ff\">Dropout</span>)             │ (<span style=\"color: #00d7ff; text-decoration-color: #00d7ff\">None</span>, <span style=\"color: #00af00; text-decoration-color: #00af00\">256</span>)            │             <span style=\"color: #00af00; text-decoration-color: #00af00\">0</span> │\n",
              "├─────────────────────────────────┼────────────────────────┼───────────────┤\n",
              "│ dense_3 (<span style=\"color: #0087ff; text-decoration-color: #0087ff\">Dense</span>)                 │ (<span style=\"color: #00d7ff; text-decoration-color: #00d7ff\">None</span>, <span style=\"color: #00af00; text-decoration-color: #00af00\">128</span>)            │        <span style=\"color: #00af00; text-decoration-color: #00af00\">32,896</span> │\n",
              "├─────────────────────────────────┼────────────────────────┼───────────────┤\n",
              "│ dropout_4 (<span style=\"color: #0087ff; text-decoration-color: #0087ff\">Dropout</span>)             │ (<span style=\"color: #00d7ff; text-decoration-color: #00d7ff\">None</span>, <span style=\"color: #00af00; text-decoration-color: #00af00\">128</span>)            │             <span style=\"color: #00af00; text-decoration-color: #00af00\">0</span> │\n",
              "├─────────────────────────────────┼────────────────────────┼───────────────┤\n",
              "│ dense_4 (<span style=\"color: #0087ff; text-decoration-color: #0087ff\">Dense</span>)                 │ (<span style=\"color: #00d7ff; text-decoration-color: #00d7ff\">None</span>, <span style=\"color: #00af00; text-decoration-color: #00af00\">10</span>)             │         <span style=\"color: #00af00; text-decoration-color: #00af00\">1,290</span> │\n",
              "└─────────────────────────────────┴────────────────────────┴───────────────┘\n",
              "</pre>\n"
            ]
          },
          "metadata": {}
        },
        {
          "output_type": "display_data",
          "data": {
            "text/plain": [
              "\u001b[1m Total params: \u001b[0m\u001b[38;5;34m1,494,154\u001b[0m (5.70 MB)\n"
            ],
            "text/html": [
              "<pre style=\"white-space:pre;overflow-x:auto;line-height:normal;font-family:Menlo,'DejaVu Sans Mono',consolas,'Courier New',monospace\"><span style=\"font-weight: bold\"> Total params: </span><span style=\"color: #00af00; text-decoration-color: #00af00\">1,494,154</span> (5.70 MB)\n",
              "</pre>\n"
            ]
          },
          "metadata": {}
        },
        {
          "output_type": "display_data",
          "data": {
            "text/plain": [
              "\u001b[1m Trainable params: \u001b[0m\u001b[38;5;34m1,494,154\u001b[0m (5.70 MB)\n"
            ],
            "text/html": [
              "<pre style=\"white-space:pre;overflow-x:auto;line-height:normal;font-family:Menlo,'DejaVu Sans Mono',consolas,'Courier New',monospace\"><span style=\"font-weight: bold\"> Trainable params: </span><span style=\"color: #00af00; text-decoration-color: #00af00\">1,494,154</span> (5.70 MB)\n",
              "</pre>\n"
            ]
          },
          "metadata": {}
        },
        {
          "output_type": "display_data",
          "data": {
            "text/plain": [
              "\u001b[1m Non-trainable params: \u001b[0m\u001b[38;5;34m0\u001b[0m (0.00 B)\n"
            ],
            "text/html": [
              "<pre style=\"white-space:pre;overflow-x:auto;line-height:normal;font-family:Menlo,'DejaVu Sans Mono',consolas,'Courier New',monospace\"><span style=\"font-weight: bold\"> Non-trainable params: </span><span style=\"color: #00af00; text-decoration-color: #00af00\">0</span> (0.00 B)\n",
              "</pre>\n"
            ]
          },
          "metadata": {}
        }
      ]
    },
    {
      "cell_type": "code",
      "source": [
        "start_time = time.process_time()\n",
        "# carrega os pesos e bias com os valores inicias, para um novo treinamento da rede\n",
        "max_norm_model.set_weights(initial_weights_max_norm)\n",
        "# treinamento da rede\n",
        "h = max_norm_model.fit(X_train, y_train, batch_size=64, epochs=15, verbose=1, validation_split=0.1)\n",
        "# tempo total de treinamento da rede\n",
        "processing_time(start_time, time.process_time())"
      ],
      "metadata": {
        "colab": {
          "base_uri": "https://localhost:8080/"
        },
        "outputId": "47fd0627-b9b0-4a93-9598-6d41e4c67bfb",
        "id": "JTNvKvYAmwsM"
      },
      "execution_count": null,
      "outputs": [
        {
          "output_type": "stream",
          "name": "stdout",
          "text": [
            "Epoch 1/15\n",
            "\u001b[1m844/844\u001b[0m \u001b[32m━━━━━━━━━━━━━━━━━━━━\u001b[0m\u001b[37m\u001b[0m \u001b[1m10s\u001b[0m 8ms/step - accuracy: 0.5760 - loss: 1.2647 - val_accuracy: 0.9487 - val_loss: 0.1746\n",
            "Epoch 2/15\n",
            "\u001b[1m844/844\u001b[0m \u001b[32m━━━━━━━━━━━━━━━━━━━━\u001b[0m\u001b[37m\u001b[0m \u001b[1m4s\u001b[0m 3ms/step - accuracy: 0.9086 - loss: 0.3223 - val_accuracy: 0.9687 - val_loss: 0.1082\n",
            "Epoch 3/15\n",
            "\u001b[1m844/844\u001b[0m \u001b[32m━━━━━━━━━━━━━━━━━━━━\u001b[0m\u001b[37m\u001b[0m \u001b[1m6s\u001b[0m 4ms/step - accuracy: 0.9385 - loss: 0.2161 - val_accuracy: 0.9713 - val_loss: 0.0900\n",
            "Epoch 4/15\n",
            "\u001b[1m844/844\u001b[0m \u001b[32m━━━━━━━━━━━━━━━━━━━━\u001b[0m\u001b[37m\u001b[0m \u001b[1m4s\u001b[0m 3ms/step - accuracy: 0.9490 - loss: 0.1799 - val_accuracy: 0.9767 - val_loss: 0.0788\n",
            "Epoch 5/15\n",
            "\u001b[1m844/844\u001b[0m \u001b[32m━━━━━━━━━━━━━━━━━━━━\u001b[0m\u001b[37m\u001b[0m \u001b[1m3s\u001b[0m 3ms/step - accuracy: 0.9583 - loss: 0.1478 - val_accuracy: 0.9775 - val_loss: 0.0735\n",
            "Epoch 6/15\n",
            "\u001b[1m844/844\u001b[0m \u001b[32m━━━━━━━━━━━━━━━━━━━━\u001b[0m\u001b[37m\u001b[0m \u001b[1m6s\u001b[0m 4ms/step - accuracy: 0.9664 - loss: 0.1181 - val_accuracy: 0.9795 - val_loss: 0.0700\n",
            "Epoch 7/15\n",
            "\u001b[1m844/844\u001b[0m \u001b[32m━━━━━━━━━━━━━━━━━━━━\u001b[0m\u001b[37m\u001b[0m \u001b[1m4s\u001b[0m 3ms/step - accuracy: 0.9682 - loss: 0.1121 - val_accuracy: 0.9810 - val_loss: 0.0636\n",
            "Epoch 8/15\n",
            "\u001b[1m844/844\u001b[0m \u001b[32m━━━━━━━━━━━━━━━━━━━━\u001b[0m\u001b[37m\u001b[0m \u001b[1m5s\u001b[0m 3ms/step - accuracy: 0.9727 - loss: 0.0961 - val_accuracy: 0.9815 - val_loss: 0.0632\n",
            "Epoch 9/15\n",
            "\u001b[1m844/844\u001b[0m \u001b[32m━━━━━━━━━━━━━━━━━━━━\u001b[0m\u001b[37m\u001b[0m \u001b[1m5s\u001b[0m 3ms/step - accuracy: 0.9758 - loss: 0.0918 - val_accuracy: 0.9810 - val_loss: 0.0645\n",
            "Epoch 10/15\n",
            "\u001b[1m844/844\u001b[0m \u001b[32m━━━━━━━━━━━━━━━━━━━━\u001b[0m\u001b[37m\u001b[0m \u001b[1m3s\u001b[0m 3ms/step - accuracy: 0.9768 - loss: 0.0825 - val_accuracy: 0.9837 - val_loss: 0.0584\n",
            "Epoch 11/15\n",
            "\u001b[1m844/844\u001b[0m \u001b[32m━━━━━━━━━━━━━━━━━━━━\u001b[0m\u001b[37m\u001b[0m \u001b[1m5s\u001b[0m 3ms/step - accuracy: 0.9790 - loss: 0.0751 - val_accuracy: 0.9828 - val_loss: 0.0594\n",
            "Epoch 12/15\n",
            "\u001b[1m844/844\u001b[0m \u001b[32m━━━━━━━━━━━━━━━━━━━━\u001b[0m\u001b[37m\u001b[0m \u001b[1m3s\u001b[0m 4ms/step - accuracy: 0.9807 - loss: 0.0679 - val_accuracy: 0.9830 - val_loss: 0.0544\n",
            "Epoch 13/15\n",
            "\u001b[1m844/844\u001b[0m \u001b[32m━━━━━━━━━━━━━━━━━━━━\u001b[0m\u001b[37m\u001b[0m \u001b[1m4s\u001b[0m 3ms/step - accuracy: 0.9816 - loss: 0.0643 - val_accuracy: 0.9837 - val_loss: 0.0541\n",
            "Epoch 14/15\n",
            "\u001b[1m844/844\u001b[0m \u001b[32m━━━━━━━━━━━━━━━━━━━━\u001b[0m\u001b[37m\u001b[0m \u001b[1m5s\u001b[0m 3ms/step - accuracy: 0.9825 - loss: 0.0591 - val_accuracy: 0.9828 - val_loss: 0.0565\n",
            "Epoch 15/15\n",
            "\u001b[1m844/844\u001b[0m \u001b[32m━━━━━━━━━━━━━━━━━━━━\u001b[0m\u001b[37m\u001b[0m \u001b[1m5s\u001b[0m 3ms/step - accuracy: 0.9834 - loss: 0.0561 - val_accuracy: 0.9845 - val_loss: 0.0532\n",
            "\n",
            "Tempo de treinamento da rede: 0m50s\n"
          ]
        }
      ]
    },
    {
      "cell_type": "code",
      "source": [
        "plot_acc_loss(h)"
      ],
      "metadata": {
        "colab": {
          "base_uri": "https://localhost:8080/",
          "height": 507
        },
        "outputId": "9c867d06-c736-4a53-a427-31fab056fa71",
        "id": "EmELAw5inII2"
      },
      "execution_count": null,
      "outputs": [
        {
          "output_type": "display_data",
          "data": {
            "text/plain": [
              "<Figure size 1100x500 with 2 Axes>"
            ],
            "image/png": "[encoded data removed]"
          },
          "metadata": {}
        }
      ]
    },
    {
      "cell_type": "markdown",
      "metadata": {
        "id": "tE4s31vpY8Ab"
      },
      "source": [
        "In this particular case, the Max Norm constraint does not seem to produce results that are qualitatively different from the simple Dropout, but there may be datasets where this constraint helps make the network converge to a better result."
      ]
    },
    {
      "cell_type": "code",
      "source": [
        "# salvando o Modelo para predições futuras sem ter que treiná-lo novamente\n",
        "from keras.models import model_from_json\n",
        "model_json = max_norm_model.to_json()\n",
        "with open(\"./model_4_deeplearning.json\",\"w\") as json_file: #/content/drive/MyDrive/\n",
        "    json_file.write(model_json)\n",
        "max_norm_model.save_weights(\"./weights_4.weights.h5\") #/content/drive/MyDrive/\n",
        "print('Saved model to disk')"
      ],
      "metadata": {
        "colab": {
          "base_uri": "https://localhost:8080/"
        },
        "outputId": "e24d4a16-672b-4394-bdac-6753a68cc0f5",
        "id": "53PnE4wdJzd8"
      },
      "execution_count": null,
      "outputs": [
        {
          "output_type": "stream",
          "name": "stdout",
          "text": [
            "Saved model to disk\n"
          ]
        }
      ]
    },
    {
      "cell_type": "markdown",
      "metadata": {
        "id": "ZJL5X5l2Y8Ab"
      },
      "source": [
        "### Batch Normalization"
      ]
    },
    {
      "cell_type": "markdown",
      "metadata": {
        "id": "tjuaNFdrY8Ab"
      },
      "source": [
        "_Batch Normalization_ was introduced in 2015 as an even better regularization technique, as described in this [paper](https://arxiv.org/pdf/1502.03167.pdf). The authors of the paper started from the observation that training of deep Neural Networks is slow because the distribution of the inputs to a layer changes during training, as the parameters of the previous layers change. Since the inputs to a layer are the outputs of the previous layer, and these are determined by the parameters of the previous layer, as training proceeds the distribution of the output may drift, making it harder for the next layer to adapt.\n",
        "\n",
        "The authors' solution to this problem is to introduce a normalization step between layers, that will take the output values for the current batch and normalize them by removing the mean and dividing by the standard deviation. They observe that their technique allows to use much higher learning rates and be less careful about initialization. It also acts as a regularizer, in some cases eliminating the need for Dropout.\n",
        "\n",
        "Let's walk through the batch algorithm with a small code example. First we calculate the mean and standard deviation of the batch:\n",
        "```python\n",
        "mu_B = X_batch.mean()\n",
        "std_B = X_batch.std()\n",
        "```\n",
        "Then we subtract the mean and divide by the standard deviation:\n",
        "```python\n",
        "X_batch_scaled = (X_batch - mu_B) / np.sqrt(std_B**2 + 0.0001)\n",
        "```\n",
        "Finally we rescale the batch with 2 parameters $\\gamma$ and $\\beta$ that are learned during training:\n",
        "```python\n",
        "X_batch_norm = gamma * X_batch_rescaled + beta\n",
        "```\n",
        "> TIP: Using math notation, the complete algorithm for Batch normalization is the following. Given a mini-batch $B = \\{x_{1...m}\\}$\n",
        ">\n",
        "\\begin{align}\n",
        "\\mu_B &= \\frac{1}{m} \\sum_{i=1}^{m} x_i \\\\\n",
        "\\sigma_B &= \\frac{1}{m} \\sum_{i=1}^{m} (x_i - \\mu_B)^2 \\\\\n",
        "\\hat{x_i} &= \\frac{x_i - \\mu_B}{\\sqrt{\\sigma_B^2 + \\epsilon}} \\\\\n",
        "y_i &= \\gamma \\hat{x_i} + \\beta \\\\\n",
        "\\end{align}\n",
        "\n",
        "\n",
        "\n",
        "\n",
        "Batch Normalization is very powerful, and Keras makes it available as a layer too, as described in the [Documentation](https://keras.io/layers/normalization/). One important thing to note is that BN needs to be applied before the nonlinear activation function. Let's see how it's done. First we load the `BatchNormalization` and `Activation` layers."
      ]
    },
    {
      "cell_type": "markdown",
      "metadata": {
        "id": "XQ0GNpKMY8Ab"
      },
      "source": [
        "Then we define again a new model function `batch_norm_model` that adds Batch Normalization to our fully connected network defined in the `base_model`:"
      ]
    },
    {
      "cell_type": "code",
      "execution_count": null,
      "metadata": {
        "id": "c0QjDX7AY8Ac"
      },
      "outputs": [],
      "source": [
        "from tensorflow.keras.layers import BatchNormalization, Activation\n",
        "def batch_norm_model(momentum_=0.99):\n",
        "    \"\"\"\n",
        "    Batch normalization applies a transformation that maintains the mean output\n",
        "    close to 0 and the output standard deviation close to 1.\n",
        "    momentum_: Momentum for the moving average. Default: momentum_=0.99.\n",
        "    Return a fully connected model with Batch Normalization.\n",
        "    \"\"\"\n",
        "    backend.clear_session()\n",
        "    model = Sequential(name='batch_norm_model')\n",
        "    model.add(Input(shape=(28,28), name='input'))\n",
        "    model.add(Flatten())\n",
        "    model.add(Dense(1024))\n",
        "    # batch normalization must come before activation function\n",
        "    model.add(BatchNormalization(momentum=momentum_))\n",
        "    model.add(Activation('relu'))\n",
        "    model.add(Dense(512))\n",
        "    model.add(BatchNormalization(momentum=momentum_))\n",
        "    model.add(Activation('relu'))\n",
        "    model.add(Dense(256))\n",
        "    model.add(BatchNormalization(momentum=momentum_))\n",
        "    model.add(Activation('relu'))\n",
        "    model.add(Dense(128))\n",
        "    model.add(BatchNormalization(momentum=momentum_))\n",
        "    model.add(Activation('relu'))\n",
        "    model.add(Dense(10))\n",
        "    model.add(BatchNormalization(momentum=momentum_))\n",
        "    model.add(Activation('softmax'))\n",
        "    initial_weights_ = model.get_weights()\n",
        "    model.compile(optimizer=SGD(0.05), loss='sparse_categorical_crossentropy', metrics=['accuracy'])\n",
        "    model.summary()\n",
        "    return model, initial_weights_"
      ]
    },
    {
      "cell_type": "markdown",
      "metadata": {
        "id": "xvp6C7JnY8Ac"
      },
      "source": [
        "Batch Normalization seems to work better with smaller batches, so we will run the `repeat_train` function with a smaller `batch_size`.\n",
        "\n",
        "Since smaller batches mean more weight updates at each epoch, we will also run the training for fewer epochs."
      ]
    },
    {
      "cell_type": "code",
      "source": [
        "Batch_norm_model, initial_weights_batch_norm = batch_norm_model(0.8)"
      ],
      "metadata": {
        "id": "ePiBgwIcrp3_",
        "colab": {
          "base_uri": "https://localhost:8080/",
          "height": 750
        },
        "outputId": "1ecf6e56-e007-4f60-cb6d-1a4252646f5c"
      },
      "execution_count": null,
      "outputs": [
        {
          "output_type": "display_data",
          "data": {
            "text/plain": [
              "\u001b[1mModel: \"batch_norm_model\"\u001b[0m\n"
            ],
            "text/html": [
              "<pre style=\"white-space:pre;overflow-x:auto;line-height:normal;font-family:Menlo,'DejaVu Sans Mono',consolas,'Courier New',monospace\"><span style=\"font-weight: bold\">Model: \"batch_norm_model\"</span>\n",
              "</pre>\n"
            ]
          },
          "metadata": {}
        },
        {
          "output_type": "display_data",
          "data": {
            "text/plain": [
              "┏━━━━━━━━━━━━━━━━━━━━━━━━━━━━━━━━━┳━━━━━━━━━━━━━━━━━━━━━━━━┳━━━━━━━━━━━━━━━┓\n",
              "┃\u001b[1m \u001b[0m\u001b[1mLayer (type)                   \u001b[0m\u001b[1m \u001b[0m┃\u001b[1m \u001b[0m\u001b[1mOutput Shape          \u001b[0m\u001b[1m \u001b[0m┃\u001b[1m \u001b[0m\u001b[1m      Param #\u001b[0m\u001b[1m \u001b[0m┃\n",
              "┡━━━━━━━━━━━━━━━━━━━━━━━━━━━━━━━━━╇━━━━━━━━━━━━━━━━━━━━━━━━╇━━━━━━━━━━━━━━━┩\n",
              "│ flatten (\u001b[38;5;33mFlatten\u001b[0m)               │ (\u001b[38;5;45mNone\u001b[0m, \u001b[38;5;34m784\u001b[0m)            │             \u001b[38;5;34m0\u001b[0m │\n",
              "├─────────────────────────────────┼────────────────────────┼───────────────┤\n",
              "│ dense (\u001b[38;5;33mDense\u001b[0m)                   │ (\u001b[38;5;45mNone\u001b[0m, \u001b[38;5;34m1024\u001b[0m)           │       \u001b[38;5;34m803,840\u001b[0m │\n",
              "├─────────────────────────────────┼────────────────────────┼───────────────┤\n",
              "│ batch_normalization             │ (\u001b[38;5;45mNone\u001b[0m, \u001b[38;5;34m1024\u001b[0m)           │         \u001b[38;5;34m4,096\u001b[0m │\n",
              "│ (\u001b[38;5;33mBatchNormalization\u001b[0m)            │                        │               │\n",
              "├─────────────────────────────────┼────────────────────────┼───────────────┤\n",
              "│ activation (\u001b[38;5;33mActivation\u001b[0m)         │ (\u001b[38;5;45mNone\u001b[0m, \u001b[38;5;34m1024\u001b[0m)           │             \u001b[38;5;34m0\u001b[0m │\n",
              "├─────────────────────────────────┼────────────────────────┼───────────────┤\n",
              "│ dense_1 (\u001b[38;5;33mDense\u001b[0m)                 │ (\u001b[38;5;45mNone\u001b[0m, \u001b[38;5;34m512\u001b[0m)            │       \u001b[38;5;34m524,800\u001b[0m │\n",
              "├─────────────────────────────────┼────────────────────────┼───────────────┤\n",
              "│ batch_normalization_1           │ (\u001b[38;5;45mNone\u001b[0m, \u001b[38;5;34m512\u001b[0m)            │         \u001b[38;5;34m2,048\u001b[0m │\n",
              "│ (\u001b[38;5;33mBatchNormalization\u001b[0m)            │                        │               │\n",
              "├─────────────────────────────────┼────────────────────────┼───────────────┤\n",
              "│ activation_1 (\u001b[38;5;33mActivation\u001b[0m)       │ (\u001b[38;5;45mNone\u001b[0m, \u001b[38;5;34m512\u001b[0m)            │             \u001b[38;5;34m0\u001b[0m │\n",
              "├─────────────────────────────────┼────────────────────────┼───────────────┤\n",
              "│ dense_2 (\u001b[38;5;33mDense\u001b[0m)                 │ (\u001b[38;5;45mNone\u001b[0m, \u001b[38;5;34m256\u001b[0m)            │       \u001b[38;5;34m131,328\u001b[0m │\n",
              "├─────────────────────────────────┼────────────────────────┼───────────────┤\n",
              "│ batch_normalization_2           │ (\u001b[38;5;45mNone\u001b[0m, \u001b[38;5;34m256\u001b[0m)            │         \u001b[38;5;34m1,024\u001b[0m │\n",
              "│ (\u001b[38;5;33mBatchNormalization\u001b[0m)            │                        │               │\n",
              "├─────────────────────────────────┼────────────────────────┼───────────────┤\n",
              "│ activation_2 (\u001b[38;5;33mActivation\u001b[0m)       │ (\u001b[38;5;45mNone\u001b[0m, \u001b[38;5;34m256\u001b[0m)            │             \u001b[38;5;34m0\u001b[0m │\n",
              "├─────────────────────────────────┼────────────────────────┼───────────────┤\n",
              "│ dense_3 (\u001b[38;5;33mDense\u001b[0m)                 │ (\u001b[38;5;45mNone\u001b[0m, \u001b[38;5;34m128\u001b[0m)            │        \u001b[38;5;34m32,896\u001b[0m │\n",
              "├─────────────────────────────────┼────────────────────────┼───────────────┤\n",
              "│ batch_normalization_3           │ (\u001b[38;5;45mNone\u001b[0m, \u001b[38;5;34m128\u001b[0m)            │           \u001b[38;5;34m512\u001b[0m │\n",
              "│ (\u001b[38;5;33mBatchNormalization\u001b[0m)            │                        │               │\n",
              "├─────────────────────────────────┼────────────────────────┼───────────────┤\n",
              "│ activation_3 (\u001b[38;5;33mActivation\u001b[0m)       │ (\u001b[38;5;45mNone\u001b[0m, \u001b[38;5;34m128\u001b[0m)            │             \u001b[38;5;34m0\u001b[0m │\n",
              "├─────────────────────────────────┼────────────────────────┼───────────────┤\n",
              "│ dense_4 (\u001b[38;5;33mDense\u001b[0m)                 │ (\u001b[38;5;45mNone\u001b[0m, \u001b[38;5;34m10\u001b[0m)             │         \u001b[38;5;34m1,290\u001b[0m │\n",
              "├─────────────────────────────────┼────────────────────────┼───────────────┤\n",
              "│ batch_normalization_4           │ (\u001b[38;5;45mNone\u001b[0m, \u001b[38;5;34m10\u001b[0m)             │            \u001b[38;5;34m40\u001b[0m │\n",
              "│ (\u001b[38;5;33mBatchNormalization\u001b[0m)            │                        │               │\n",
              "├─────────────────────────────────┼────────────────────────┼───────────────┤\n",
              "│ activation_4 (\u001b[38;5;33mActivation\u001b[0m)       │ (\u001b[38;5;45mNone\u001b[0m, \u001b[38;5;34m10\u001b[0m)             │             \u001b[38;5;34m0\u001b[0m │\n",
              "└─────────────────────────────────┴────────────────────────┴───────────────┘\n"
            ],
            "text/html": [
              "<pre style=\"white-space:pre;overflow-x:auto;line-height:normal;font-family:Menlo,'DejaVu Sans Mono',consolas,'Courier New',monospace\">┏━━━━━━━━━━━━━━━━━━━━━━━━━━━━━━━━━┳━━━━━━━━━━━━━━━━━━━━━━━━┳━━━━━━━━━━━━━━━┓\n",
              "┃<span style=\"font-weight: bold\"> Layer (type)                    </span>┃<span style=\"font-weight: bold\"> Output Shape           </span>┃<span style=\"font-weight: bold\">       Param # </span>┃\n",
              "┡━━━━━━━━━━━━━━━━━━━━━━━━━━━━━━━━━╇━━━━━━━━━━━━━━━━━━━━━━━━╇━━━━━━━━━━━━━━━┩\n",
              "│ flatten (<span style=\"color: #0087ff; text-decoration-color: #0087ff\">Flatten</span>)               │ (<span style=\"color: #00d7ff; text-decoration-color: #00d7ff\">None</span>, <span style=\"color: #00af00; text-decoration-color: #00af00\">784</span>)            │             <span style=\"color: #00af00; text-decoration-color: #00af00\">0</span> │\n",
              "├─────────────────────────────────┼────────────────────────┼───────────────┤\n",
              "│ dense (<span style=\"color: #0087ff; text-decoration-color: #0087ff\">Dense</span>)                   │ (<span style=\"color: #00d7ff; text-decoration-color: #00d7ff\">None</span>, <span style=\"color: #00af00; text-decoration-color: #00af00\">1024</span>)           │       <span style=\"color: #00af00; text-decoration-color: #00af00\">803,840</span> │\n",
              "├─────────────────────────────────┼────────────────────────┼───────────────┤\n",
              "│ batch_normalization             │ (<span style=\"color: #00d7ff; text-decoration-color: #00d7ff\">None</span>, <span style=\"color: #00af00; text-decoration-color: #00af00\">1024</span>)           │         <span style=\"color: #00af00; text-decoration-color: #00af00\">4,096</span> │\n",
              "│ (<span style=\"color: #0087ff; text-decoration-color: #0087ff\">BatchNormalization</span>)            │                        │               │\n",
              "├─────────────────────────────────┼────────────────────────┼───────────────┤\n",
              "│ activation (<span style=\"color: #0087ff; text-decoration-color: #0087ff\">Activation</span>)         │ (<span style=\"color: #00d7ff; text-decoration-color: #00d7ff\">None</span>, <span style=\"color: #00af00; text-decoration-color: #00af00\">1024</span>)           │             <span style=\"color: #00af00; text-decoration-color: #00af00\">0</span> │\n",
              "├─────────────────────────────────┼────────────────────────┼───────────────┤\n",
              "│ dense_1 (<span style=\"color: #0087ff; text-decoration-color: #0087ff\">Dense</span>)                 │ (<span style=\"color: #00d7ff; text-decoration-color: #00d7ff\">None</span>, <span style=\"color: #00af00; text-decoration-color: #00af00\">512</span>)            │       <span style=\"color: #00af00; text-decoration-color: #00af00\">524,800</span> │\n",
              "├─────────────────────────────────┼────────────────────────┼───────────────┤\n",
              "│ batch_normalization_1           │ (<span style=\"color: #00d7ff; text-decoration-color: #00d7ff\">None</span>, <span style=\"color: #00af00; text-decoration-color: #00af00\">512</span>)            │         <span style=\"color: #00af00; text-decoration-color: #00af00\">2,048</span> │\n",
              "│ (<span style=\"color: #0087ff; text-decoration-color: #0087ff\">BatchNormalization</span>)            │                        │               │\n",
              "├─────────────────────────────────┼────────────────────────┼───────────────┤\n",
              "│ activation_1 (<span style=\"color: #0087ff; text-decoration-color: #0087ff\">Activation</span>)       │ (<span style=\"color: #00d7ff; text-decoration-color: #00d7ff\">None</span>, <span style=\"color: #00af00; text-decoration-color: #00af00\">512</span>)            │             <span style=\"color: #00af00; text-decoration-color: #00af00\">0</span> │\n",
              "├─────────────────────────────────┼────────────────────────┼───────────────┤\n",
              "│ dense_2 (<span style=\"color: #0087ff; text-decoration-color: #0087ff\">Dense</span>)                 │ (<span style=\"color: #00d7ff; text-decoration-color: #00d7ff\">None</span>, <span style=\"color: #00af00; text-decoration-color: #00af00\">256</span>)            │       <span style=\"color: #00af00; text-decoration-color: #00af00\">131,328</span> │\n",
              "├─────────────────────────────────┼────────────────────────┼───────────────┤\n",
              "│ batch_normalization_2           │ (<span style=\"color: #00d7ff; text-decoration-color: #00d7ff\">None</span>, <span style=\"color: #00af00; text-decoration-color: #00af00\">256</span>)            │         <span style=\"color: #00af00; text-decoration-color: #00af00\">1,024</span> │\n",
              "│ (<span style=\"color: #0087ff; text-decoration-color: #0087ff\">BatchNormalization</span>)            │                        │               │\n",
              "├─────────────────────────────────┼────────────────────────┼───────────────┤\n",
              "│ activation_2 (<span style=\"color: #0087ff; text-decoration-color: #0087ff\">Activation</span>)       │ (<span style=\"color: #00d7ff; text-decoration-color: #00d7ff\">None</span>, <span style=\"color: #00af00; text-decoration-color: #00af00\">256</span>)            │             <span style=\"color: #00af00; text-decoration-color: #00af00\">0</span> │\n",
              "├─────────────────────────────────┼────────────────────────┼───────────────┤\n",
              "│ dense_3 (<span style=\"color: #0087ff; text-decoration-color: #0087ff\">Dense</span>)                 │ (<span style=\"color: #00d7ff; text-decoration-color: #00d7ff\">None</span>, <span style=\"color: #00af00; text-decoration-color: #00af00\">128</span>)            │        <span style=\"color: #00af00; text-decoration-color: #00af00\">32,896</span> │\n",
              "├─────────────────────────────────┼────────────────────────┼───────────────┤\n",
              "│ batch_normalization_3           │ (<span style=\"color: #00d7ff; text-decoration-color: #00d7ff\">None</span>, <span style=\"color: #00af00; text-decoration-color: #00af00\">128</span>)            │           <span style=\"color: #00af00; text-decoration-color: #00af00\">512</span> │\n",
              "│ (<span style=\"color: #0087ff; text-decoration-color: #0087ff\">BatchNormalization</span>)            │                        │               │\n",
              "├─────────────────────────────────┼────────────────────────┼───────────────┤\n",
              "│ activation_3 (<span style=\"color: #0087ff; text-decoration-color: #0087ff\">Activation</span>)       │ (<span style=\"color: #00d7ff; text-decoration-color: #00d7ff\">None</span>, <span style=\"color: #00af00; text-decoration-color: #00af00\">128</span>)            │             <span style=\"color: #00af00; text-decoration-color: #00af00\">0</span> │\n",
              "├─────────────────────────────────┼────────────────────────┼───────────────┤\n",
              "│ dense_4 (<span style=\"color: #0087ff; text-decoration-color: #0087ff\">Dense</span>)                 │ (<span style=\"color: #00d7ff; text-decoration-color: #00d7ff\">None</span>, <span style=\"color: #00af00; text-decoration-color: #00af00\">10</span>)             │         <span style=\"color: #00af00; text-decoration-color: #00af00\">1,290</span> │\n",
              "├─────────────────────────────────┼────────────────────────┼───────────────┤\n",
              "│ batch_normalization_4           │ (<span style=\"color: #00d7ff; text-decoration-color: #00d7ff\">None</span>, <span style=\"color: #00af00; text-decoration-color: #00af00\">10</span>)             │            <span style=\"color: #00af00; text-decoration-color: #00af00\">40</span> │\n",
              "│ (<span style=\"color: #0087ff; text-decoration-color: #0087ff\">BatchNormalization</span>)            │                        │               │\n",
              "├─────────────────────────────────┼────────────────────────┼───────────────┤\n",
              "│ activation_4 (<span style=\"color: #0087ff; text-decoration-color: #0087ff\">Activation</span>)       │ (<span style=\"color: #00d7ff; text-decoration-color: #00d7ff\">None</span>, <span style=\"color: #00af00; text-decoration-color: #00af00\">10</span>)             │             <span style=\"color: #00af00; text-decoration-color: #00af00\">0</span> │\n",
              "└─────────────────────────────────┴────────────────────────┴───────────────┘\n",
              "</pre>\n"
            ]
          },
          "metadata": {}
        },
        {
          "output_type": "display_data",
          "data": {
            "text/plain": [
              "\u001b[1m Total params: \u001b[0m\u001b[38;5;34m1,501,874\u001b[0m (5.73 MB)\n"
            ],
            "text/html": [
              "<pre style=\"white-space:pre;overflow-x:auto;line-height:normal;font-family:Menlo,'DejaVu Sans Mono',consolas,'Courier New',monospace\"><span style=\"font-weight: bold\"> Total params: </span><span style=\"color: #00af00; text-decoration-color: #00af00\">1,501,874</span> (5.73 MB)\n",
              "</pre>\n"
            ]
          },
          "metadata": {}
        },
        {
          "output_type": "display_data",
          "data": {
            "text/plain": [
              "\u001b[1m Trainable params: \u001b[0m\u001b[38;5;34m1,498,014\u001b[0m (5.71 MB)\n"
            ],
            "text/html": [
              "<pre style=\"white-space:pre;overflow-x:auto;line-height:normal;font-family:Menlo,'DejaVu Sans Mono',consolas,'Courier New',monospace\"><span style=\"font-weight: bold\"> Trainable params: </span><span style=\"color: #00af00; text-decoration-color: #00af00\">1,498,014</span> (5.71 MB)\n",
              "</pre>\n"
            ]
          },
          "metadata": {}
        },
        {
          "output_type": "display_data",
          "data": {
            "text/plain": [
              "\u001b[1m Non-trainable params: \u001b[0m\u001b[38;5;34m3,860\u001b[0m (15.08 KB)\n"
            ],
            "text/html": [
              "<pre style=\"white-space:pre;overflow-x:auto;line-height:normal;font-family:Menlo,'DejaVu Sans Mono',consolas,'Courier New',monospace\"><span style=\"font-weight: bold\"> Non-trainable params: </span><span style=\"color: #00af00; text-decoration-color: #00af00\">3,860</span> (15.08 KB)\n",
              "</pre>\n"
            ]
          },
          "metadata": {}
        }
      ]
    },
    {
      "cell_type": "code",
      "source": [
        "start_time = time.process_time()\n",
        "# carrega os pesos e bias com os valores inicias, para um novo treinamento da rede\n",
        "Batch_norm_model.set_weights(initial_weights_batch_norm)\n",
        "# treinamento da rede\n",
        "h = Batch_norm_model.fit(X_train, y_train, batch_size=64, epochs=15, verbose=1, validation_split=0.1)\n",
        "# tempo total de treinamento da rede\n",
        "processing_time(start_time, time.process_time())"
      ],
      "metadata": {
        "colab": {
          "base_uri": "https://localhost:8080/"
        },
        "outputId": "f92c60dc-e85a-46af-ec16-6e5397826ff1",
        "id": "lNf39l1grp4K"
      },
      "execution_count": null,
      "outputs": [
        {
          "output_type": "stream",
          "name": "stdout",
          "text": [
            "Epoch 1/15\n",
            "\u001b[1m844/844\u001b[0m \u001b[32m━━━━━━━━━━━━━━━━━━━━\u001b[0m\u001b[37m\u001b[0m \u001b[1m8s\u001b[0m 6ms/step - accuracy: 0.8894 - loss: 0.5070 - val_accuracy: 0.9757 - val_loss: 0.1023\n",
            "Epoch 2/15\n",
            "\u001b[1m844/844\u001b[0m \u001b[32m━━━━━━━━━━━━━━━━━━━━\u001b[0m\u001b[37m\u001b[0m \u001b[1m7s\u001b[0m 4ms/step - accuracy: 0.9748 - loss: 0.1203 - val_accuracy: 0.9807 - val_loss: 0.0734\n",
            "Epoch 3/15\n",
            "\u001b[1m844/844\u001b[0m \u001b[32m━━━━━━━━━━━━━━━━━━━━\u001b[0m\u001b[37m\u001b[0m \u001b[1m3s\u001b[0m 3ms/step - accuracy: 0.9865 - loss: 0.0673 - val_accuracy: 0.9815 - val_loss: 0.0694\n",
            "Epoch 4/15\n",
            "\u001b[1m844/844\u001b[0m \u001b[32m━━━━━━━━━━━━━━━━━━━━\u001b[0m\u001b[37m\u001b[0m \u001b[1m6s\u001b[0m 4ms/step - accuracy: 0.9904 - loss: 0.0484 - val_accuracy: 0.9838 - val_loss: 0.0584\n",
            "Epoch 5/15\n",
            "\u001b[1m844/844\u001b[0m \u001b[32m━━━━━━━━━━━━━━━━━━━━\u001b[0m\u001b[37m\u001b[0m \u001b[1m3s\u001b[0m 3ms/step - accuracy: 0.9946 - loss: 0.0323 - val_accuracy: 0.9800 - val_loss: 0.0687\n",
            "Epoch 6/15\n",
            "\u001b[1m844/844\u001b[0m \u001b[32m━━━━━━━━━━━━━━━━━━━━\u001b[0m\u001b[37m\u001b[0m \u001b[1m3s\u001b[0m 3ms/step - accuracy: 0.9962 - loss: 0.0258 - val_accuracy: 0.9833 - val_loss: 0.0582\n",
            "Epoch 7/15\n",
            "\u001b[1m844/844\u001b[0m \u001b[32m━━━━━━━━━━━━━━━━━━━━\u001b[0m\u001b[37m\u001b[0m \u001b[1m3s\u001b[0m 3ms/step - accuracy: 0.9962 - loss: 0.0235 - val_accuracy: 0.9840 - val_loss: 0.0565\n",
            "Epoch 8/15\n",
            "\u001b[1m844/844\u001b[0m \u001b[32m━━━━━━━━━━━━━━━━━━━━\u001b[0m\u001b[37m\u001b[0m \u001b[1m4s\u001b[0m 4ms/step - accuracy: 0.9980 - loss: 0.0163 - val_accuracy: 0.9845 - val_loss: 0.0554\n",
            "Epoch 9/15\n",
            "\u001b[1m844/844\u001b[0m \u001b[32m━━━━━━━━━━━━━━━━━━━━\u001b[0m\u001b[37m\u001b[0m \u001b[1m4s\u001b[0m 3ms/step - accuracy: 0.9977 - loss: 0.0153 - val_accuracy: 0.9853 - val_loss: 0.0540\n",
            "Epoch 10/15\n",
            "\u001b[1m844/844\u001b[0m \u001b[32m━━━━━━━━━━━━━━━━━━━━\u001b[0m\u001b[37m\u001b[0m \u001b[1m5s\u001b[0m 3ms/step - accuracy: 0.9978 - loss: 0.0139 - val_accuracy: 0.9838 - val_loss: 0.0544\n",
            "Epoch 11/15\n",
            "\u001b[1m844/844\u001b[0m \u001b[32m━━━━━━━━━━━━━━━━━━━━\u001b[0m\u001b[37m\u001b[0m \u001b[1m5s\u001b[0m 3ms/step - accuracy: 0.9986 - loss: 0.0108 - val_accuracy: 0.9852 - val_loss: 0.0499\n",
            "Epoch 12/15\n",
            "\u001b[1m844/844\u001b[0m \u001b[32m━━━━━━━━━━━━━━━━━━━━\u001b[0m\u001b[37m\u001b[0m \u001b[1m5s\u001b[0m 3ms/step - accuracy: 0.9986 - loss: 0.0099 - val_accuracy: 0.9853 - val_loss: 0.0515\n",
            "Epoch 13/15\n",
            "\u001b[1m844/844\u001b[0m \u001b[32m━━━━━━━━━━━━━━━━━━━━\u001b[0m\u001b[37m\u001b[0m \u001b[1m6s\u001b[0m 4ms/step - accuracy: 0.9989 - loss: 0.0092 - val_accuracy: 0.9853 - val_loss: 0.0543\n",
            "Epoch 14/15\n",
            "\u001b[1m844/844\u001b[0m \u001b[32m━━━━━━━━━━━━━━━━━━━━\u001b[0m\u001b[37m\u001b[0m \u001b[1m3s\u001b[0m 3ms/step - accuracy: 0.9986 - loss: 0.0089 - val_accuracy: 0.9852 - val_loss: 0.0529\n",
            "Epoch 15/15\n",
            "\u001b[1m844/844\u001b[0m \u001b[32m━━━━━━━━━━━━━━━━━━━━\u001b[0m\u001b[37m\u001b[0m \u001b[1m3s\u001b[0m 3ms/step - accuracy: 0.9992 - loss: 0.0071 - val_accuracy: 0.9865 - val_loss: 0.0510\n",
            "\n",
            "Tempo de treinamento da rede: 0m50s\n"
          ]
        }
      ]
    },
    {
      "cell_type": "code",
      "source": [
        "plot_acc_loss(h)"
      ],
      "metadata": {
        "id": "GJl4M3gcsDs7"
      },
      "execution_count": null,
      "outputs": []
    },
    {
      "cell_type": "markdown",
      "metadata": {
        "id": "XeomEdB2uv_f"
      },
      "source": [
        "In this particular case, the Batch Norm does not seem to produce results that are qualitatively different from the simple net, but there may be datasets where this normalization helps make the network converge to a better result.\n",
        "\n",
        "If we use Batch Norm with dropout maybe we have better results. It's worth a try!"
      ]
    },
    {
      "cell_type": "code",
      "source": [
        "# salvando o Modelo para predições futuras sem ter que treiná-lo novamente\n",
        "from keras.models import model_from_json\n",
        "model_json = Batch_norm_model.to_json()\n",
        "with open(\"./model_5_deeplearning.json\",\"w\") as json_file: #/content/drive/MyDrive/\n",
        "    json_file.write(model_json)\n",
        "Batch_norm_model.save_weights(\"./weights_5.weights.h5\") #/content/drive/MyDrive/\n",
        "print('Saved model to disk')"
      ],
      "metadata": {
        "id": "wdnhq22fmmRZ"
      },
      "execution_count": null,
      "outputs": []
    },
    {
      "cell_type": "markdown",
      "source": [
        "#Exercícios\n",
        "1. Para os exemplos de modelos vistos neste notebook, trabalhe inicialmente com o número de épocas e o batch size, de forma a tentar uma melhor performance da rede. Foque nos modelos mais promissores.\n",
        "1. Utilizando os conhecimentos adquiridos nos trabalhos anteriores, faça testes com outros otimizadores com diferentes learning rates, para tentar uma melhor sintonia das redes mais promissoras.\n",
        "1. Elabore gráficos e/ou tabelas com dados comparativos, mostrando o desempenho das redes selecionadas com os diferentes hiper-parâmetros escolhidos.\n",
        "1. Salve os melhores modelos de rede para se fazer as predições futuras, que serão utilizadas no notebook *Deep Learning #5*.\n",
        "1. Faça um teste nos modelos projetados acima com o banco de dados de dígitos que você criou. Quais modelos obtiveram melhores performance?"
      ],
      "metadata": {
        "id": "s8fP7c3VxkJG"
      }
    },
    {
      "cell_type": "markdown",
      "source": [
        "# Referências\n",
        "\n",
        "[1] http://neuralnetworksanddeeplearning.com/chap1.html\n",
        "\n",
        "[2] https://medium.com/turing-talks/turing-talks-19-modelos-de-predi%C3%A7%C3%A3o-redes-neurais-1f165583a927\n",
        "\n",
        "[3] https://www.tutorialspoint.com/artificial_neural_network/index.htm\n",
        "\n",
        "[4] https://matheusfacure.github.io/2017/03/05/ann-intro/\n",
        "\n",
        "[5] https://matheusfacure.github.io/2017/05/15/deep-ff-ann/\n",
        "\n",
        "[6] https://www.simplilearn.com/tutorials/deep-learning-tutorial\n",
        "\n",
        "[7] https://www.datacamp.com/tutorial/tutorial-deep-learning-tutorial\n",
        "\n",
        "[8] https://www.kaggle.com/learn/intro-to-deep-learning"
      ],
      "metadata": {
        "id": "HovFMWZ2yGPV"
      }
    },
    {
      "cell_type": "markdown",
      "source": [
        "# Respostas"
      ],
      "metadata": {
        "id": "-PSUT7ddXuh3"
      }
    },
    {
      "cell_type": "code",
      "source": [
        "# 1) Para os exemplos de modelos vistos neste notebook, trabalhe inicialmente com o número de épocas e o batch size,\n",
        "#    de forma a tentar uma melhor performance da rede. Foque nos modelos mais promissores.\n",
        "\n",
        "models = [model, L2_model, Dropout_model, max_norm_model, Batch_norm_model]\n",
        "iws    = [initial_weights, initial_weights_L2, initial_weights_dropout, initial_weights_max_norm, initial_weights_batch_norm]\n",
        "h_ex1 = {}\n",
        "\n",
        "bss = [32,64,128]\n",
        "eps = [10,15,20]\n",
        "for m, iw in zip(models, iws):\n",
        "  for bs in bss:\n",
        "    for ep in eps:\n",
        "      start_time = time.process_time()\n",
        "      k = m.name + '_' + str(ep) + '_' + str(bs)\n",
        "      m.set_weights(iw)\n",
        "      h_ex1[k] = m.fit(X_train, y_train, batch_size=bs, epochs=ep, verbose=1, validation_split=0.1)\n",
        "      processing_time(start_time, time.process_time())\n",
        "\n"
      ],
      "metadata": {
        "colab": {
          "base_uri": "https://localhost:8080/"
        },
        "id": "Z161VFdGXrf6",
        "outputId": "09b8e70b-b379-4dca-9a74-26b180b8a728"
      },
      "execution_count": null,
      "outputs": [
        {
          "output_type": "stream",
          "name": "stdout",
          "text": [
            "Epoch 1/10\n",
            "\u001b[1m1688/1688\u001b[0m \u001b[32m━━━━━━━━━━━━━━━━━━━━\u001b[0m\u001b[37m\u001b[0m \u001b[1m7s\u001b[0m 3ms/step - accuracy: 0.8346 - loss: 0.5597 - val_accuracy: 0.9620 - val_loss: 0.1256\n",
            "Epoch 2/10\n",
            "\u001b[1m1688/1688\u001b[0m \u001b[32m━━━━━━━━━━━━━━━━━━━━\u001b[0m\u001b[37m\u001b[0m \u001b[1m5s\u001b[0m 3ms/step - accuracy: 0.9652 - loss: 0.1139 - val_accuracy: 0.9745 - val_loss: 0.0816\n",
            "Epoch 3/10\n",
            "\u001b[1m1688/1688\u001b[0m \u001b[32m━━━━━━━━━━━━━━━━━━━━\u001b[0m\u001b[37m\u001b[0m \u001b[1m5s\u001b[0m 3ms/step - accuracy: 0.9805 - loss: 0.0621 - val_accuracy: 0.9778 - val_loss: 0.0748\n",
            "Epoch 4/10\n",
            "\u001b[1m1688/1688\u001b[0m \u001b[32m━━━━━━━━━━━━━━━━━━━━\u001b[0m\u001b[37m\u001b[0m \u001b[1m5s\u001b[0m 3ms/step - accuracy: 0.9867 - loss: 0.0430 - val_accuracy: 0.9770 - val_loss: 0.0724\n",
            "Epoch 5/10\n",
            "\u001b[1m1688/1688\u001b[0m \u001b[32m━━━━━━━━━━━━━━━━━━━━\u001b[0m\u001b[37m\u001b[0m \u001b[1m4s\u001b[0m 3ms/step - accuracy: 0.9911 - loss: 0.0285 - val_accuracy: 0.9802 - val_loss: 0.0673\n",
            "Epoch 6/10\n",
            "\u001b[1m1688/1688\u001b[0m \u001b[32m━━━━━━━━━━━━━━━━━━━━\u001b[0m\u001b[37m\u001b[0m \u001b[1m4s\u001b[0m 3ms/step - accuracy: 0.9940 - loss: 0.0217 - val_accuracy: 0.9827 - val_loss: 0.0611\n",
            "Epoch 7/10\n",
            "\u001b[1m1688/1688\u001b[0m \u001b[32m━━━━━━━━━━━━━━━━━━━━\u001b[0m\u001b[37m\u001b[0m \u001b[1m6s\u001b[0m 3ms/step - accuracy: 0.9965 - loss: 0.0118 - val_accuracy: 0.9817 - val_loss: 0.0670\n",
            "Epoch 8/10\n",
            "\u001b[1m1688/1688\u001b[0m \u001b[32m━━━━━━━━━━━━━━━━━━━━\u001b[0m\u001b[37m\u001b[0m \u001b[1m5s\u001b[0m 3ms/step - accuracy: 0.9972 - loss: 0.0096 - val_accuracy: 0.9807 - val_loss: 0.0715\n",
            "Epoch 9/10\n",
            "\u001b[1m1688/1688\u001b[0m \u001b[32m━━━━━━━━━━━━━━━━━━━━\u001b[0m\u001b[37m\u001b[0m \u001b[1m6s\u001b[0m 3ms/step - accuracy: 0.9985 - loss: 0.0062 - val_accuracy: 0.9820 - val_loss: 0.0721\n",
            "Epoch 10/10\n",
            "\u001b[1m1688/1688\u001b[0m \u001b[32m━━━━━━━━━━━━━━━━━━━━\u001b[0m\u001b[37m\u001b[0m \u001b[1m9s\u001b[0m 3ms/step - accuracy: 0.9998 - loss: 0.0021 - val_accuracy: 0.9835 - val_loss: 0.0687\n",
            "\n",
            "Tempo de treinamento da rede: 0m55s\n",
            "Epoch 1/15\n",
            "\u001b[1m1688/1688\u001b[0m \u001b[32m━━━━━━━━━━━━━━━━━━━━\u001b[0m\u001b[37m\u001b[0m \u001b[1m5s\u001b[0m 3ms/step - accuracy: 0.8275 - loss: 0.5617 - val_accuracy: 0.9703 - val_loss: 0.1096\n",
            "Epoch 2/15\n",
            "\u001b[1m1688/1688\u001b[0m \u001b[32m━━━━━━━━━━━━━━━━━━━━\u001b[0m\u001b[37m\u001b[0m \u001b[1m4s\u001b[0m 3ms/step - accuracy: 0.9656 - loss: 0.1099 - val_accuracy: 0.9727 - val_loss: 0.0868\n",
            "Epoch 3/15\n",
            "\u001b[1m1688/1688\u001b[0m \u001b[32m━━━━━━━━━━━━━━━━━━━━\u001b[0m\u001b[37m\u001b[0m \u001b[1m6s\u001b[0m 3ms/step - accuracy: 0.9806 - loss: 0.0647 - val_accuracy: 0.9737 - val_loss: 0.0866\n",
            "Epoch 4/15\n",
            "\u001b[1m1688/1688\u001b[0m \u001b[32m━━━━━━━━━━━━━━━━━━━━\u001b[0m\u001b[37m\u001b[0m \u001b[1m5s\u001b[0m 3ms/step - accuracy: 0.9861 - loss: 0.0448 - val_accuracy: 0.9393 - val_loss: 0.2053\n",
            "Epoch 5/15\n",
            "\u001b[1m1688/1688\u001b[0m \u001b[32m━━━━━━━━━━━━━━━━━━━━\u001b[0m\u001b[37m\u001b[0m \u001b[1m4s\u001b[0m 3ms/step - accuracy: 0.9904 - loss: 0.0322 - val_accuracy: 0.9588 - val_loss: 0.1569\n",
            "Epoch 6/15\n",
            "\u001b[1m1688/1688\u001b[0m \u001b[32m━━━━━━━━━━━━━━━━━━━━\u001b[0m\u001b[37m\u001b[0m \u001b[1m5s\u001b[0m 3ms/step - accuracy: 0.9941 - loss: 0.0188 - val_accuracy: 0.9805 - val_loss: 0.0689\n",
            "Epoch 7/15\n",
            "\u001b[1m1688/1688\u001b[0m \u001b[32m━━━━━━━━━━━━━━━━━━━━\u001b[0m\u001b[37m\u001b[0m \u001b[1m5s\u001b[0m 3ms/step - accuracy: 0.9965 - loss: 0.0122 - val_accuracy: 0.9795 - val_loss: 0.0769\n",
            "Epoch 8/15\n",
            "\u001b[1m1688/1688\u001b[0m \u001b[32m━━━━━━━━━━━━━━━━━━━━\u001b[0m\u001b[37m\u001b[0m \u001b[1m4s\u001b[0m 3ms/step - accuracy: 0.9972 - loss: 0.0101 - val_accuracy: 0.9792 - val_loss: 0.0842\n",
            "Epoch 9/15\n",
            "\u001b[1m1688/1688\u001b[0m \u001b[32m━━━━━━━━━━━━━━━━━━━━\u001b[0m\u001b[37m\u001b[0m \u001b[1m5s\u001b[0m 3ms/step - accuracy: 0.9973 - loss: 0.0090 - val_accuracy: 0.9835 - val_loss: 0.0646\n",
            "Epoch 10/15\n",
            "\u001b[1m1688/1688\u001b[0m \u001b[32m━━━━━━━━━━━━━━━━━━━━\u001b[0m\u001b[37m\u001b[0m \u001b[1m9s\u001b[0m 3ms/step - accuracy: 0.9989 - loss: 0.0038 - val_accuracy: 0.9808 - val_loss: 0.0860\n",
            "Epoch 11/15\n",
            "\u001b[1m1688/1688\u001b[0m \u001b[32m━━━━━━━━━━━━━━━━━━━━\u001b[0m\u001b[37m\u001b[0m \u001b[1m5s\u001b[0m 3ms/step - accuracy: 0.9993 - loss: 0.0029 - val_accuracy: 0.9830 - val_loss: 0.0732\n",
            "Epoch 12/15\n",
            "\u001b[1m1688/1688\u001b[0m \u001b[32m━━━━━━━━━━━━━━━━━━━━\u001b[0m\u001b[37m\u001b[0m \u001b[1m5s\u001b[0m 3ms/step - accuracy: 0.9993 - loss: 0.0029 - val_accuracy: 0.9862 - val_loss: 0.0664\n",
            "Epoch 13/15\n",
            "\u001b[1m1688/1688\u001b[0m \u001b[32m━━━━━━━━━━━━━━━━━━━━\u001b[0m\u001b[37m\u001b[0m \u001b[1m8s\u001b[0m 4ms/step - accuracy: 1.0000 - loss: 5.1584e-04 - val_accuracy: 0.9872 - val_loss: 0.0712\n",
            "Epoch 14/15\n",
            "\u001b[1m1688/1688\u001b[0m \u001b[32m━━━━━━━━━━━━━━━━━━━━\u001b[0m\u001b[37m\u001b[0m \u001b[1m5s\u001b[0m 3ms/step - accuracy: 1.0000 - loss: 2.8530e-04 - val_accuracy: 0.9867 - val_loss: 0.0723\n",
            "Epoch 15/15\n",
            "\u001b[1m1688/1688\u001b[0m \u001b[32m━━━━━━━━━━━━━━━━━━━━\u001b[0m\u001b[37m\u001b[0m \u001b[1m6s\u001b[0m 3ms/step - accuracy: 1.0000 - loss: 2.1961e-04 - val_accuracy: 0.9865 - val_loss: 0.0725\n",
            "\n",
            "Tempo de treinamento da rede: 1m21s\n",
            "Epoch 1/20\n",
            "\u001b[1m1688/1688\u001b[0m \u001b[32m━━━━━━━━━━━━━━━━━━━━\u001b[0m\u001b[37m\u001b[0m \u001b[1m4s\u001b[0m 3ms/step - accuracy: 0.8353 - loss: 0.5584 - val_accuracy: 0.9683 - val_loss: 0.1078\n",
            "Epoch 2/20\n",
            "\u001b[1m1688/1688\u001b[0m \u001b[32m━━━━━━━━━━━━━━━━━━━━\u001b[0m\u001b[37m\u001b[0m \u001b[1m6s\u001b[0m 3ms/step - accuracy: 0.9651 - loss: 0.1131 - val_accuracy: 0.9538 - val_loss: 0.1477\n",
            "Epoch 3/20\n",
            "\u001b[1m1688/1688\u001b[0m \u001b[32m━━━━━━━━━━━━━━━━━━━━\u001b[0m\u001b[37m\u001b[0m \u001b[1m4s\u001b[0m 3ms/step - accuracy: 0.9795 - loss: 0.0689 - val_accuracy: 0.9760 - val_loss: 0.0803\n",
            "Epoch 4/20\n",
            "\u001b[1m1688/1688\u001b[0m \u001b[32m━━━━━━━━━━━━━━━━━━━━\u001b[0m\u001b[37m\u001b[0m \u001b[1m5s\u001b[0m 3ms/step - accuracy: 0.9862 - loss: 0.0446 - val_accuracy: 0.9807 - val_loss: 0.0639\n",
            "Epoch 5/20\n",
            "\u001b[1m1688/1688\u001b[0m \u001b[32m━━━━━━━━━━━━━━━━━━━━\u001b[0m\u001b[37m\u001b[0m \u001b[1m6s\u001b[0m 3ms/step - accuracy: 0.9913 - loss: 0.0279 - val_accuracy: 0.9802 - val_loss: 0.0697\n",
            "Epoch 6/20\n",
            "\u001b[1m1688/1688\u001b[0m \u001b[32m━━━━━━━━━━━━━━━━━━━━\u001b[0m\u001b[37m\u001b[0m \u001b[1m5s\u001b[0m 3ms/step - accuracy: 0.9945 - loss: 0.0195 - val_accuracy: 0.9838 - val_loss: 0.0614\n",
            "Epoch 7/20\n",
            "\u001b[1m1688/1688\u001b[0m \u001b[32m━━━━━━━━━━━━━━━━━━━━\u001b[0m\u001b[37m\u001b[0m \u001b[1m6s\u001b[0m 3ms/step - accuracy: 0.9968 - loss: 0.0116 - val_accuracy: 0.9788 - val_loss: 0.0786\n",
            "Epoch 8/20\n",
            "\u001b[1m1688/1688\u001b[0m \u001b[32m━━━━━━━━━━━━━━━━━━━━\u001b[0m\u001b[37m\u001b[0m \u001b[1m4s\u001b[0m 3ms/step - accuracy: 0.9977 - loss: 0.0091 - val_accuracy: 0.9817 - val_loss: 0.0731\n",
            "Epoch 9/20\n",
            "\u001b[1m1688/1688\u001b[0m \u001b[32m━━━━━━━━━━━━━━━━━━━━\u001b[0m\u001b[37m\u001b[0m \u001b[1m5s\u001b[0m 3ms/step - accuracy: 0.9992 - loss: 0.0042 - val_accuracy: 0.9837 - val_loss: 0.0666\n",
            "Epoch 10/20\n",
            "\u001b[1m1688/1688\u001b[0m \u001b[32m━━━━━━━━━━━━━━━━━━━━\u001b[0m\u001b[37m\u001b[0m \u001b[1m5s\u001b[0m 3ms/step - accuracy: 0.9996 - loss: 0.0025 - val_accuracy: 0.9847 - val_loss: 0.0643\n",
            "Epoch 11/20\n",
            "\u001b[1m1688/1688\u001b[0m \u001b[32m━━━━━━━━━━━━━━━━━━━━\u001b[0m\u001b[37m\u001b[0m \u001b[1m4s\u001b[0m 3ms/step - accuracy: 1.0000 - loss: 8.5534e-04 - val_accuracy: 0.9853 - val_loss: 0.0662\n",
            "Epoch 12/20\n",
            "\u001b[1m1688/1688\u001b[0m \u001b[32m━━━━━━━━━━━━━━━━━━━━\u001b[0m\u001b[37m\u001b[0m \u001b[1m5s\u001b[0m 3ms/step - accuracy: 1.0000 - loss: 4.7392e-04 - val_accuracy: 0.9862 - val_loss: 0.0678\n",
            "Epoch 13/20\n",
            "\u001b[1m1688/1688\u001b[0m \u001b[32m━━━━━━━━━━━━━━━━━━━━\u001b[0m\u001b[37m\u001b[0m \u001b[1m5s\u001b[0m 3ms/step - accuracy: 1.0000 - loss: 3.8575e-04 - val_accuracy: 0.9860 - val_loss: 0.0686\n",
            "Epoch 14/20\n",
            "\u001b[1m1688/1688\u001b[0m \u001b[32m━━━━━━━━━━━━━━━━━━━━\u001b[0m\u001b[37m\u001b[0m \u001b[1m5s\u001b[0m 3ms/step - accuracy: 1.0000 - loss: 2.4706e-04 - val_accuracy: 0.9857 - val_loss: 0.0704\n",
            "Epoch 15/20\n",
            "\u001b[1m1688/1688\u001b[0m \u001b[32m━━━━━━━━━━━━━━━━━━━━\u001b[0m\u001b[37m\u001b[0m \u001b[1m5s\u001b[0m 3ms/step - accuracy: 1.0000 - loss: 2.2519e-04 - val_accuracy: 0.9860 - val_loss: 0.0711\n",
            "Epoch 16/20\n",
            "\u001b[1m1688/1688\u001b[0m \u001b[32m━━━━━━━━━━━━━━━━━━━━\u001b[0m\u001b[37m\u001b[0m \u001b[1m5s\u001b[0m 3ms/step - accuracy: 1.0000 - loss: 2.0087e-04 - val_accuracy: 0.9862 - val_loss: 0.0722\n",
            "Epoch 17/20\n",
            "\u001b[1m1688/1688\u001b[0m \u001b[32m━━━━━━━━━━━━━━━━━━━━\u001b[0m\u001b[37m\u001b[0m \u001b[1m4s\u001b[0m 3ms/step - accuracy: 1.0000 - loss: 1.6998e-04 - val_accuracy: 0.9860 - val_loss: 0.0733\n",
            "Epoch 18/20\n",
            "\u001b[1m1688/1688\u001b[0m \u001b[32m━━━━━━━━━━━━━━━━━━━━\u001b[0m\u001b[37m\u001b[0m \u001b[1m6s\u001b[0m 3ms/step - accuracy: 1.0000 - loss: 1.5622e-04 - val_accuracy: 0.9857 - val_loss: 0.0738\n",
            "Epoch 19/20\n",
            "\u001b[1m1688/1688\u001b[0m \u001b[32m━━━━━━━━━━━━━━━━━━━━\u001b[0m\u001b[37m\u001b[0m \u001b[1m4s\u001b[0m 3ms/step - accuracy: 1.0000 - loss: 1.4262e-04 - val_accuracy: 0.9857 - val_loss: 0.0748\n",
            "Epoch 20/20\n",
            "\u001b[1m1688/1688\u001b[0m \u001b[32m━━━━━━━━━━━━━━━━━━━━\u001b[0m\u001b[37m\u001b[0m \u001b[1m6s\u001b[0m 3ms/step - accuracy: 1.0000 - loss: 1.3605e-04 - val_accuracy: 0.9858 - val_loss: 0.0752\n",
            "\n",
            "Tempo de treinamento da rede: 1m46s\n",
            "Epoch 1/10\n",
            "\u001b[1m844/844\u001b[0m \u001b[32m━━━━━━━━━━━━━━━━━━━━\u001b[0m\u001b[37m\u001b[0m \u001b[1m2s\u001b[0m 3ms/step - accuracy: 0.7898 - loss: 0.7300 - val_accuracy: 0.9615 - val_loss: 0.1340\n",
            "Epoch 2/10\n",
            "\u001b[1m844/844\u001b[0m \u001b[32m━━━━━━━━━━━━━━━━━━━━\u001b[0m\u001b[37m\u001b[0m \u001b[1m3s\u001b[0m 3ms/step - accuracy: 0.9540 - loss: 0.1542 - val_accuracy: 0.9720 - val_loss: 0.0969\n",
            "Epoch 3/10\n",
            "\u001b[1m844/844\u001b[0m \u001b[32m━━━━━━━━━━━━━━━━━━━━\u001b[0m\u001b[37m\u001b[0m \u001b[1m3s\u001b[0m 4ms/step - accuracy: 0.9714 - loss: 0.0954 - val_accuracy: 0.9767 - val_loss: 0.0806\n",
            "Epoch 4/10\n",
            "\u001b[1m844/844\u001b[0m \u001b[32m━━━━━━━━━━━━━━━━━━━━\u001b[0m\u001b[37m\u001b[0m \u001b[1m4s\u001b[0m 3ms/step - accuracy: 0.9805 - loss: 0.0666 - val_accuracy: 0.9792 - val_loss: 0.0727\n",
            "Epoch 5/10\n",
            "\u001b[1m844/844\u001b[0m \u001b[32m━━━━━━━━━━━━━━━━━━━━\u001b[0m\u001b[37m\u001b[0m \u001b[1m3s\u001b[0m 3ms/step - accuracy: 0.9867 - loss: 0.0462 - val_accuracy: 0.9792 - val_loss: 0.0740\n",
            "Epoch 6/10\n",
            "\u001b[1m844/844\u001b[0m \u001b[32m━━━━━━━━━━━━━━━━━━━━\u001b[0m\u001b[37m\u001b[0m \u001b[1m2s\u001b[0m 3ms/step - accuracy: 0.9900 - loss: 0.0342 - val_accuracy: 0.9805 - val_loss: 0.0678\n",
            "Epoch 7/10\n",
            "\u001b[1m844/844\u001b[0m \u001b[32m━━━━━━━━━━━━━━━━━━━━\u001b[0m\u001b[37m\u001b[0m \u001b[1m3s\u001b[0m 4ms/step - accuracy: 0.9935 - loss: 0.0246 - val_accuracy: 0.9805 - val_loss: 0.0664\n",
            "Epoch 8/10\n",
            "\u001b[1m844/844\u001b[0m \u001b[32m━━━━━━━━━━━━━━━━━━━━\u001b[0m\u001b[37m\u001b[0m \u001b[1m2s\u001b[0m 3ms/step - accuracy: 0.9960 - loss: 0.0155 - val_accuracy: 0.9803 - val_loss: 0.0779\n",
            "Epoch 9/10\n",
            "\u001b[1m844/844\u001b[0m \u001b[32m━━━━━━━━━━━━━━━━━━━━\u001b[0m\u001b[37m\u001b[0m \u001b[1m2s\u001b[0m 3ms/step - accuracy: 0.9972 - loss: 0.0124 - val_accuracy: 0.9827 - val_loss: 0.0703\n",
            "Epoch 10/10\n",
            "\u001b[1m844/844\u001b[0m \u001b[32m━━━━━━━━━━━━━━━━━━━━\u001b[0m\u001b[37m\u001b[0m \u001b[1m2s\u001b[0m 3ms/step - accuracy: 0.9985 - loss: 0.0084 - val_accuracy: 0.9745 - val_loss: 0.1024\n",
            "\n",
            "Tempo de treinamento da rede: 0m28s\n",
            "Epoch 1/15\n",
            "\u001b[1m844/844\u001b[0m \u001b[32m━━━━━━━━━━━━━━━━━━━━\u001b[0m\u001b[37m\u001b[0m \u001b[1m3s\u001b[0m 3ms/step - accuracy: 0.7956 - loss: 0.7222 - val_accuracy: 0.9640 - val_loss: 0.1374\n",
            "Epoch 2/15\n",
            "\u001b[1m844/844\u001b[0m \u001b[32m━━━━━━━━━━━━━━━━━━━━\u001b[0m\u001b[37m\u001b[0m \u001b[1m3s\u001b[0m 4ms/step - accuracy: 0.9538 - loss: 0.1543 - val_accuracy: 0.9750 - val_loss: 0.0968\n",
            "Epoch 3/15\n",
            "\u001b[1m844/844\u001b[0m \u001b[32m━━━━━━━━━━━━━━━━━━━━\u001b[0m\u001b[37m\u001b[0m \u001b[1m4s\u001b[0m 3ms/step - accuracy: 0.9725 - loss: 0.0934 - val_accuracy: 0.9735 - val_loss: 0.0907\n",
            "Epoch 4/15\n",
            "\u001b[1m844/844\u001b[0m \u001b[32m━━━━━━━━━━━━━━━━━━━━\u001b[0m\u001b[37m\u001b[0m \u001b[1m2s\u001b[0m 3ms/step - accuracy: 0.9808 - loss: 0.0638 - val_accuracy: 0.9767 - val_loss: 0.0744\n",
            "Epoch 5/15\n",
            "\u001b[1m844/844\u001b[0m \u001b[32m━━━━━━━━━━━━━━━━━━━━\u001b[0m\u001b[37m\u001b[0m \u001b[1m2s\u001b[0m 3ms/step - accuracy: 0.9860 - loss: 0.0457 - val_accuracy: 0.9822 - val_loss: 0.0643\n",
            "Epoch 6/15\n",
            "\u001b[1m844/844\u001b[0m \u001b[32m━━━━━━━━━━━━━━━━━━━━\u001b[0m\u001b[37m\u001b[0m \u001b[1m3s\u001b[0m 4ms/step - accuracy: 0.9897 - loss: 0.0338 - val_accuracy: 0.9790 - val_loss: 0.0710\n",
            "Epoch 7/15\n",
            "\u001b[1m844/844\u001b[0m \u001b[32m━━━━━━━━━━━━━━━━━━━━\u001b[0m\u001b[37m\u001b[0m \u001b[1m2s\u001b[0m 3ms/step - accuracy: 0.9937 - loss: 0.0235 - val_accuracy: 0.9797 - val_loss: 0.0775\n",
            "Epoch 8/15\n",
            "\u001b[1m844/844\u001b[0m \u001b[32m━━━━━━━━━━━━━━━━━━━━\u001b[0m\u001b[37m\u001b[0m \u001b[1m3s\u001b[0m 3ms/step - accuracy: 0.9956 - loss: 0.0177 - val_accuracy: 0.9810 - val_loss: 0.0703\n",
            "Epoch 9/15\n",
            "\u001b[1m844/844\u001b[0m \u001b[32m━━━━━━━━━━━━━━━━━━━━\u001b[0m\u001b[37m\u001b[0m \u001b[1m3s\u001b[0m 3ms/step - accuracy: 0.9969 - loss: 0.0116 - val_accuracy: 0.9810 - val_loss: 0.0712\n",
            "Epoch 10/15\n",
            "\u001b[1m844/844\u001b[0m \u001b[32m━━━━━━━━━━━━━━━━━━━━\u001b[0m\u001b[37m\u001b[0m \u001b[1m3s\u001b[0m 3ms/step - accuracy: 0.9988 - loss: 0.0076 - val_accuracy: 0.9797 - val_loss: 0.0776\n",
            "Epoch 11/15\n",
            "\u001b[1m844/844\u001b[0m \u001b[32m━━━━━━━━━━━━━━━━━━━━\u001b[0m\u001b[37m\u001b[0m \u001b[1m3s\u001b[0m 4ms/step - accuracy: 0.9991 - loss: 0.0055 - val_accuracy: 0.9815 - val_loss: 0.0693\n",
            "Epoch 12/15\n",
            "\u001b[1m844/844\u001b[0m \u001b[32m━━━━━━━━━━━━━━━━━━━━\u001b[0m\u001b[37m\u001b[0m \u001b[1m4s\u001b[0m 3ms/step - accuracy: 0.9996 - loss: 0.0035 - val_accuracy: 0.9817 - val_loss: 0.0728\n",
            "Epoch 13/15\n",
            "\u001b[1m844/844\u001b[0m \u001b[32m━━━━━━━━━━━━━━━━━━━━\u001b[0m\u001b[37m\u001b[0m \u001b[1m3s\u001b[0m 3ms/step - accuracy: 0.9999 - loss: 0.0021 - val_accuracy: 0.9823 - val_loss: 0.0708\n",
            "Epoch 14/15\n",
            "\u001b[1m844/844\u001b[0m \u001b[32m━━━━━━━━━━━━━━━━━━━━\u001b[0m\u001b[37m\u001b[0m \u001b[1m3s\u001b[0m 3ms/step - accuracy: 0.9999 - loss: 0.0015 - val_accuracy: 0.9823 - val_loss: 0.0737\n",
            "Epoch 15/15\n",
            "\u001b[1m844/844\u001b[0m \u001b[32m━━━━━━━━━━━━━━━━━━━━\u001b[0m\u001b[37m\u001b[0m \u001b[1m3s\u001b[0m 4ms/step - accuracy: 1.0000 - loss: 0.0011 - val_accuracy: 0.9827 - val_loss: 0.0755\n",
            "\n",
            "Tempo de treinamento da rede: 0m42s\n",
            "Epoch 1/20\n",
            "\u001b[1m844/844\u001b[0m \u001b[32m━━━━━━━━━━━━━━━━━━━━\u001b[0m\u001b[37m\u001b[0m \u001b[1m2s\u001b[0m 3ms/step - accuracy: 0.7885 - loss: 0.7260 - val_accuracy: 0.9603 - val_loss: 0.1415\n",
            "Epoch 2/20\n",
            "\u001b[1m844/844\u001b[0m \u001b[32m━━━━━━━━━━━━━━━━━━━━\u001b[0m\u001b[37m\u001b[0m \u001b[1m2s\u001b[0m 3ms/step - accuracy: 0.9529 - loss: 0.1594 - val_accuracy: 0.9708 - val_loss: 0.1009\n",
            "Epoch 3/20\n",
            "\u001b[1m844/844\u001b[0m \u001b[32m━━━━━━━━━━━━━━━━━━━━\u001b[0m\u001b[37m\u001b[0m \u001b[1m2s\u001b[0m 3ms/step - accuracy: 0.9726 - loss: 0.0898 - val_accuracy: 0.9762 - val_loss: 0.0789\n",
            "Epoch 4/20\n",
            "\u001b[1m844/844\u001b[0m \u001b[32m━━━━━━━━━━━━━━━━━━━━\u001b[0m\u001b[37m\u001b[0m \u001b[1m3s\u001b[0m 3ms/step - accuracy: 0.9803 - loss: 0.0667 - val_accuracy: 0.9805 - val_loss: 0.0698\n",
            "Epoch 5/20\n",
            "\u001b[1m844/844\u001b[0m \u001b[32m━━━━━━━━━━━━━━━━━━━━\u001b[0m\u001b[37m\u001b[0m \u001b[1m3s\u001b[0m 4ms/step - accuracy: 0.9862 - loss: 0.0485 - val_accuracy: 0.9798 - val_loss: 0.0723\n",
            "Epoch 6/20\n",
            "\u001b[1m844/844\u001b[0m \u001b[32m━━━━━━━━━━━━━━━━━━━━\u001b[0m\u001b[37m\u001b[0m \u001b[1m4s\u001b[0m 3ms/step - accuracy: 0.9908 - loss: 0.0332 - val_accuracy: 0.9818 - val_loss: 0.0708\n",
            "Epoch 7/20\n",
            "\u001b[1m844/844\u001b[0m \u001b[32m━━━━━━━━━━━━━━━━━━━━\u001b[0m\u001b[37m\u001b[0m \u001b[1m2s\u001b[0m 3ms/step - accuracy: 0.9926 - loss: 0.0258 - val_accuracy: 0.9813 - val_loss: 0.0681\n",
            "Epoch 8/20\n",
            "\u001b[1m844/844\u001b[0m \u001b[32m━━━━━━━━━━━━━━━━━━━━\u001b[0m\u001b[37m\u001b[0m \u001b[1m2s\u001b[0m 3ms/step - accuracy: 0.9954 - loss: 0.0164 - val_accuracy: 0.9825 - val_loss: 0.0640\n",
            "Epoch 9/20\n",
            "\u001b[1m844/844\u001b[0m \u001b[32m━━━━━━━━━━━━━━━━━━━━\u001b[0m\u001b[37m\u001b[0m \u001b[1m3s\u001b[0m 4ms/step - accuracy: 0.9976 - loss: 0.0110 - val_accuracy: 0.9808 - val_loss: 0.0705\n",
            "Epoch 10/20\n",
            "\u001b[1m844/844\u001b[0m \u001b[32m━━━━━━━━━━━━━━━━━━━━\u001b[0m\u001b[37m\u001b[0m \u001b[1m3s\u001b[0m 3ms/step - accuracy: 0.9984 - loss: 0.0080 - val_accuracy: 0.9827 - val_loss: 0.0703\n",
            "Epoch 11/20\n",
            "\u001b[1m844/844\u001b[0m \u001b[32m━━━━━━━━━━━━━━━━━━━━\u001b[0m\u001b[37m\u001b[0m \u001b[1m3s\u001b[0m 3ms/step - accuracy: 0.9990 - loss: 0.0059 - val_accuracy: 0.9818 - val_loss: 0.0725\n",
            "Epoch 12/20\n",
            "\u001b[1m844/844\u001b[0m \u001b[32m━━━━━━━━━━━━━━━━━━━━\u001b[0m\u001b[37m\u001b[0m \u001b[1m2s\u001b[0m 3ms/step - accuracy: 0.9999 - loss: 0.0026 - val_accuracy: 0.9823 - val_loss: 0.0748\n",
            "Epoch 13/20\n",
            "\u001b[1m844/844\u001b[0m \u001b[32m━━━━━━━━━━━━━━━━━━━━\u001b[0m\u001b[37m\u001b[0m \u001b[1m2s\u001b[0m 3ms/step - accuracy: 0.9999 - loss: 0.0020 - val_accuracy: 0.9817 - val_loss: 0.0763\n",
            "Epoch 14/20\n",
            "\u001b[1m844/844\u001b[0m \u001b[32m━━━━━━━━━━━━━━━━━━━━\u001b[0m\u001b[37m\u001b[0m \u001b[1m3s\u001b[0m 4ms/step - accuracy: 1.0000 - loss: 0.0014 - val_accuracy: 0.9842 - val_loss: 0.0743\n",
            "Epoch 15/20\n",
            "\u001b[1m844/844\u001b[0m \u001b[32m━━━━━━━━━━━━━━━━━━━━\u001b[0m\u001b[37m\u001b[0m \u001b[1m4s\u001b[0m 3ms/step - accuracy: 1.0000 - loss: 0.0012 - val_accuracy: 0.9837 - val_loss: 0.0764\n",
            "Epoch 16/20\n",
            "\u001b[1m844/844\u001b[0m \u001b[32m━━━━━━━━━━━━━━━━━━━━\u001b[0m\u001b[37m\u001b[0m \u001b[1m3s\u001b[0m 3ms/step - accuracy: 1.0000 - loss: 9.0764e-04 - val_accuracy: 0.9835 - val_loss: 0.0768\n",
            "Epoch 17/20\n",
            "\u001b[1m844/844\u001b[0m \u001b[32m━━━━━━━━━━━━━━━━━━━━\u001b[0m\u001b[37m\u001b[0m \u001b[1m3s\u001b[0m 3ms/step - accuracy: 1.0000 - loss: 7.4626e-04 - val_accuracy: 0.9833 - val_loss: 0.0789\n",
            "Epoch 18/20\n",
            "\u001b[1m844/844\u001b[0m \u001b[32m━━━━━━━━━━━━━━━━━━━━\u001b[0m\u001b[37m\u001b[0m \u001b[1m5s\u001b[0m 3ms/step - accuracy: 1.0000 - loss: 7.0333e-04 - val_accuracy: 0.9837 - val_loss: 0.0796\n",
            "Epoch 19/20\n",
            "\u001b[1m844/844\u001b[0m \u001b[32m━━━━━━━━━━━━━━━━━━━━\u001b[0m\u001b[37m\u001b[0m \u001b[1m3s\u001b[0m 3ms/step - accuracy: 1.0000 - loss: 6.0499e-04 - val_accuracy: 0.9827 - val_loss: 0.0817\n",
            "Epoch 20/20\n",
            "\u001b[1m844/844\u001b[0m \u001b[32m━━━━━━━━━━━━━━━━━━━━\u001b[0m\u001b[37m\u001b[0m \u001b[1m5s\u001b[0m 3ms/step - accuracy: 1.0000 - loss: 5.3300e-04 - val_accuracy: 0.9832 - val_loss: 0.0815\n",
            "\n",
            "Tempo de treinamento da rede: 0m55s\n",
            "Epoch 1/10\n",
            "\u001b[1m422/422\u001b[0m \u001b[32m━━━━━━━━━━━━━━━━━━━━\u001b[0m\u001b[37m\u001b[0m \u001b[1m4s\u001b[0m 6ms/step - accuracy: 0.7290 - loss: 0.9653 - val_accuracy: 0.9423 - val_loss: 0.2056\n",
            "Epoch 2/10\n",
            "\u001b[1m422/422\u001b[0m \u001b[32m━━━━━━━━━━━━━━━━━━━━\u001b[0m\u001b[37m\u001b[0m \u001b[1m1s\u001b[0m 3ms/step - accuracy: 0.9334 - loss: 0.2273 - val_accuracy: 0.9600 - val_loss: 0.1434\n",
            "Epoch 3/10\n",
            "\u001b[1m422/422\u001b[0m \u001b[32m━━━━━━━━━━━━━━━━━━━━\u001b[0m\u001b[37m\u001b[0m \u001b[1m1s\u001b[0m 3ms/step - accuracy: 0.9559 - loss: 0.1484 - val_accuracy: 0.9672 - val_loss: 0.1229\n",
            "Epoch 4/10\n",
            "\u001b[1m422/422\u001b[0m \u001b[32m━━━━━━━━━━━━━━━━━━━━\u001b[0m\u001b[37m\u001b[0m \u001b[1m1s\u001b[0m 3ms/step - accuracy: 0.9676 - loss: 0.1100 - val_accuracy: 0.9738 - val_loss: 0.0917\n",
            "Epoch 5/10\n",
            "\u001b[1m422/422\u001b[0m \u001b[32m━━━━━━━━━━━━━━━━━━━━\u001b[0m\u001b[37m\u001b[0m \u001b[1m1s\u001b[0m 3ms/step - accuracy: 0.9738 - loss: 0.0889 - val_accuracy: 0.9700 - val_loss: 0.0978\n",
            "Epoch 6/10\n",
            "\u001b[1m422/422\u001b[0m \u001b[32m━━━━━━━━━━━━━━━━━━━━\u001b[0m\u001b[37m\u001b[0m \u001b[1m3s\u001b[0m 4ms/step - accuracy: 0.9801 - loss: 0.0684 - val_accuracy: 0.9778 - val_loss: 0.0783\n",
            "Epoch 7/10\n",
            "\u001b[1m422/422\u001b[0m \u001b[32m━━━━━━━━━━━━━━━━━━━━\u001b[0m\u001b[37m\u001b[0m \u001b[1m1s\u001b[0m 3ms/step - accuracy: 0.9841 - loss: 0.0553 - val_accuracy: 0.9783 - val_loss: 0.0716\n",
            "Epoch 8/10\n",
            "\u001b[1m422/422\u001b[0m \u001b[32m━━━━━━━━━━━━━━━━━━━━\u001b[0m\u001b[37m\u001b[0m \u001b[1m1s\u001b[0m 3ms/step - accuracy: 0.9876 - loss: 0.0443 - val_accuracy: 0.9772 - val_loss: 0.0738\n",
            "Epoch 9/10\n",
            "\u001b[1m422/422\u001b[0m \u001b[32m━━━━━━━━━━━━━━━━━━━━\u001b[0m\u001b[37m\u001b[0m \u001b[1m3s\u001b[0m 3ms/step - accuracy: 0.9902 - loss: 0.0362 - val_accuracy: 0.9793 - val_loss: 0.0717\n",
            "Epoch 10/10\n",
            "\u001b[1m422/422\u001b[0m \u001b[32m━━━━━━━━━━━━━━━━━━━━\u001b[0m\u001b[37m\u001b[0m \u001b[1m1s\u001b[0m 3ms/step - accuracy: 0.9925 - loss: 0.0288 - val_accuracy: 0.9807 - val_loss: 0.0671\n",
            "\n",
            "Tempo de treinamento da rede: 0m16s\n",
            "Epoch 1/15\n",
            "\u001b[1m422/422\u001b[0m \u001b[32m━━━━━━━━━━━━━━━━━━━━\u001b[0m\u001b[37m\u001b[0m \u001b[1m1s\u001b[0m 3ms/step - accuracy: 0.7326 - loss: 0.9642 - val_accuracy: 0.9483 - val_loss: 0.1944\n",
            "Epoch 2/15\n",
            "\u001b[1m422/422\u001b[0m \u001b[32m━━━━━━━━━━━━━━━━━━━━\u001b[0m\u001b[37m\u001b[0m \u001b[1m2s\u001b[0m 4ms/step - accuracy: 0.9349 - loss: 0.2191 - val_accuracy: 0.9613 - val_loss: 0.1394\n",
            "Epoch 3/15\n",
            "\u001b[1m422/422\u001b[0m \u001b[32m━━━━━━━━━━━━━━━━━━━━\u001b[0m\u001b[37m\u001b[0m \u001b[1m2s\u001b[0m 4ms/step - accuracy: 0.9560 - loss: 0.1485 - val_accuracy: 0.9713 - val_loss: 0.1040\n",
            "Epoch 4/15\n",
            "\u001b[1m422/422\u001b[0m \u001b[32m━━━━━━━━━━━━━━━━━━━━\u001b[0m\u001b[37m\u001b[0m \u001b[1m2s\u001b[0m 3ms/step - accuracy: 0.9675 - loss: 0.1092 - val_accuracy: 0.9737 - val_loss: 0.0919\n",
            "Epoch 5/15\n",
            "\u001b[1m422/422\u001b[0m \u001b[32m━━━━━━━━━━━━━━━━━━━━\u001b[0m\u001b[37m\u001b[0m \u001b[1m3s\u001b[0m 3ms/step - accuracy: 0.9757 - loss: 0.0838 - val_accuracy: 0.9665 - val_loss: 0.1092\n",
            "Epoch 6/15\n",
            "\u001b[1m422/422\u001b[0m \u001b[32m━━━━━━━━━━━━━━━━━━━━\u001b[0m\u001b[37m\u001b[0m \u001b[1m3s\u001b[0m 3ms/step - accuracy: 0.9781 - loss: 0.0719 - val_accuracy: 0.9763 - val_loss: 0.0820\n",
            "Epoch 7/15\n",
            "\u001b[1m422/422\u001b[0m \u001b[32m━━━━━━━━━━━━━━━━━━━━\u001b[0m\u001b[37m\u001b[0m \u001b[1m1s\u001b[0m 3ms/step - accuracy: 0.9845 - loss: 0.0558 - val_accuracy: 0.9772 - val_loss: 0.0770\n",
            "Epoch 8/15\n",
            "\u001b[1m422/422\u001b[0m \u001b[32m━━━━━━━━━━━━━━━━━━━━\u001b[0m\u001b[37m\u001b[0m \u001b[1m1s\u001b[0m 3ms/step - accuracy: 0.9872 - loss: 0.0442 - val_accuracy: 0.9797 - val_loss: 0.0687\n",
            "Epoch 9/15\n",
            "\u001b[1m422/422\u001b[0m \u001b[32m━━━━━━━━━━━━━━━━━━━━\u001b[0m\u001b[37m\u001b[0m \u001b[1m3s\u001b[0m 4ms/step - accuracy: 0.9892 - loss: 0.0365 - val_accuracy: 0.9820 - val_loss: 0.0651\n",
            "Epoch 10/15\n",
            "\u001b[1m422/422\u001b[0m \u001b[32m━━━━━━━━━━━━━━━━━━━━\u001b[0m\u001b[37m\u001b[0m \u001b[1m1s\u001b[0m 3ms/step - accuracy: 0.9932 - loss: 0.0277 - val_accuracy: 0.9798 - val_loss: 0.0679\n",
            "Epoch 11/15\n",
            "\u001b[1m422/422\u001b[0m \u001b[32m━━━━━━━━━━━━━━━━━━━━\u001b[0m\u001b[37m\u001b[0m \u001b[1m3s\u001b[0m 3ms/step - accuracy: 0.9943 - loss: 0.0231 - val_accuracy: 0.9803 - val_loss: 0.0663\n",
            "Epoch 12/15\n",
            "\u001b[1m422/422\u001b[0m \u001b[32m━━━━━━━━━━━━━━━━━━━━\u001b[0m\u001b[37m\u001b[0m \u001b[1m3s\u001b[0m 3ms/step - accuracy: 0.9954 - loss: 0.0195 - val_accuracy: 0.9810 - val_loss: 0.0676\n",
            "Epoch 13/15\n",
            "\u001b[1m422/422\u001b[0m \u001b[32m━━━━━━━━━━━━━━━━━━━━\u001b[0m\u001b[37m\u001b[0m \u001b[1m1s\u001b[0m 3ms/step - accuracy: 0.9970 - loss: 0.0145 - val_accuracy: 0.9818 - val_loss: 0.0698\n",
            "Epoch 14/15\n",
            "\u001b[1m422/422\u001b[0m \u001b[32m━━━━━━━━━━━━━━━━━━━━\u001b[0m\u001b[37m\u001b[0m \u001b[1m3s\u001b[0m 4ms/step - accuracy: 0.9978 - loss: 0.0119 - val_accuracy: 0.9818 - val_loss: 0.0696\n",
            "Epoch 15/15\n",
            "\u001b[1m422/422\u001b[0m \u001b[32m━━━━━━━━━━━━━━━━━━━━\u001b[0m\u001b[37m\u001b[0m \u001b[1m2s\u001b[0m 4ms/step - accuracy: 0.9990 - loss: 0.0086 - val_accuracy: 0.9802 - val_loss: 0.0718\n",
            "\n",
            "Tempo de treinamento da rede: 0m23s\n",
            "Epoch 1/20\n",
            "\u001b[1m422/422\u001b[0m \u001b[32m━━━━━━━━━━━━━━━━━━━━\u001b[0m\u001b[37m\u001b[0m \u001b[1m1s\u001b[0m 3ms/step - accuracy: 0.7415 - loss: 0.9573 - val_accuracy: 0.9455 - val_loss: 0.1931\n",
            "Epoch 2/20\n",
            "\u001b[1m422/422\u001b[0m \u001b[32m━━━━━━━━━━━━━━━━━━━━\u001b[0m\u001b[37m\u001b[0m \u001b[1m2s\u001b[0m 3ms/step - accuracy: 0.9353 - loss: 0.2231 - val_accuracy: 0.9660 - val_loss: 0.1266\n",
            "Epoch 3/20\n",
            "\u001b[1m422/422\u001b[0m \u001b[32m━━━━━━━━━━━━━━━━━━━━\u001b[0m\u001b[37m\u001b[0m \u001b[1m1s\u001b[0m 3ms/step - accuracy: 0.9558 - loss: 0.1502 - val_accuracy: 0.9690 - val_loss: 0.1139\n",
            "Epoch 4/20\n",
            "\u001b[1m422/422\u001b[0m \u001b[32m━━━━━━━━━━━━━━━━━━━━\u001b[0m\u001b[37m\u001b[0m \u001b[1m1s\u001b[0m 3ms/step - accuracy: 0.9659 - loss: 0.1127 - val_accuracy: 0.9738 - val_loss: 0.0932\n",
            "Epoch 5/20\n",
            "\u001b[1m422/422\u001b[0m \u001b[32m━━━━━━━━━━━━━━━━━━━━\u001b[0m\u001b[37m\u001b[0m \u001b[1m3s\u001b[0m 4ms/step - accuracy: 0.9758 - loss: 0.0847 - val_accuracy: 0.9750 - val_loss: 0.0875\n",
            "Epoch 6/20\n",
            "\u001b[1m422/422\u001b[0m \u001b[32m━━━━━━━━━━━━━━━━━━━━\u001b[0m\u001b[37m\u001b[0m \u001b[1m2s\u001b[0m 4ms/step - accuracy: 0.9807 - loss: 0.0679 - val_accuracy: 0.9767 - val_loss: 0.0781\n",
            "Epoch 7/20\n",
            "\u001b[1m422/422\u001b[0m \u001b[32m━━━━━━━━━━━━━━━━━━━━\u001b[0m\u001b[37m\u001b[0m \u001b[1m2s\u001b[0m 3ms/step - accuracy: 0.9834 - loss: 0.0571 - val_accuracy: 0.9727 - val_loss: 0.0903\n",
            "Epoch 8/20\n",
            "\u001b[1m422/422\u001b[0m \u001b[32m━━━━━━━━━━━━━━━━━━━━\u001b[0m\u001b[37m\u001b[0m \u001b[1m1s\u001b[0m 3ms/step - accuracy: 0.9875 - loss: 0.0448 - val_accuracy: 0.9747 - val_loss: 0.0844\n",
            "Epoch 9/20\n",
            "\u001b[1m422/422\u001b[0m \u001b[32m━━━━━━━━━━━━━━━━━━━━\u001b[0m\u001b[37m\u001b[0m \u001b[1m3s\u001b[0m 3ms/step - accuracy: 0.9897 - loss: 0.0365 - val_accuracy: 0.9783 - val_loss: 0.0746\n",
            "Epoch 10/20\n",
            "\u001b[1m422/422\u001b[0m \u001b[32m━━━━━━━━━━━━━━━━━━━━\u001b[0m\u001b[37m\u001b[0m \u001b[1m3s\u001b[0m 3ms/step - accuracy: 0.9921 - loss: 0.0297 - val_accuracy: 0.9775 - val_loss: 0.0759\n",
            "Epoch 11/20\n",
            "\u001b[1m422/422\u001b[0m \u001b[32m━━━━━━━━━━━━━━━━━━━━\u001b[0m\u001b[37m\u001b[0m \u001b[1m1s\u001b[0m 3ms/step - accuracy: 0.9942 - loss: 0.0232 - val_accuracy: 0.9800 - val_loss: 0.0676\n",
            "Epoch 12/20\n",
            "\u001b[1m422/422\u001b[0m \u001b[32m━━━━━━━━━━━━━━━━━━━━\u001b[0m\u001b[37m\u001b[0m \u001b[1m2s\u001b[0m 4ms/step - accuracy: 0.9959 - loss: 0.0180 - val_accuracy: 0.9805 - val_loss: 0.0665\n",
            "Epoch 13/20\n",
            "\u001b[1m422/422\u001b[0m \u001b[32m━━━━━━━━━━━━━━━━━━━━\u001b[0m\u001b[37m\u001b[0m \u001b[1m3s\u001b[0m 5ms/step - accuracy: 0.9968 - loss: 0.0144 - val_accuracy: 0.9795 - val_loss: 0.0726\n",
            "Epoch 14/20\n",
            "\u001b[1m422/422\u001b[0m \u001b[32m━━━━━━━━━━━━━━━━━━━━\u001b[0m\u001b[37m\u001b[0m \u001b[1m2s\u001b[0m 3ms/step - accuracy: 0.9977 - loss: 0.0120 - val_accuracy: 0.9818 - val_loss: 0.0673\n",
            "Epoch 15/20\n",
            "\u001b[1m422/422\u001b[0m \u001b[32m━━━━━━━━━━━━━━━━━━━━\u001b[0m\u001b[37m\u001b[0m \u001b[1m1s\u001b[0m 3ms/step - accuracy: 0.9988 - loss: 0.0085 - val_accuracy: 0.9817 - val_loss: 0.0680\n",
            "Epoch 16/20\n",
            "\u001b[1m422/422\u001b[0m \u001b[32m━━━━━━━━━━━━━━━━━━━━\u001b[0m\u001b[37m\u001b[0m \u001b[1m1s\u001b[0m 3ms/step - accuracy: 0.9993 - loss: 0.0066 - val_accuracy: 0.9777 - val_loss: 0.0865\n",
            "Epoch 17/20\n",
            "\u001b[1m422/422\u001b[0m \u001b[32m━━━━━━━━━━━━━━━━━━━━\u001b[0m\u001b[37m\u001b[0m \u001b[1m1s\u001b[0m 3ms/step - accuracy: 0.9992 - loss: 0.0059 - val_accuracy: 0.9820 - val_loss: 0.0691\n",
            "Epoch 18/20\n",
            "\u001b[1m422/422\u001b[0m \u001b[32m━━━━━━━━━━━━━━━━━━━━\u001b[0m\u001b[37m\u001b[0m \u001b[1m1s\u001b[0m 3ms/step - accuracy: 0.9995 - loss: 0.0046 - val_accuracy: 0.9793 - val_loss: 0.0838\n",
            "Epoch 19/20\n",
            "\u001b[1m422/422\u001b[0m \u001b[32m━━━━━━━━━━━━━━━━━━━━\u001b[0m\u001b[37m\u001b[0m \u001b[1m3s\u001b[0m 3ms/step - accuracy: 0.9996 - loss: 0.0039 - val_accuracy: 0.9797 - val_loss: 0.0767\n",
            "Epoch 20/20\n",
            "\u001b[1m422/422\u001b[0m \u001b[32m━━━━━━━━━━━━━━━━━━━━\u001b[0m\u001b[37m\u001b[0m \u001b[1m2s\u001b[0m 4ms/step - accuracy: 0.9999 - loss: 0.0030 - val_accuracy: 0.9813 - val_loss: 0.0764\n",
            "\n",
            "Tempo de treinamento da rede: 0m29s\n",
            "Epoch 1/10\n",
            "\u001b[1m1688/1688\u001b[0m \u001b[32m━━━━━━━━━━━━━━━━━━━━\u001b[0m\u001b[37m\u001b[0m \u001b[1m9s\u001b[0m 5ms/step - accuracy: 0.8327 - loss: 9.1876 - val_accuracy: 0.9525 - val_loss: 5.3914\n",
            "Epoch 2/10\n",
            "\u001b[1m1688/1688\u001b[0m \u001b[32m━━━━━━━━━━━━━━━━━━━━\u001b[0m\u001b[37m\u001b[0m \u001b[1m6s\u001b[0m 3ms/step - accuracy: 0.9516 - loss: 4.5372 - val_accuracy: 0.9668 - val_loss: 2.3871\n",
            "Epoch 3/10\n",
            "\u001b[1m1688/1688\u001b[0m \u001b[32m━━━━━━━━━━━━━━━━━━━━\u001b[0m\u001b[37m\u001b[0m \u001b[1m5s\u001b[0m 3ms/step - accuracy: 0.9554 - loss: 1.9697 - val_accuracy: 0.9582 - val_loss: 1.0392\n",
            "Epoch 4/10\n",
            "\u001b[1m1688/1688\u001b[0m \u001b[32m━━━━━━━━━━━━━━━━━━━━\u001b[0m\u001b[37m\u001b[0m \u001b[1m5s\u001b[0m 3ms/step - accuracy: 0.9544 - loss: 0.9066 - val_accuracy: 0.9648 - val_loss: 0.6086\n",
            "Epoch 5/10\n",
            "\u001b[1m1688/1688\u001b[0m \u001b[32m━━━━━━━━━━━━━━━━━━━━\u001b[0m\u001b[37m\u001b[0m \u001b[1m6s\u001b[0m 3ms/step - accuracy: 0.9617 - loss: 0.5676 - val_accuracy: 0.9527 - val_loss: 0.4964\n",
            "Epoch 6/10\n",
            "\u001b[1m1688/1688\u001b[0m \u001b[32m━━━━━━━━━━━━━━━━━━━━\u001b[0m\u001b[37m\u001b[0m \u001b[1m5s\u001b[0m 3ms/step - accuracy: 0.9646 - loss: 0.4348 - val_accuracy: 0.9248 - val_loss: 0.5051\n",
            "Epoch 7/10\n",
            "\u001b[1m1688/1688\u001b[0m \u001b[32m━━━━━━━━━━━━━━━━━━━━\u001b[0m\u001b[37m\u001b[0m \u001b[1m6s\u001b[0m 3ms/step - accuracy: 0.9673 - loss: 0.3707 - val_accuracy: 0.9512 - val_loss: 0.3909\n",
            "Epoch 8/10\n",
            "\u001b[1m1688/1688\u001b[0m \u001b[32m━━━━━━━━━━━━━━━━━━━━\u001b[0m\u001b[37m\u001b[0m \u001b[1m5s\u001b[0m 3ms/step - accuracy: 0.9703 - loss: 0.3285 - val_accuracy: 0.9795 - val_loss: 0.2875\n",
            "Epoch 9/10\n",
            "\u001b[1m1688/1688\u001b[0m \u001b[32m━━━━━━━━━━━━━━━━━━━━\u001b[0m\u001b[37m\u001b[0m \u001b[1m6s\u001b[0m 3ms/step - accuracy: 0.9703 - loss: 0.3070 - val_accuracy: 0.9680 - val_loss: 0.3150\n",
            "Epoch 10/10\n",
            "\u001b[1m1688/1688\u001b[0m \u001b[32m━━━━━━━━━━━━━━━━━━━━\u001b[0m\u001b[37m\u001b[0m \u001b[1m10s\u001b[0m 3ms/step - accuracy: 0.9708 - loss: 0.2903 - val_accuracy: 0.9613 - val_loss: 0.3186\n",
            "\n",
            "Tempo de treinamento da rede: 0m57s\n",
            "Epoch 1/15\n",
            "\u001b[1m1688/1688\u001b[0m \u001b[32m━━━━━━━━━━━━━━━━━━━━\u001b[0m\u001b[37m\u001b[0m \u001b[1m6s\u001b[0m 3ms/step - accuracy: 0.8324 - loss: 9.1944 - val_accuracy: 0.9590 - val_loss: 5.3797\n",
            "Epoch 2/15\n",
            "\u001b[1m1688/1688\u001b[0m \u001b[32m━━━━━━━━━━━━━━━━━━━━\u001b[0m\u001b[37m\u001b[0m \u001b[1m5s\u001b[0m 3ms/step - accuracy: 0.9522 - loss: 4.5353 - val_accuracy: 0.9557 - val_loss: 2.4226\n",
            "Epoch 3/15\n",
            "\u001b[1m1688/1688\u001b[0m \u001b[32m━━━━━━━━━━━━━━━━━━━━\u001b[0m\u001b[37m\u001b[0m \u001b[1m5s\u001b[0m 3ms/step - accuracy: 0.9534 - loss: 1.9770 - val_accuracy: 0.9572 - val_loss: 1.0311\n",
            "Epoch 4/15\n",
            "\u001b[1m1688/1688\u001b[0m \u001b[32m━━━━━━━━━━━━━━━━━━━━\u001b[0m\u001b[37m\u001b[0m \u001b[1m10s\u001b[0m 3ms/step - accuracy: 0.9545 - loss: 0.9076 - val_accuracy: 0.9662 - val_loss: 0.6137\n",
            "Epoch 5/15\n",
            "\u001b[1m1688/1688\u001b[0m \u001b[32m━━━━━━━━━━━━━━━━━━━━\u001b[0m\u001b[37m\u001b[0m \u001b[1m6s\u001b[0m 3ms/step - accuracy: 0.9604 - loss: 0.5759 - val_accuracy: 0.9593 - val_loss: 0.4778\n",
            "Epoch 6/15\n",
            "\u001b[1m1688/1688\u001b[0m \u001b[32m━━━━━━━━━━━━━━━━━━━━\u001b[0m\u001b[37m\u001b[0m \u001b[1m10s\u001b[0m 3ms/step - accuracy: 0.9644 - loss: 0.4360 - val_accuracy: 0.8697 - val_loss: 0.7029\n",
            "Epoch 7/15\n",
            "\u001b[1m1688/1688\u001b[0m \u001b[32m━━━━━━━━━━━━━━━━━━━━\u001b[0m\u001b[37m\u001b[0m \u001b[1m5s\u001b[0m 3ms/step - accuracy: 0.9655 - loss: 0.3733 - val_accuracy: 0.9762 - val_loss: 0.3195\n",
            "Epoch 8/15\n",
            "\u001b[1m1688/1688\u001b[0m \u001b[32m━━━━━━━━━━━━━━━━━━━━\u001b[0m\u001b[37m\u001b[0m \u001b[1m11s\u001b[0m 3ms/step - accuracy: 0.9694 - loss: 0.3300 - val_accuracy: 0.8707 - val_loss: 0.6149\n",
            "Epoch 9/15\n",
            "\u001b[1m1688/1688\u001b[0m \u001b[32m━━━━━━━━━━━━━━━━━━━━\u001b[0m\u001b[37m\u001b[0m \u001b[1m9s\u001b[0m 3ms/step - accuracy: 0.9714 - loss: 0.3042 - val_accuracy: 0.9770 - val_loss: 0.2777\n",
            "Epoch 10/15\n",
            "\u001b[1m1688/1688\u001b[0m \u001b[32m━━━━━━━━━━━━━━━━━━━━\u001b[0m\u001b[37m\u001b[0m \u001b[1m6s\u001b[0m 3ms/step - accuracy: 0.9692 - loss: 0.2942 - val_accuracy: 0.9137 - val_loss: 0.4507\n",
            "Epoch 11/15\n",
            "\u001b[1m1688/1688\u001b[0m \u001b[32m━━━━━━━━━━━━━━━━━━━━\u001b[0m\u001b[37m\u001b[0m \u001b[1m5s\u001b[0m 3ms/step - accuracy: 0.9712 - loss: 0.2813 - val_accuracy: 0.9762 - val_loss: 0.2671\n",
            "Epoch 12/15\n",
            "\u001b[1m1688/1688\u001b[0m \u001b[32m━━━━━━━━━━━━━━━━━━━━\u001b[0m\u001b[37m\u001b[0m \u001b[1m6s\u001b[0m 3ms/step - accuracy: 0.9743 - loss: 0.2651 - val_accuracy: 0.9703 - val_loss: 0.2781\n",
            "Epoch 13/15\n",
            "\u001b[1m1688/1688\u001b[0m \u001b[32m━━━━━━━━━━━━━━━━━━━━\u001b[0m\u001b[37m\u001b[0m \u001b[1m9s\u001b[0m 3ms/step - accuracy: 0.9731 - loss: 0.2619 - val_accuracy: 0.9357 - val_loss: 0.3861\n",
            "Epoch 14/15\n",
            "\u001b[1m1688/1688\u001b[0m \u001b[32m━━━━━━━━━━━━━━━━━━━━\u001b[0m\u001b[37m\u001b[0m \u001b[1m6s\u001b[0m 3ms/step - accuracy: 0.9730 - loss: 0.2589 - val_accuracy: 0.9742 - val_loss: 0.2572\n",
            "Epoch 15/15\n",
            "\u001b[1m1688/1688\u001b[0m \u001b[32m━━━━━━━━━━━━━━━━━━━━\u001b[0m\u001b[37m\u001b[0m \u001b[1m10s\u001b[0m 3ms/step - accuracy: 0.9736 - loss: 0.2529 - val_accuracy: 0.9657 - val_loss: 0.2679\n",
            "\n",
            "Tempo de treinamento da rede: 1m22s\n",
            "Epoch 1/20\n",
            "\u001b[1m1688/1688\u001b[0m \u001b[32m━━━━━━━━━━━━━━━━━━━━\u001b[0m\u001b[37m\u001b[0m \u001b[1m5s\u001b[0m 3ms/step - accuracy: 0.8352 - loss: 9.1801 - val_accuracy: 0.9500 - val_loss: 5.4072\n",
            "Epoch 2/20\n",
            "\u001b[1m1688/1688\u001b[0m \u001b[32m━━━━━━━━━━━━━━━━━━━━\u001b[0m\u001b[37m\u001b[0m \u001b[1m5s\u001b[0m 3ms/step - accuracy: 0.9508 - loss: 4.5350 - val_accuracy: 0.9637 - val_loss: 2.3939\n",
            "Epoch 3/20\n",
            "\u001b[1m1688/1688\u001b[0m \u001b[32m━━━━━━━━━━━━━━━━━━━━\u001b[0m\u001b[37m\u001b[0m \u001b[1m6s\u001b[0m 3ms/step - accuracy: 0.9556 - loss: 1.9754 - val_accuracy: 0.9598 - val_loss: 1.0295\n",
            "Epoch 4/20\n",
            "\u001b[1m1688/1688\u001b[0m \u001b[32m━━━━━━━━━━━━━━━━━━━━\u001b[0m\u001b[37m\u001b[0m \u001b[1m9s\u001b[0m 3ms/step - accuracy: 0.9527 - loss: 0.9073 - val_accuracy: 0.9673 - val_loss: 0.6087\n",
            "Epoch 5/20\n",
            "\u001b[1m1688/1688\u001b[0m \u001b[32m━━━━━━━━━━━━━━━━━━━━\u001b[0m\u001b[37m\u001b[0m \u001b[1m6s\u001b[0m 3ms/step - accuracy: 0.9591 - loss: 0.5772 - val_accuracy: 0.9648 - val_loss: 0.4640\n",
            "Epoch 6/20\n",
            "\u001b[1m1688/1688\u001b[0m \u001b[32m━━━━━━━━━━━━━━━━━━━━\u001b[0m\u001b[37m\u001b[0m \u001b[1m11s\u001b[0m 3ms/step - accuracy: 0.9625 - loss: 0.4404 - val_accuracy: 0.9727 - val_loss: 0.3686\n",
            "Epoch 7/20\n",
            "\u001b[1m1688/1688\u001b[0m \u001b[32m━━━━━━━━━━━━━━━━━━━━\u001b[0m\u001b[37m\u001b[0m \u001b[1m9s\u001b[0m 3ms/step - accuracy: 0.9687 - loss: 0.3616 - val_accuracy: 0.9648 - val_loss: 0.3522\n",
            "Epoch 8/20\n",
            "\u001b[1m1688/1688\u001b[0m \u001b[32m━━━━━━━━━━━━━━━━━━━━\u001b[0m\u001b[37m\u001b[0m \u001b[1m6s\u001b[0m 3ms/step - accuracy: 0.9671 - loss: 0.3308 - val_accuracy: 0.9757 - val_loss: 0.2986\n",
            "Epoch 9/20\n",
            "\u001b[1m1688/1688\u001b[0m \u001b[32m━━━━━━━━━━━━━━━━━━━━\u001b[0m\u001b[37m\u001b[0m \u001b[1m5s\u001b[0m 3ms/step - accuracy: 0.9724 - loss: 0.2999 - val_accuracy: 0.9763 - val_loss: 0.2801\n",
            "Epoch 10/20\n",
            "\u001b[1m1688/1688\u001b[0m \u001b[32m━━━━━━━━━━━━━━━━━━━━\u001b[0m\u001b[37m\u001b[0m \u001b[1m6s\u001b[0m 3ms/step - accuracy: 0.9715 - loss: 0.2875 - val_accuracy: 0.9552 - val_loss: 0.3322\n",
            "Epoch 11/20\n",
            "\u001b[1m1688/1688\u001b[0m \u001b[32m━━━━━━━━━━━━━━━━━━━━\u001b[0m\u001b[37m\u001b[0m \u001b[1m5s\u001b[0m 3ms/step - accuracy: 0.9717 - loss: 0.2781 - val_accuracy: 0.9790 - val_loss: 0.2510\n",
            "Epoch 12/20\n",
            "\u001b[1m1688/1688\u001b[0m \u001b[32m━━━━━━━━━━━━━━━━━━━━\u001b[0m\u001b[37m\u001b[0m \u001b[1m5s\u001b[0m 3ms/step - accuracy: 0.9718 - loss: 0.2676 - val_accuracy: 0.9765 - val_loss: 0.2507\n",
            "Epoch 13/20\n",
            "\u001b[1m1688/1688\u001b[0m \u001b[32m━━━━━━━━━━━━━━━━━━━━\u001b[0m\u001b[37m\u001b[0m \u001b[1m6s\u001b[0m 3ms/step - accuracy: 0.9717 - loss: 0.2601 - val_accuracy: 0.9773 - val_loss: 0.2522\n",
            "Epoch 14/20\n",
            "\u001b[1m1688/1688\u001b[0m \u001b[32m━━━━━━━━━━━━━━━━━━━━\u001b[0m\u001b[37m\u001b[0m \u001b[1m9s\u001b[0m 3ms/step - accuracy: 0.9738 - loss: 0.2519 - val_accuracy: 0.9630 - val_loss: 0.2860\n",
            "Epoch 15/20\n",
            "\u001b[1m1688/1688\u001b[0m \u001b[32m━━━━━━━━━━━━━━━━━━━━\u001b[0m\u001b[37m\u001b[0m \u001b[1m5s\u001b[0m 3ms/step - accuracy: 0.9729 - loss: 0.2527 - val_accuracy: 0.9712 - val_loss: 0.2565\n",
            "Epoch 16/20\n",
            "\u001b[1m1688/1688\u001b[0m \u001b[32m━━━━━━━━━━━━━━━━━━━━\u001b[0m\u001b[37m\u001b[0m \u001b[1m5s\u001b[0m 3ms/step - accuracy: 0.9748 - loss: 0.2422 - val_accuracy: 0.9628 - val_loss: 0.2845\n",
            "Epoch 17/20\n",
            "\u001b[1m1688/1688\u001b[0m \u001b[32m━━━━━━━━━━━━━━━━━━━━\u001b[0m\u001b[37m\u001b[0m \u001b[1m6s\u001b[0m 3ms/step - accuracy: 0.9765 - loss: 0.2389 - val_accuracy: 0.9780 - val_loss: 0.2353\n",
            "Epoch 18/20\n",
            "\u001b[1m1688/1688\u001b[0m \u001b[32m━━━━━━━━━━━━━━━━━━━━\u001b[0m\u001b[37m\u001b[0m \u001b[1m5s\u001b[0m 3ms/step - accuracy: 0.9751 - loss: 0.2372 - val_accuracy: 0.9755 - val_loss: 0.2425\n",
            "Epoch 19/20\n",
            "\u001b[1m1688/1688\u001b[0m \u001b[32m━━━━━━━━━━━━━━━━━━━━\u001b[0m\u001b[37m\u001b[0m \u001b[1m6s\u001b[0m 4ms/step - accuracy: 0.9756 - loss: 0.2366 - val_accuracy: 0.9747 - val_loss: 0.2358\n",
            "Epoch 20/20\n",
            "\u001b[1m1688/1688\u001b[0m \u001b[32m━━━━━━━━━━━━━━━━━━━━\u001b[0m\u001b[37m\u001b[0m \u001b[1m5s\u001b[0m 3ms/step - accuracy: 0.9751 - loss: 0.2340 - val_accuracy: 0.9692 - val_loss: 0.2555\n",
            "\n",
            "Tempo de treinamento da rede: 1m48s\n",
            "Epoch 1/10\n",
            "\u001b[1m844/844\u001b[0m \u001b[32m━━━━━━━━━━━━━━━━━━━━\u001b[0m\u001b[37m\u001b[0m \u001b[1m3s\u001b[0m 4ms/step - accuracy: 0.7946 - loss: 9.9710 - val_accuracy: 0.9550 - val_loss: 7.5234\n",
            "Epoch 2/10\n",
            "\u001b[1m844/844\u001b[0m \u001b[32m━━━━━━━━━━━━━━━━━━━━\u001b[0m\u001b[37m\u001b[0m \u001b[1m4s\u001b[0m 3ms/step - accuracy: 0.9453 - loss: 6.9817 - val_accuracy: 0.9588 - val_loss: 5.3642\n",
            "Epoch 3/10\n",
            "\u001b[1m844/844\u001b[0m \u001b[32m━━━━━━━━━━━━━━━━━━━━\u001b[0m\u001b[37m\u001b[0m \u001b[1m3s\u001b[0m 3ms/step - accuracy: 0.9576 - loss: 4.9172 - val_accuracy: 0.9675 - val_loss: 3.6336\n",
            "Epoch 4/10\n",
            "\u001b[1m844/844\u001b[0m \u001b[32m━━━━━━━━━━━━━━━━━━━━\u001b[0m\u001b[37m\u001b[0m \u001b[1m6s\u001b[0m 4ms/step - accuracy: 0.9629 - loss: 3.3010 - val_accuracy: 0.9403 - val_loss: 2.4375\n",
            "Epoch 5/10\n",
            "\u001b[1m844/844\u001b[0m \u001b[32m━━━━━━━━━━━━━━━━━━━━\u001b[0m\u001b[37m\u001b[0m \u001b[1m5s\u001b[0m 3ms/step - accuracy: 0.9616 - loss: 2.1387 - val_accuracy: 0.9647 - val_loss: 1.5061\n",
            "Epoch 6/10\n",
            "\u001b[1m844/844\u001b[0m \u001b[32m━━━━━━━━━━━━━━━━━━━━\u001b[0m\u001b[37m\u001b[0m \u001b[1m5s\u001b[0m 3ms/step - accuracy: 0.9589 - loss: 1.3754 - val_accuracy: 0.9327 - val_loss: 1.0791\n",
            "Epoch 7/10\n",
            "\u001b[1m844/844\u001b[0m \u001b[32m━━━━━━━━━━━━━━━━━━━━\u001b[0m\u001b[37m\u001b[0m \u001b[1m3s\u001b[0m 4ms/step - accuracy: 0.9591 - loss: 0.9316 - val_accuracy: 0.9715 - val_loss: 0.7238\n",
            "Epoch 8/10\n",
            "\u001b[1m844/844\u001b[0m \u001b[32m━━━━━━━━━━━━━━━━━━━━\u001b[0m\u001b[37m\u001b[0m \u001b[1m5s\u001b[0m 3ms/step - accuracy: 0.9632 - loss: 0.7028 - val_accuracy: 0.9727 - val_loss: 0.5690\n",
            "Epoch 9/10\n",
            "\u001b[1m844/844\u001b[0m \u001b[32m━━━━━━━━━━━━━━━━━━━━\u001b[0m\u001b[37m\u001b[0m \u001b[1m5s\u001b[0m 3ms/step - accuracy: 0.9681 - loss: 0.5582 - val_accuracy: 0.9710 - val_loss: 0.4804\n",
            "Epoch 10/10\n",
            "\u001b[1m844/844\u001b[0m \u001b[32m━━━━━━━━━━━━━━━━━━━━\u001b[0m\u001b[37m\u001b[0m \u001b[1m3s\u001b[0m 4ms/step - accuracy: 0.9698 - loss: 0.4677 - val_accuracy: 0.9715 - val_loss: 0.4232\n",
            "\n",
            "Tempo de treinamento da rede: 0m28s\n",
            "Epoch 1/15\n",
            "\u001b[1m844/844\u001b[0m \u001b[32m━━━━━━━━━━━━━━━━━━━━\u001b[0m\u001b[37m\u001b[0m \u001b[1m3s\u001b[0m 3ms/step - accuracy: 0.7952 - loss: 9.9638 - val_accuracy: 0.9482 - val_loss: 7.5318\n",
            "Epoch 2/15\n",
            "\u001b[1m844/844\u001b[0m \u001b[32m━━━━━━━━━━━━━━━━━━━━\u001b[0m\u001b[37m\u001b[0m \u001b[1m3s\u001b[0m 3ms/step - accuracy: 0.9434 - loss: 6.9872 - val_accuracy: 0.9577 - val_loss: 5.3690\n",
            "Epoch 3/15\n",
            "\u001b[1m844/844\u001b[0m \u001b[32m━━━━━━━━━━━━━━━━━━━━\u001b[0m\u001b[37m\u001b[0m \u001b[1m3s\u001b[0m 3ms/step - accuracy: 0.9582 - loss: 4.9155 - val_accuracy: 0.9718 - val_loss: 3.6304\n",
            "Epoch 4/15\n",
            "\u001b[1m844/844\u001b[0m \u001b[32m━━━━━━━━━━━━━━━━━━━━\u001b[0m\u001b[37m\u001b[0m \u001b[1m3s\u001b[0m 4ms/step - accuracy: 0.9618 - loss: 3.3077 - val_accuracy: 0.9663 - val_loss: 2.3641\n",
            "Epoch 5/15\n",
            "\u001b[1m844/844\u001b[0m \u001b[32m━━━━━━━━━━━━━━━━━━━━\u001b[0m\u001b[37m\u001b[0m \u001b[1m3s\u001b[0m 3ms/step - accuracy: 0.9598 - loss: 2.1412 - val_accuracy: 0.9718 - val_loss: 1.4842\n",
            "Epoch 6/15\n",
            "\u001b[1m844/844\u001b[0m \u001b[32m━━━━━━━━━━━━━━━━━━━━\u001b[0m\u001b[37m\u001b[0m \u001b[1m5s\u001b[0m 3ms/step - accuracy: 0.9596 - loss: 1.3706 - val_accuracy: 0.9698 - val_loss: 0.9825\n",
            "Epoch 7/15\n",
            "\u001b[1m844/844\u001b[0m \u001b[32m━━━━━━━━━━━━━━━━━━━━\u001b[0m\u001b[37m\u001b[0m \u001b[1m3s\u001b[0m 3ms/step - accuracy: 0.9612 - loss: 0.9269 - val_accuracy: 0.9685 - val_loss: 0.7256\n",
            "Epoch 8/15\n",
            "\u001b[1m844/844\u001b[0m \u001b[32m━━━━━━━━━━━━━━━━━━━━\u001b[0m\u001b[37m\u001b[0m \u001b[1m4s\u001b[0m 4ms/step - accuracy: 0.9640 - loss: 0.6967 - val_accuracy: 0.9682 - val_loss: 0.5764\n",
            "Epoch 9/15\n",
            "\u001b[1m844/844\u001b[0m \u001b[32m━━━━━━━━━━━━━━━━━━━━\u001b[0m\u001b[37m\u001b[0m \u001b[1m4s\u001b[0m 3ms/step - accuracy: 0.9657 - loss: 0.5611 - val_accuracy: 0.9737 - val_loss: 0.4727\n",
            "Epoch 10/15\n",
            "\u001b[1m844/844\u001b[0m \u001b[32m━━━━━━━━━━━━━━━━━━━━\u001b[0m\u001b[37m\u001b[0m \u001b[1m3s\u001b[0m 3ms/step - accuracy: 0.9697 - loss: 0.4685 - val_accuracy: 0.9675 - val_loss: 0.4306\n",
            "Epoch 11/15\n",
            "\u001b[1m844/844\u001b[0m \u001b[32m━━━━━━━━━━━━━━━━━━━━\u001b[0m\u001b[37m\u001b[0m \u001b[1m6s\u001b[0m 4ms/step - accuracy: 0.9711 - loss: 0.4083 - val_accuracy: 0.9750 - val_loss: 0.3708\n",
            "Epoch 12/15\n",
            "\u001b[1m844/844\u001b[0m \u001b[32m━━━━━━━━━━━━━━━━━━━━\u001b[0m\u001b[37m\u001b[0m \u001b[1m3s\u001b[0m 3ms/step - accuracy: 0.9714 - loss: 0.3726 - val_accuracy: 0.9733 - val_loss: 0.3486\n",
            "Epoch 13/15\n",
            "\u001b[1m844/844\u001b[0m \u001b[32m━━━━━━━━━━━━━━━━━━━━\u001b[0m\u001b[37m\u001b[0m \u001b[1m5s\u001b[0m 3ms/step - accuracy: 0.9745 - loss: 0.3411 - val_accuracy: 0.9728 - val_loss: 0.3266\n",
            "Epoch 14/15\n",
            "\u001b[1m844/844\u001b[0m \u001b[32m━━━━━━━━━━━━━━━━━━━━\u001b[0m\u001b[37m\u001b[0m \u001b[1m6s\u001b[0m 4ms/step - accuracy: 0.9752 - loss: 0.3153 - val_accuracy: 0.9777 - val_loss: 0.2944\n",
            "Epoch 15/15\n",
            "\u001b[1m844/844\u001b[0m \u001b[32m━━━━━━━━━━━━━━━━━━━━\u001b[0m\u001b[37m\u001b[0m \u001b[1m4s\u001b[0m 3ms/step - accuracy: 0.9744 - loss: 0.3003 - val_accuracy: 0.9755 - val_loss: 0.2973\n",
            "\n",
            "Tempo de treinamento da rede: 0m42s\n",
            "Epoch 1/20\n",
            "\u001b[1m844/844\u001b[0m \u001b[32m━━━━━━━━━━━━━━━━━━━━\u001b[0m\u001b[37m\u001b[0m \u001b[1m3s\u001b[0m 3ms/step - accuracy: 0.7959 - loss: 9.9609 - val_accuracy: 0.9230 - val_loss: 7.6058\n",
            "Epoch 2/20\n",
            "\u001b[1m844/844\u001b[0m \u001b[32m━━━━━━━━━━━━━━━━━━━━\u001b[0m\u001b[37m\u001b[0m \u001b[1m6s\u001b[0m 4ms/step - accuracy: 0.9448 - loss: 6.9827 - val_accuracy: 0.9662 - val_loss: 5.3497\n",
            "Epoch 3/20\n",
            "\u001b[1m844/844\u001b[0m \u001b[32m━━━━━━━━━━━━━━━━━━━━\u001b[0m\u001b[37m\u001b[0m \u001b[1m3s\u001b[0m 3ms/step - accuracy: 0.9581 - loss: 4.9148 - val_accuracy: 0.9708 - val_loss: 3.6300\n",
            "Epoch 4/20\n",
            "\u001b[1m844/844\u001b[0m \u001b[32m━━━━━━━━━━━━━━━━━━━━\u001b[0m\u001b[37m\u001b[0m \u001b[1m3s\u001b[0m 3ms/step - accuracy: 0.9623 - loss: 3.3068 - val_accuracy: 0.9700 - val_loss: 2.3514\n",
            "Epoch 5/20\n",
            "\u001b[1m844/844\u001b[0m \u001b[32m━━━━━━━━━━━━━━━━━━━━\u001b[0m\u001b[37m\u001b[0m \u001b[1m3s\u001b[0m 3ms/step - accuracy: 0.9593 - loss: 2.1388 - val_accuracy: 0.9680 - val_loss: 1.4911\n",
            "Epoch 6/20\n",
            "\u001b[1m844/844\u001b[0m \u001b[32m━━━━━━━━━━━━━━━━━━━━\u001b[0m\u001b[37m\u001b[0m \u001b[1m3s\u001b[0m 3ms/step - accuracy: 0.9593 - loss: 1.3715 - val_accuracy: 0.9710 - val_loss: 0.9766\n",
            "Epoch 7/20\n",
            "\u001b[1m844/844\u001b[0m \u001b[32m━━━━━━━━━━━━━━━━━━━━\u001b[0m\u001b[37m\u001b[0m \u001b[1m3s\u001b[0m 4ms/step - accuracy: 0.9620 - loss: 0.9230 - val_accuracy: 0.9710 - val_loss: 0.7169\n",
            "Epoch 8/20\n",
            "\u001b[1m844/844\u001b[0m \u001b[32m━━━━━━━━━━━━━━━━━━━━\u001b[0m\u001b[37m\u001b[0m \u001b[1m3s\u001b[0m 3ms/step - accuracy: 0.9627 - loss: 0.6998 - val_accuracy: 0.9763 - val_loss: 0.5573\n",
            "Epoch 9/20\n",
            "\u001b[1m844/844\u001b[0m \u001b[32m━━━━━━━━━━━━━━━━━━━━\u001b[0m\u001b[37m\u001b[0m \u001b[1m3s\u001b[0m 3ms/step - accuracy: 0.9667 - loss: 0.5561 - val_accuracy: 0.9682 - val_loss: 0.4860\n",
            "Epoch 10/20\n",
            "\u001b[1m844/844\u001b[0m \u001b[32m━━━━━━━━━━━━━━━━━━━━\u001b[0m\u001b[37m\u001b[0m \u001b[1m5s\u001b[0m 3ms/step - accuracy: 0.9695 - loss: 0.4700 - val_accuracy: 0.9717 - val_loss: 0.4171\n",
            "Epoch 11/20\n",
            "\u001b[1m844/844\u001b[0m \u001b[32m━━━━━━━━━━━━━━━━━━━━\u001b[0m\u001b[37m\u001b[0m \u001b[1m3s\u001b[0m 4ms/step - accuracy: 0.9701 - loss: 0.4104 - val_accuracy: 0.9737 - val_loss: 0.3748\n",
            "Epoch 12/20\n",
            "\u001b[1m844/844\u001b[0m \u001b[32m━━━━━━━━━━━━━━━━━━━━\u001b[0m\u001b[37m\u001b[0m \u001b[1m3s\u001b[0m 3ms/step - accuracy: 0.9707 - loss: 0.3749 - val_accuracy: 0.9748 - val_loss: 0.3365\n",
            "Epoch 13/20\n",
            "\u001b[1m844/844\u001b[0m \u001b[32m━━━━━━━━━━━━━━━━━━━━\u001b[0m\u001b[37m\u001b[0m \u001b[1m3s\u001b[0m 3ms/step - accuracy: 0.9723 - loss: 0.3388 - val_accuracy: 0.9705 - val_loss: 0.3353\n",
            "Epoch 14/20\n",
            "\u001b[1m844/844\u001b[0m \u001b[32m━━━━━━━━━━━━━━━━━━━━\u001b[0m\u001b[37m\u001b[0m \u001b[1m3s\u001b[0m 3ms/step - accuracy: 0.9746 - loss: 0.3187 - val_accuracy: 0.9705 - val_loss: 0.3234\n",
            "Epoch 15/20\n",
            "\u001b[1m844/844\u001b[0m \u001b[32m━━━━━━━━━━━━━━━━━━━━\u001b[0m\u001b[37m\u001b[0m \u001b[1m3s\u001b[0m 3ms/step - accuracy: 0.9744 - loss: 0.3029 - val_accuracy: 0.9723 - val_loss: 0.3065\n",
            "Epoch 16/20\n",
            "\u001b[1m844/844\u001b[0m \u001b[32m━━━━━━━━━━━━━━━━━━━━\u001b[0m\u001b[37m\u001b[0m \u001b[1m3s\u001b[0m 4ms/step - accuracy: 0.9765 - loss: 0.2848 - val_accuracy: 0.9770 - val_loss: 0.2780\n",
            "Epoch 17/20\n",
            "\u001b[1m844/844\u001b[0m \u001b[32m━━━━━━━━━━━━━━━━━━━━\u001b[0m\u001b[37m\u001b[0m \u001b[1m3s\u001b[0m 3ms/step - accuracy: 0.9758 - loss: 0.2760 - val_accuracy: 0.9700 - val_loss: 0.2858\n",
            "Epoch 18/20\n",
            "\u001b[1m844/844\u001b[0m \u001b[32m━━━━━━━━━━━━━━━━━━━━\u001b[0m\u001b[37m\u001b[0m \u001b[1m3s\u001b[0m 3ms/step - accuracy: 0.9779 - loss: 0.2646 - val_accuracy: 0.9733 - val_loss: 0.2674\n",
            "Epoch 19/20\n",
            "\u001b[1m844/844\u001b[0m \u001b[32m━━━━━━━━━━━━━━━━━━━━\u001b[0m\u001b[37m\u001b[0m \u001b[1m6s\u001b[0m 4ms/step - accuracy: 0.9768 - loss: 0.2559 - val_accuracy: 0.9755 - val_loss: 0.2608\n",
            "Epoch 20/20\n",
            "\u001b[1m844/844\u001b[0m \u001b[32m━━━━━━━━━━━━━━━━━━━━\u001b[0m\u001b[37m\u001b[0m \u001b[1m3s\u001b[0m 3ms/step - accuracy: 0.9787 - loss: 0.2481 - val_accuracy: 0.9810 - val_loss: 0.2415\n",
            "\n",
            "Tempo de treinamento da rede: 0m56s\n",
            "Epoch 1/10\n",
            "\u001b[1m422/422\u001b[0m \u001b[32m━━━━━━━━━━━━━━━━━━━━\u001b[0m\u001b[37m\u001b[0m \u001b[1m4s\u001b[0m 8ms/step - accuracy: 0.7460 - loss: 10.5136 - val_accuracy: 0.9347 - val_loss: 8.8005\n",
            "Epoch 2/10\n",
            "\u001b[1m422/422\u001b[0m \u001b[32m━━━━━━━━━━━━━━━━━━━━\u001b[0m\u001b[37m\u001b[0m \u001b[1m3s\u001b[0m 4ms/step - accuracy: 0.9297 - loss: 8.5131 - val_accuracy: 0.9513 - val_loss: 7.5261\n",
            "Epoch 3/10\n",
            "\u001b[1m422/422\u001b[0m \u001b[32m━━━━━━━━━━━━━━━━━━━━\u001b[0m\u001b[37m\u001b[0m \u001b[1m2s\u001b[0m 4ms/step - accuracy: 0.9484 - loss: 7.2478 - val_accuracy: 0.9652 - val_loss: 6.3646\n",
            "Epoch 4/10\n",
            "\u001b[1m422/422\u001b[0m \u001b[32m━━━━━━━━━━━━━━━━━━━━\u001b[0m\u001b[37m\u001b[0m \u001b[1m1s\u001b[0m 3ms/step - accuracy: 0.9555 - loss: 6.1248 - val_accuracy: 0.9623 - val_loss: 5.3529\n",
            "Epoch 5/10\n",
            "\u001b[1m422/422\u001b[0m \u001b[32m━━━━━━━━━━━━━━━━━━━━\u001b[0m\u001b[37m\u001b[0m \u001b[1m1s\u001b[0m 3ms/step - accuracy: 0.9583 - loss: 5.1278 - val_accuracy: 0.9678 - val_loss: 4.4314\n",
            "Epoch 6/10\n",
            "\u001b[1m422/422\u001b[0m \u001b[32m━━━━━━━━━━━━━━━━━━━━\u001b[0m\u001b[37m\u001b[0m \u001b[1m1s\u001b[0m 3ms/step - accuracy: 0.9616 - loss: 4.2372 - val_accuracy: 0.9693 - val_loss: 3.6257\n",
            "Epoch 7/10\n",
            "\u001b[1m422/422\u001b[0m \u001b[32m━━━━━━━━━━━━━━━━━━━━\u001b[0m\u001b[37m\u001b[0m \u001b[1m3s\u001b[0m 3ms/step - accuracy: 0.9647 - loss: 3.4583 - val_accuracy: 0.9655 - val_loss: 2.9500\n",
            "Epoch 8/10\n",
            "\u001b[1m422/422\u001b[0m \u001b[32m━━━━━━━━━━━━━━━━━━━━\u001b[0m\u001b[37m\u001b[0m \u001b[1m3s\u001b[0m 4ms/step - accuracy: 0.9650 - loss: 2.7938 - val_accuracy: 0.9715 - val_loss: 2.3435\n",
            "Epoch 9/10\n",
            "\u001b[1m422/422\u001b[0m \u001b[32m━━━━━━━━━━━━━━━━━━━━\u001b[0m\u001b[37m\u001b[0m \u001b[1m2s\u001b[0m 5ms/step - accuracy: 0.9649 - loss: 2.2366 - val_accuracy: 0.9710 - val_loss: 1.8681\n",
            "Epoch 10/10\n",
            "\u001b[1m422/422\u001b[0m \u001b[32m━━━━━━━━━━━━━━━━━━━━\u001b[0m\u001b[37m\u001b[0m \u001b[1m2s\u001b[0m 3ms/step - accuracy: 0.9649 - loss: 1.7766 - val_accuracy: 0.9665 - val_loss: 1.4905\n",
            "\n",
            "Tempo de treinamento da rede: 0m18s\n",
            "Epoch 1/15\n",
            "\u001b[1m422/422\u001b[0m \u001b[32m━━━━━━━━━━━━━━━━━━━━\u001b[0m\u001b[37m\u001b[0m \u001b[1m1s\u001b[0m 3ms/step - accuracy: 0.7398 - loss: 10.5158 - val_accuracy: 0.9453 - val_loss: 8.7797\n",
            "Epoch 2/15\n",
            "\u001b[1m422/422\u001b[0m \u001b[32m━━━━━━━━━━━━━━━━━━━━\u001b[0m\u001b[37m\u001b[0m \u001b[1m3s\u001b[0m 4ms/step - accuracy: 0.9323 - loss: 8.5034 - val_accuracy: 0.9600 - val_loss: 7.5038\n",
            "Epoch 3/15\n",
            "\u001b[1m422/422\u001b[0m \u001b[32m━━━━━━━━━━━━━━━━━━━━\u001b[0m\u001b[37m\u001b[0m \u001b[1m2s\u001b[0m 3ms/step - accuracy: 0.9476 - loss: 7.2477 - val_accuracy: 0.9533 - val_loss: 6.3963\n",
            "Epoch 4/15\n",
            "\u001b[1m422/422\u001b[0m \u001b[32m━━━━━━━━━━━━━━━━━━━━\u001b[0m\u001b[37m\u001b[0m \u001b[1m3s\u001b[0m 5ms/step - accuracy: 0.9542 - loss: 6.1299 - val_accuracy: 0.9697 - val_loss: 5.3326\n",
            "Epoch 5/15\n",
            "\u001b[1m422/422\u001b[0m \u001b[32m━━━━━━━━━━━━━━━━━━━━\u001b[0m\u001b[37m\u001b[0m \u001b[1m2s\u001b[0m 3ms/step - accuracy: 0.9603 - loss: 5.1208 - val_accuracy: 0.9707 - val_loss: 4.4263\n",
            "Epoch 6/15\n",
            "\u001b[1m422/422\u001b[0m \u001b[32m━━━━━━━━━━━━━━━━━━━━\u001b[0m\u001b[37m\u001b[0m \u001b[1m3s\u001b[0m 3ms/step - accuracy: 0.9638 - loss: 4.2336 - val_accuracy: 0.9710 - val_loss: 3.6259\n",
            "Epoch 7/15\n",
            "\u001b[1m422/422\u001b[0m \u001b[32m━━━━━━━━━━━━━━━━━━━━\u001b[0m\u001b[37m\u001b[0m \u001b[1m1s\u001b[0m 3ms/step - accuracy: 0.9648 - loss: 3.4579 - val_accuracy: 0.9713 - val_loss: 2.9253\n",
            "Epoch 8/15\n",
            "\u001b[1m422/422\u001b[0m \u001b[32m━━━━━━━━━━━━━━━━━━━━\u001b[0m\u001b[37m\u001b[0m \u001b[1m3s\u001b[0m 3ms/step - accuracy: 0.9653 - loss: 2.7887 - val_accuracy: 0.9660 - val_loss: 2.3568\n",
            "Epoch 9/15\n",
            "\u001b[1m422/422\u001b[0m \u001b[32m━━━━━━━━━━━━━━━━━━━━\u001b[0m\u001b[37m\u001b[0m \u001b[1m3s\u001b[0m 5ms/step - accuracy: 0.9651 - loss: 2.2322 - val_accuracy: 0.9733 - val_loss: 1.8610\n",
            "Epoch 10/15\n",
            "\u001b[1m422/422\u001b[0m \u001b[32m━━━━━━━━━━━━━━━━━━━━\u001b[0m\u001b[37m\u001b[0m \u001b[1m2s\u001b[0m 4ms/step - accuracy: 0.9662 - loss: 1.7749 - val_accuracy: 0.9623 - val_loss: 1.4946\n",
            "Epoch 11/15\n",
            "\u001b[1m422/422\u001b[0m \u001b[32m━━━━━━━━━━━━━━━━━━━━\u001b[0m\u001b[37m\u001b[0m \u001b[1m2s\u001b[0m 3ms/step - accuracy: 0.9649 - loss: 1.4166 - val_accuracy: 0.9742 - val_loss: 1.1768\n",
            "Epoch 12/15\n",
            "\u001b[1m422/422\u001b[0m \u001b[32m━━━━━━━━━━━━━━━━━━━━\u001b[0m\u001b[37m\u001b[0m \u001b[1m1s\u001b[0m 3ms/step - accuracy: 0.9650 - loss: 1.1489 - val_accuracy: 0.9743 - val_loss: 0.9542\n",
            "Epoch 13/15\n",
            "\u001b[1m422/422\u001b[0m \u001b[32m━━━━━━━━━━━━━━━━━━━━\u001b[0m\u001b[37m\u001b[0m \u001b[1m3s\u001b[0m 3ms/step - accuracy: 0.9646 - loss: 0.9388 - val_accuracy: 0.9698 - val_loss: 0.8143\n",
            "Epoch 14/15\n",
            "\u001b[1m422/422\u001b[0m \u001b[32m━━━━━━━━━━━━━━━━━━━━\u001b[0m\u001b[37m\u001b[0m \u001b[1m1s\u001b[0m 3ms/step - accuracy: 0.9666 - loss: 0.7991 - val_accuracy: 0.9712 - val_loss: 0.7106\n",
            "Epoch 15/15\n",
            "\u001b[1m422/422\u001b[0m \u001b[32m━━━━━━━━━━━━━━━━━━━━\u001b[0m\u001b[37m\u001b[0m \u001b[1m1s\u001b[0m 3ms/step - accuracy: 0.9681 - loss: 0.6950 - val_accuracy: 0.9695 - val_loss: 0.6361\n",
            "\n",
            "Tempo de treinamento da rede: 0m22s\n",
            "Epoch 1/20\n",
            "\u001b[1m422/422\u001b[0m \u001b[32m━━━━━━━━━━━━━━━━━━━━\u001b[0m\u001b[37m\u001b[0m \u001b[1m2s\u001b[0m 5ms/step - accuracy: 0.7433 - loss: 10.5134 - val_accuracy: 0.9310 - val_loss: 8.8206\n",
            "Epoch 2/20\n",
            "\u001b[1m422/422\u001b[0m \u001b[32m━━━━━━━━━━━━━━━━━━━━\u001b[0m\u001b[37m\u001b[0m \u001b[1m1s\u001b[0m 3ms/step - accuracy: 0.9329 - loss: 8.5036 - val_accuracy: 0.9517 - val_loss: 7.5196\n",
            "Epoch 3/20\n",
            "\u001b[1m422/422\u001b[0m \u001b[32m━━━━━━━━━━━━━━━━━━━━\u001b[0m\u001b[37m\u001b[0m \u001b[1m1s\u001b[0m 3ms/step - accuracy: 0.9459 - loss: 7.2522 - val_accuracy: 0.9637 - val_loss: 6.3601\n",
            "Epoch 4/20\n",
            "\u001b[1m422/422\u001b[0m \u001b[32m━━━━━━━━━━━━━━━━━━━━\u001b[0m\u001b[37m\u001b[0m \u001b[1m1s\u001b[0m 3ms/step - accuracy: 0.9558 - loss: 6.1246 - val_accuracy: 0.9687 - val_loss: 5.3381\n",
            "Epoch 5/20\n",
            "\u001b[1m422/422\u001b[0m \u001b[32m━━━━━━━━━━━━━━━━━━━━\u001b[0m\u001b[37m\u001b[0m \u001b[1m1s\u001b[0m 3ms/step - accuracy: 0.9602 - loss: 5.1236 - val_accuracy: 0.9703 - val_loss: 4.4317\n",
            "Epoch 6/20\n",
            "\u001b[1m422/422\u001b[0m \u001b[32m━━━━━━━━━━━━━━━━━━━━\u001b[0m\u001b[37m\u001b[0m \u001b[1m3s\u001b[0m 3ms/step - accuracy: 0.9637 - loss: 4.2334 - val_accuracy: 0.9643 - val_loss: 3.6391\n",
            "Epoch 7/20\n",
            "\u001b[1m422/422\u001b[0m \u001b[32m━━━━━━━━━━━━━━━━━━━━\u001b[0m\u001b[37m\u001b[0m \u001b[1m1s\u001b[0m 3ms/step - accuracy: 0.9640 - loss: 3.4612 - val_accuracy: 0.9602 - val_loss: 2.9705\n",
            "Epoch 8/20\n",
            "\u001b[1m422/422\u001b[0m \u001b[32m━━━━━━━━━━━━━━━━━━━━\u001b[0m\u001b[37m\u001b[0m \u001b[1m3s\u001b[0m 4ms/step - accuracy: 0.9659 - loss: 2.7899 - val_accuracy: 0.9750 - val_loss: 2.3312\n",
            "Epoch 9/20\n",
            "\u001b[1m422/422\u001b[0m \u001b[32m━━━━━━━━━━━━━━━━━━━━\u001b[0m\u001b[37m\u001b[0m \u001b[1m2s\u001b[0m 3ms/step - accuracy: 0.9639 - loss: 2.2355 - val_accuracy: 0.9717 - val_loss: 1.8740\n",
            "Epoch 10/20\n",
            "\u001b[1m422/422\u001b[0m \u001b[32m━━━━━━━━━━━━━━━━━━━━\u001b[0m\u001b[37m\u001b[0m \u001b[1m1s\u001b[0m 3ms/step - accuracy: 0.9653 - loss: 1.7738 - val_accuracy: 0.9760 - val_loss: 1.4666\n",
            "Epoch 11/20\n",
            "\u001b[1m422/422\u001b[0m \u001b[32m━━━━━━━━━━━━━━━━━━━━\u001b[0m\u001b[37m\u001b[0m \u001b[1m3s\u001b[0m 3ms/step - accuracy: 0.9627 - loss: 1.4194 - val_accuracy: 0.9713 - val_loss: 1.1778\n",
            "Epoch 12/20\n",
            "\u001b[1m422/422\u001b[0m \u001b[32m━━━━━━━━━━━━━━━━━━━━\u001b[0m\u001b[37m\u001b[0m \u001b[1m3s\u001b[0m 3ms/step - accuracy: 0.9625 - loss: 1.1500 - val_accuracy: 0.9442 - val_loss: 1.0377\n",
            "Epoch 13/20\n",
            "\u001b[1m422/422\u001b[0m \u001b[32m━━━━━━━━━━━━━━━━━━━━\u001b[0m\u001b[37m\u001b[0m \u001b[1m3s\u001b[0m 5ms/step - accuracy: 0.9649 - loss: 0.9406 - val_accuracy: 0.9707 - val_loss: 0.8127\n",
            "Epoch 14/20\n",
            "\u001b[1m422/422\u001b[0m \u001b[32m━━━━━━━━━━━━━━━━━━━━\u001b[0m\u001b[37m\u001b[0m \u001b[1m2s\u001b[0m 4ms/step - accuracy: 0.9644 - loss: 0.8086 - val_accuracy: 0.9745 - val_loss: 0.6989\n",
            "Epoch 15/20\n",
            "\u001b[1m422/422\u001b[0m \u001b[32m━━━━━━━━━━━━━━━━━━━━\u001b[0m\u001b[37m\u001b[0m \u001b[1m3s\u001b[0m 3ms/step - accuracy: 0.9679 - loss: 0.6952 - val_accuracy: 0.9762 - val_loss: 0.6206\n",
            "Epoch 16/20\n",
            "\u001b[1m422/422\u001b[0m \u001b[32m━━━━━━━━━━━━━━━━━━━━\u001b[0m\u001b[37m\u001b[0m \u001b[1m3s\u001b[0m 3ms/step - accuracy: 0.9697 - loss: 0.6126 - val_accuracy: 0.9728 - val_loss: 0.5597\n",
            "Epoch 17/20\n",
            "\u001b[1m422/422\u001b[0m \u001b[32m━━━━━━━━━━━━━━━━━━━━\u001b[0m\u001b[37m\u001b[0m \u001b[1m2s\u001b[0m 3ms/step - accuracy: 0.9719 - loss: 0.5504 - val_accuracy: 0.9752 - val_loss: 0.5105\n",
            "Epoch 18/20\n",
            "\u001b[1m422/422\u001b[0m \u001b[32m━━━━━━━━━━━━━━━━━━━━\u001b[0m\u001b[37m\u001b[0m \u001b[1m3s\u001b[0m 5ms/step - accuracy: 0.9730 - loss: 0.4974 - val_accuracy: 0.9780 - val_loss: 0.4502\n",
            "Epoch 19/20\n",
            "\u001b[1m422/422\u001b[0m \u001b[32m━━━━━━━━━━━━━━━━━━━━\u001b[0m\u001b[37m\u001b[0m \u001b[1m2s\u001b[0m 4ms/step - accuracy: 0.9737 - loss: 0.4568 - val_accuracy: 0.9770 - val_loss: 0.4210\n",
            "Epoch 20/20\n",
            "\u001b[1m422/422\u001b[0m \u001b[32m━━━━━━━━━━━━━━━━━━━━\u001b[0m\u001b[37m\u001b[0m \u001b[1m1s\u001b[0m 3ms/step - accuracy: 0.9749 - loss: 0.4227 - val_accuracy: 0.9755 - val_loss: 0.3929\n",
            "\n",
            "Tempo de treinamento da rede: 0m30s\n",
            "Epoch 1/10\n",
            "\u001b[1m1688/1688\u001b[0m \u001b[32m━━━━━━━━━━━━━━━━━━━━\u001b[0m\u001b[37m\u001b[0m \u001b[1m11s\u001b[0m 5ms/step - accuracy: 0.7024 - loss: 0.9090 - val_accuracy: 0.9560 - val_loss: 0.1472\n",
            "Epoch 2/10\n",
            "\u001b[1m1688/1688\u001b[0m \u001b[32m━━━━━━━━━━━━━━━━━━━━\u001b[0m\u001b[37m\u001b[0m \u001b[1m6s\u001b[0m 4ms/step - accuracy: 0.9307 - loss: 0.2446 - val_accuracy: 0.9752 - val_loss: 0.0836\n",
            "Epoch 3/10\n",
            "\u001b[1m1688/1688\u001b[0m \u001b[32m━━━━━━━━━━━━━━━━━━━━\u001b[0m\u001b[37m\u001b[0m \u001b[1m10s\u001b[0m 3ms/step - accuracy: 0.9510 - loss: 0.1712 - val_accuracy: 0.9787 - val_loss: 0.0761\n",
            "Epoch 4/10\n",
            "\u001b[1m1688/1688\u001b[0m \u001b[32m━━━━━━━━━━━━━━━━━━━━\u001b[0m\u001b[37m\u001b[0m \u001b[1m11s\u001b[0m 3ms/step - accuracy: 0.9612 - loss: 0.1384 - val_accuracy: 0.9790 - val_loss: 0.0723\n",
            "Epoch 5/10\n",
            "\u001b[1m1688/1688\u001b[0m \u001b[32m━━━━━━━━━━━━━━━━━━━━\u001b[0m\u001b[37m\u001b[0m \u001b[1m9s\u001b[0m 3ms/step - accuracy: 0.9676 - loss: 0.1147 - val_accuracy: 0.9803 - val_loss: 0.0652\n",
            "Epoch 6/10\n",
            "\u001b[1m1688/1688\u001b[0m \u001b[32m━━━━━━━━━━━━━━━━━━━━\u001b[0m\u001b[37m\u001b[0m \u001b[1m10s\u001b[0m 3ms/step - accuracy: 0.9710 - loss: 0.1004 - val_accuracy: 0.9813 - val_loss: 0.0675\n",
            "Epoch 7/10\n",
            "\u001b[1m1688/1688\u001b[0m \u001b[32m━━━━━━━━━━━━━━━━━━━━\u001b[0m\u001b[37m\u001b[0m \u001b[1m6s\u001b[0m 4ms/step - accuracy: 0.9761 - loss: 0.0871 - val_accuracy: 0.9810 - val_loss: 0.0641\n",
            "Epoch 8/10\n",
            "\u001b[1m1688/1688\u001b[0m \u001b[32m━━━━━━━━━━━━━━━━━━━━\u001b[0m\u001b[37m\u001b[0m \u001b[1m9s\u001b[0m 3ms/step - accuracy: 0.9781 - loss: 0.0766 - val_accuracy: 0.9828 - val_loss: 0.0612\n",
            "Epoch 9/10\n",
            "\u001b[1m1688/1688\u001b[0m \u001b[32m━━━━━━━━━━━━━━━━━━━━\u001b[0m\u001b[37m\u001b[0m \u001b[1m6s\u001b[0m 3ms/step - accuracy: 0.9808 - loss: 0.0678 - val_accuracy: 0.9820 - val_loss: 0.0659\n",
            "Epoch 10/10\n",
            "\u001b[1m1688/1688\u001b[0m \u001b[32m━━━━━━━━━━━━━━━━━━━━\u001b[0m\u001b[37m\u001b[0m \u001b[1m10s\u001b[0m 3ms/step - accuracy: 0.9816 - loss: 0.0637 - val_accuracy: 0.9848 - val_loss: 0.0562\n",
            "\n",
            "Tempo de treinamento da rede: 1m 2s\n",
            "Epoch 1/15\n",
            "\u001b[1m1688/1688\u001b[0m \u001b[32m━━━━━━━━━━━━━━━━━━━━\u001b[0m\u001b[37m\u001b[0m \u001b[1m5s\u001b[0m 3ms/step - accuracy: 0.6956 - loss: 0.9152 - val_accuracy: 0.9560 - val_loss: 0.1513\n",
            "Epoch 2/15\n",
            "\u001b[1m1688/1688\u001b[0m \u001b[32m━━━━━━━━━━━━━━━━━━━━\u001b[0m\u001b[37m\u001b[0m \u001b[1m6s\u001b[0m 3ms/step - accuracy: 0.9313 - loss: 0.2344 - val_accuracy: 0.9732 - val_loss: 0.0931\n",
            "Epoch 3/15\n",
            "\u001b[1m1688/1688\u001b[0m \u001b[32m━━━━━━━━━━━━━━━━━━━━\u001b[0m\u001b[37m\u001b[0m \u001b[1m5s\u001b[0m 3ms/step - accuracy: 0.9537 - loss: 0.1624 - val_accuracy: 0.9720 - val_loss: 0.0889\n",
            "Epoch 4/15\n",
            "\u001b[1m1688/1688\u001b[0m \u001b[32m━━━━━━━━━━━━━━━━━━━━\u001b[0m\u001b[37m\u001b[0m \u001b[1m6s\u001b[0m 3ms/step - accuracy: 0.9629 - loss: 0.1299 - val_accuracy: 0.9778 - val_loss: 0.0741\n",
            "Epoch 5/15\n",
            "\u001b[1m1688/1688\u001b[0m \u001b[32m━━━━━━━━━━━━━━━━━━━━\u001b[0m\u001b[37m\u001b[0m \u001b[1m10s\u001b[0m 3ms/step - accuracy: 0.9694 - loss: 0.1127 - val_accuracy: 0.9788 - val_loss: 0.0692\n",
            "Epoch 6/15\n",
            "\u001b[1m1688/1688\u001b[0m \u001b[32m━━━━━━━━━━━━━━━━━━━━\u001b[0m\u001b[37m\u001b[0m \u001b[1m6s\u001b[0m 4ms/step - accuracy: 0.9727 - loss: 0.0976 - val_accuracy: 0.9810 - val_loss: 0.0665\n",
            "Epoch 7/15\n",
            "\u001b[1m1688/1688\u001b[0m \u001b[32m━━━━━━━━━━━━━━━━━━━━\u001b[0m\u001b[37m\u001b[0m \u001b[1m5s\u001b[0m 3ms/step - accuracy: 0.9756 - loss: 0.0858 - val_accuracy: 0.9810 - val_loss: 0.0670\n",
            "Epoch 8/15\n",
            "\u001b[1m1688/1688\u001b[0m \u001b[32m━━━━━━━━━━━━━━━━━━━━\u001b[0m\u001b[37m\u001b[0m \u001b[1m6s\u001b[0m 3ms/step - accuracy: 0.9777 - loss: 0.0813 - val_accuracy: 0.9840 - val_loss: 0.0588\n",
            "Epoch 9/15\n",
            "\u001b[1m1688/1688\u001b[0m \u001b[32m━━━━━━━━━━━━━━━━━━━━\u001b[0m\u001b[37m\u001b[0m \u001b[1m5s\u001b[0m 3ms/step - accuracy: 0.9815 - loss: 0.0731 - val_accuracy: 0.9830 - val_loss: 0.0589\n",
            "Epoch 10/15\n",
            "\u001b[1m1688/1688\u001b[0m \u001b[32m━━━━━━━━━━━━━━━━━━━━\u001b[0m\u001b[37m\u001b[0m \u001b[1m11s\u001b[0m 4ms/step - accuracy: 0.9818 - loss: 0.0618 - val_accuracy: 0.9792 - val_loss: 0.0723\n",
            "Epoch 11/15\n",
            "\u001b[1m1688/1688\u001b[0m \u001b[32m━━━━━━━━━━━━━━━━━━━━\u001b[0m\u001b[37m\u001b[0m \u001b[1m5s\u001b[0m 3ms/step - accuracy: 0.9831 - loss: 0.0601 - val_accuracy: 0.9813 - val_loss: 0.0675\n",
            "Epoch 12/15\n",
            "\u001b[1m1688/1688\u001b[0m \u001b[32m━━━━━━━━━━━━━━━━━━━━\u001b[0m\u001b[37m\u001b[0m \u001b[1m6s\u001b[0m 4ms/step - accuracy: 0.9841 - loss: 0.0567 - val_accuracy: 0.9823 - val_loss: 0.0651\n",
            "Epoch 13/15\n",
            "\u001b[1m1688/1688\u001b[0m \u001b[32m━━━━━━━━━━━━━━━━━━━━\u001b[0m\u001b[37m\u001b[0m \u001b[1m9s\u001b[0m 3ms/step - accuracy: 0.9860 - loss: 0.0506 - val_accuracy: 0.9828 - val_loss: 0.0656\n",
            "Epoch 14/15\n",
            "\u001b[1m1688/1688\u001b[0m \u001b[32m━━━━━━━━━━━━━━━━━━━━\u001b[0m\u001b[37m\u001b[0m \u001b[1m6s\u001b[0m 4ms/step - accuracy: 0.9864 - loss: 0.0480 - val_accuracy: 0.9835 - val_loss: 0.0658\n",
            "Epoch 15/15\n",
            "\u001b[1m1688/1688\u001b[0m \u001b[32m━━━━━━━━━━━━━━━━━━━━\u001b[0m\u001b[37m\u001b[0m \u001b[1m10s\u001b[0m 3ms/step - accuracy: 0.9875 - loss: 0.0430 - val_accuracy: 0.9835 - val_loss: 0.0693\n",
            "\n",
            "Tempo de treinamento da rede: 1m24s\n",
            "Epoch 1/20\n",
            "\u001b[1m1688/1688\u001b[0m \u001b[32m━━━━━━━━━━━━━━━━━━━━\u001b[0m\u001b[37m\u001b[0m \u001b[1m5s\u001b[0m 3ms/step - accuracy: 0.6915 - loss: 0.9289 - val_accuracy: 0.9632 - val_loss: 0.1263\n",
            "Epoch 2/20\n",
            "\u001b[1m1688/1688\u001b[0m \u001b[32m━━━━━━━━━━━━━━━━━━━━\u001b[0m\u001b[37m\u001b[0m \u001b[1m5s\u001b[0m 3ms/step - accuracy: 0.9325 - loss: 0.2388 - val_accuracy: 0.9657 - val_loss: 0.1151\n",
            "Epoch 3/20\n",
            "\u001b[1m1688/1688\u001b[0m \u001b[32m━━━━━━━━━━━━━━━━━━━━\u001b[0m\u001b[37m\u001b[0m \u001b[1m6s\u001b[0m 3ms/step - accuracy: 0.9511 - loss: 0.1751 - val_accuracy: 0.9715 - val_loss: 0.0873\n",
            "Epoch 4/20\n",
            "\u001b[1m1688/1688\u001b[0m \u001b[32m━━━━━━━━━━━━━━━━━━━━\u001b[0m\u001b[37m\u001b[0m \u001b[1m5s\u001b[0m 3ms/step - accuracy: 0.9630 - loss: 0.1354 - val_accuracy: 0.9760 - val_loss: 0.0774\n",
            "Epoch 5/20\n",
            "\u001b[1m1688/1688\u001b[0m \u001b[32m━━━━━━━━━━━━━━━━━━━━\u001b[0m\u001b[37m\u001b[0m \u001b[1m6s\u001b[0m 3ms/step - accuracy: 0.9688 - loss: 0.1159 - val_accuracy: 0.9800 - val_loss: 0.0690\n",
            "Epoch 6/20\n",
            "\u001b[1m1688/1688\u001b[0m \u001b[32m━━━━━━━━━━━━━━━━━━━━\u001b[0m\u001b[37m\u001b[0m \u001b[1m5s\u001b[0m 3ms/step - accuracy: 0.9733 - loss: 0.0952 - val_accuracy: 0.9813 - val_loss: 0.0634\n",
            "Epoch 7/20\n",
            "\u001b[1m1688/1688\u001b[0m \u001b[32m━━━━━━━━━━━━━━━━━━━━\u001b[0m\u001b[37m\u001b[0m \u001b[1m5s\u001b[0m 3ms/step - accuracy: 0.9743 - loss: 0.0900 - val_accuracy: 0.9822 - val_loss: 0.0644\n",
            "Epoch 8/20\n",
            "\u001b[1m1688/1688\u001b[0m \u001b[32m━━━━━━━━━━━━━━━━━━━━\u001b[0m\u001b[37m\u001b[0m \u001b[1m6s\u001b[0m 4ms/step - accuracy: 0.9776 - loss: 0.0765 - val_accuracy: 0.9790 - val_loss: 0.0696\n",
            "Epoch 9/20\n",
            "\u001b[1m1688/1688\u001b[0m \u001b[32m━━━━━━━━━━━━━━━━━━━━\u001b[0m\u001b[37m\u001b[0m \u001b[1m5s\u001b[0m 3ms/step - accuracy: 0.9782 - loss: 0.0751 - val_accuracy: 0.9818 - val_loss: 0.0689\n",
            "Epoch 10/20\n",
            "\u001b[1m1688/1688\u001b[0m \u001b[32m━━━━━━━━━━━━━━━━━━━━\u001b[0m\u001b[37m\u001b[0m \u001b[1m6s\u001b[0m 3ms/step - accuracy: 0.9814 - loss: 0.0650 - val_accuracy: 0.9817 - val_loss: 0.0675\n",
            "Epoch 11/20\n",
            "\u001b[1m1688/1688\u001b[0m \u001b[32m━━━━━━━━━━━━━━━━━━━━\u001b[0m\u001b[37m\u001b[0m \u001b[1m5s\u001b[0m 3ms/step - accuracy: 0.9820 - loss: 0.0622 - val_accuracy: 0.9848 - val_loss: 0.0554\n",
            "Epoch 12/20\n",
            "\u001b[1m1688/1688\u001b[0m \u001b[32m━━━━━━━━━━━━━━━━━━━━\u001b[0m\u001b[37m\u001b[0m \u001b[1m5s\u001b[0m 3ms/step - accuracy: 0.9854 - loss: 0.0521 - val_accuracy: 0.9837 - val_loss: 0.0627\n",
            "Epoch 13/20\n",
            "\u001b[1m1688/1688\u001b[0m \u001b[32m━━━━━━━━━━━━━━━━━━━━\u001b[0m\u001b[37m\u001b[0m \u001b[1m6s\u001b[0m 3ms/step - accuracy: 0.9859 - loss: 0.0480 - val_accuracy: 0.9858 - val_loss: 0.0596\n",
            "Epoch 14/20\n",
            "\u001b[1m1688/1688\u001b[0m \u001b[32m━━━━━━━━━━━━━━━━━━━━\u001b[0m\u001b[37m\u001b[0m \u001b[1m5s\u001b[0m 3ms/step - accuracy: 0.9861 - loss: 0.0488 - val_accuracy: 0.9858 - val_loss: 0.0575\n",
            "Epoch 15/20\n",
            "\u001b[1m1688/1688\u001b[0m \u001b[32m━━━━━━━━━━━━━━━━━━━━\u001b[0m\u001b[37m\u001b[0m \u001b[1m6s\u001b[0m 3ms/step - accuracy: 0.9876 - loss: 0.0407 - val_accuracy: 0.9847 - val_loss: 0.0654\n",
            "Epoch 16/20\n",
            "\u001b[1m1688/1688\u001b[0m \u001b[32m━━━━━━━━━━━━━━━━━━━━\u001b[0m\u001b[37m\u001b[0m \u001b[1m5s\u001b[0m 3ms/step - accuracy: 0.9882 - loss: 0.0419 - val_accuracy: 0.9832 - val_loss: 0.0632\n",
            "Epoch 17/20\n",
            "\u001b[1m1688/1688\u001b[0m \u001b[32m━━━━━━━━━━━━━━━━━━━━\u001b[0m\u001b[37m\u001b[0m \u001b[1m5s\u001b[0m 3ms/step - accuracy: 0.9882 - loss: 0.0391 - val_accuracy: 0.9847 - val_loss: 0.0623\n",
            "Epoch 18/20\n",
            "\u001b[1m1688/1688\u001b[0m \u001b[32m━━━━━━━━━━━━━━━━━━━━\u001b[0m\u001b[37m\u001b[0m \u001b[1m6s\u001b[0m 3ms/step - accuracy: 0.9891 - loss: 0.0380 - val_accuracy: 0.9835 - val_loss: 0.0667\n",
            "Epoch 19/20\n",
            "\u001b[1m1688/1688\u001b[0m \u001b[32m━━━━━━━━━━━━━━━━━━━━\u001b[0m\u001b[37m\u001b[0m \u001b[1m5s\u001b[0m 3ms/step - accuracy: 0.9894 - loss: 0.0356 - val_accuracy: 0.9853 - val_loss: 0.0671\n",
            "Epoch 20/20\n",
            "\u001b[1m1688/1688\u001b[0m \u001b[32m━━━━━━━━━━━━━━━━━━━━\u001b[0m\u001b[37m\u001b[0m \u001b[1m11s\u001b[0m 4ms/step - accuracy: 0.9897 - loss: 0.0332 - val_accuracy: 0.9845 - val_loss: 0.0670\n",
            "\n",
            "Tempo de treinamento da rede: 1m52s\n",
            "Epoch 1/10\n",
            "\u001b[1m844/844\u001b[0m \u001b[32m━━━━━━━━━━━━━━━━━━━━\u001b[0m\u001b[37m\u001b[0m \u001b[1m3s\u001b[0m 4ms/step - accuracy: 0.6095 - loss: 1.1539 - val_accuracy: 0.9515 - val_loss: 0.1637\n",
            "Epoch 2/10\n",
            "\u001b[1m844/844\u001b[0m \u001b[32m━━━━━━━━━━━━━━━━━━━━\u001b[0m\u001b[37m\u001b[0m \u001b[1m5s\u001b[0m 3ms/step - accuracy: 0.9091 - loss: 0.3156 - val_accuracy: 0.9665 - val_loss: 0.1138\n",
            "Epoch 3/10\n",
            "\u001b[1m844/844\u001b[0m \u001b[32m━━━━━━━━━━━━━━━━━━━━\u001b[0m\u001b[37m\u001b[0m \u001b[1m3s\u001b[0m 3ms/step - accuracy: 0.9374 - loss: 0.2229 - val_accuracy: 0.9735 - val_loss: 0.0914\n",
            "Epoch 4/10\n",
            "\u001b[1m844/844\u001b[0m \u001b[32m━━━━━━━━━━━━━━━━━━━━\u001b[0m\u001b[37m\u001b[0m \u001b[1m3s\u001b[0m 4ms/step - accuracy: 0.9512 - loss: 0.1722 - val_accuracy: 0.9762 - val_loss: 0.0755\n",
            "Epoch 5/10\n",
            "\u001b[1m844/844\u001b[0m \u001b[32m━━━━━━━━━━━━━━━━━━━━\u001b[0m\u001b[37m\u001b[0m \u001b[1m3s\u001b[0m 4ms/step - accuracy: 0.9578 - loss: 0.1481 - val_accuracy: 0.9773 - val_loss: 0.0788\n",
            "Epoch 6/10\n",
            "\u001b[1m844/844\u001b[0m \u001b[32m━━━━━━━━━━━━━━━━━━━━\u001b[0m\u001b[37m\u001b[0m \u001b[1m3s\u001b[0m 3ms/step - accuracy: 0.9640 - loss: 0.1276 - val_accuracy: 0.9800 - val_loss: 0.0691\n",
            "Epoch 7/10\n",
            "\u001b[1m844/844\u001b[0m \u001b[32m━━━━━━━━━━━━━━━━━━━━\u001b[0m\u001b[37m\u001b[0m \u001b[1m3s\u001b[0m 3ms/step - accuracy: 0.9676 - loss: 0.1114 - val_accuracy: 0.9815 - val_loss: 0.0652\n",
            "Epoch 8/10\n",
            "\u001b[1m844/844\u001b[0m \u001b[32m━━━━━━━━━━━━━━━━━━━━\u001b[0m\u001b[37m\u001b[0m \u001b[1m6s\u001b[0m 4ms/step - accuracy: 0.9715 - loss: 0.0992 - val_accuracy: 0.9823 - val_loss: 0.0603\n",
            "Epoch 9/10\n",
            "\u001b[1m844/844\u001b[0m \u001b[32m━━━━━━━━━━━━━━━━━━━━\u001b[0m\u001b[37m\u001b[0m \u001b[1m3s\u001b[0m 3ms/step - accuracy: 0.9741 - loss: 0.0916 - val_accuracy: 0.9805 - val_loss: 0.0690\n",
            "Epoch 10/10\n",
            "\u001b[1m844/844\u001b[0m \u001b[32m━━━━━━━━━━━━━━━━━━━━\u001b[0m\u001b[37m\u001b[0m \u001b[1m5s\u001b[0m 3ms/step - accuracy: 0.9758 - loss: 0.0828 - val_accuracy: 0.9852 - val_loss: 0.0539\n",
            "\n",
            "Tempo de treinamento da rede: 0m29s\n",
            "Epoch 1/15\n",
            "\u001b[1m844/844\u001b[0m \u001b[32m━━━━━━━━━━━━━━━━━━━━\u001b[0m\u001b[37m\u001b[0m \u001b[1m3s\u001b[0m 4ms/step - accuracy: 0.6140 - loss: 1.1446 - val_accuracy: 0.9473 - val_loss: 0.1703\n",
            "Epoch 2/15\n",
            "\u001b[1m844/844\u001b[0m \u001b[32m━━━━━━━━━━━━━━━━━━━━\u001b[0m\u001b[37m\u001b[0m \u001b[1m3s\u001b[0m 3ms/step - accuracy: 0.9107 - loss: 0.3148 - val_accuracy: 0.9632 - val_loss: 0.1142\n",
            "Epoch 3/15\n",
            "\u001b[1m844/844\u001b[0m \u001b[32m━━━━━━━━━━━━━━━━━━━━\u001b[0m\u001b[37m\u001b[0m \u001b[1m3s\u001b[0m 3ms/step - accuracy: 0.9379 - loss: 0.2182 - val_accuracy: 0.9715 - val_loss: 0.1009\n",
            "Epoch 4/15\n",
            "\u001b[1m844/844\u001b[0m \u001b[32m━━━━━━━━━━━━━━━━━━━━\u001b[0m\u001b[37m\u001b[0m \u001b[1m6s\u001b[0m 4ms/step - accuracy: 0.9528 - loss: 0.1689 - val_accuracy: 0.9737 - val_loss: 0.0859\n",
            "Epoch 5/15\n",
            "\u001b[1m844/844\u001b[0m \u001b[32m━━━━━━━━━━━━━━━━━━━━\u001b[0m\u001b[37m\u001b[0m \u001b[1m3s\u001b[0m 3ms/step - accuracy: 0.9584 - loss: 0.1461 - val_accuracy: 0.9773 - val_loss: 0.0724\n",
            "Epoch 6/15\n",
            "\u001b[1m844/844\u001b[0m \u001b[32m━━━━━━━━━━━━━━━━━━━━\u001b[0m\u001b[37m\u001b[0m \u001b[1m3s\u001b[0m 3ms/step - accuracy: 0.9640 - loss: 0.1288 - val_accuracy: 0.9787 - val_loss: 0.0760\n",
            "Epoch 7/15\n",
            "\u001b[1m844/844\u001b[0m \u001b[32m━━━━━━━━━━━━━━━━━━━━\u001b[0m\u001b[37m\u001b[0m \u001b[1m5s\u001b[0m 3ms/step - accuracy: 0.9687 - loss: 0.1082 - val_accuracy: 0.9797 - val_loss: 0.0698\n",
            "Epoch 8/15\n",
            "\u001b[1m844/844\u001b[0m \u001b[32m━━━━━━━━━━━━━━━━━━━━\u001b[0m\u001b[37m\u001b[0m \u001b[1m4s\u001b[0m 4ms/step - accuracy: 0.9740 - loss: 0.0949 - val_accuracy: 0.9810 - val_loss: 0.0649\n",
            "Epoch 9/15\n",
            "\u001b[1m844/844\u001b[0m \u001b[32m━━━━━━━━━━━━━━━━━━━━\u001b[0m\u001b[37m\u001b[0m \u001b[1m3s\u001b[0m 3ms/step - accuracy: 0.9736 - loss: 0.0888 - val_accuracy: 0.9807 - val_loss: 0.0662\n",
            "Epoch 10/15\n",
            "\u001b[1m844/844\u001b[0m \u001b[32m━━━━━━━━━━━━━━━━━━━━\u001b[0m\u001b[37m\u001b[0m \u001b[1m5s\u001b[0m 3ms/step - accuracy: 0.9761 - loss: 0.0837 - val_accuracy: 0.9845 - val_loss: 0.0590\n",
            "Epoch 11/15\n",
            "\u001b[1m844/844\u001b[0m \u001b[32m━━━━━━━━━━━━━━━━━━━━\u001b[0m\u001b[37m\u001b[0m \u001b[1m6s\u001b[0m 4ms/step - accuracy: 0.9797 - loss: 0.0737 - val_accuracy: 0.9803 - val_loss: 0.0689\n",
            "Epoch 12/15\n",
            "\u001b[1m844/844\u001b[0m \u001b[32m━━━━━━━━━━━━━━━━━━━━\u001b[0m\u001b[37m\u001b[0m \u001b[1m4s\u001b[0m 3ms/step - accuracy: 0.9800 - loss: 0.0688 - val_accuracy: 0.9838 - val_loss: 0.0596\n",
            "Epoch 13/15\n",
            "\u001b[1m844/844\u001b[0m \u001b[32m━━━━━━━━━━━━━━━━━━━━\u001b[0m\u001b[37m\u001b[0m \u001b[1m3s\u001b[0m 3ms/step - accuracy: 0.9813 - loss: 0.0644 - val_accuracy: 0.9822 - val_loss: 0.0614\n",
            "Epoch 14/15\n",
            "\u001b[1m844/844\u001b[0m \u001b[32m━━━━━━━━━━━━━━━━━━━━\u001b[0m\u001b[37m\u001b[0m \u001b[1m3s\u001b[0m 3ms/step - accuracy: 0.9823 - loss: 0.0624 - val_accuracy: 0.9833 - val_loss: 0.0599\n",
            "Epoch 15/15\n",
            "\u001b[1m844/844\u001b[0m \u001b[32m━━━━━━━━━━━━━━━━━━━━\u001b[0m\u001b[37m\u001b[0m \u001b[1m5s\u001b[0m 3ms/step - accuracy: 0.9837 - loss: 0.0556 - val_accuracy: 0.9852 - val_loss: 0.0596\n",
            "\n",
            "Tempo de treinamento da rede: 0m43s\n",
            "Epoch 1/20\n",
            "\u001b[1m844/844\u001b[0m \u001b[32m━━━━━━━━━━━━━━━━━━━━\u001b[0m\u001b[37m\u001b[0m \u001b[1m3s\u001b[0m 3ms/step - accuracy: 0.6122 - loss: 1.1545 - val_accuracy: 0.9483 - val_loss: 0.1637\n",
            "Epoch 2/20\n",
            "\u001b[1m844/844\u001b[0m \u001b[32m━━━━━━━━━━━━━━━━━━━━\u001b[0m\u001b[37m\u001b[0m \u001b[1m6s\u001b[0m 4ms/step - accuracy: 0.9102 - loss: 0.3144 - val_accuracy: 0.9633 - val_loss: 0.1171\n",
            "Epoch 3/20\n",
            "\u001b[1m844/844\u001b[0m \u001b[32m━━━━━━━━━━━━━━━━━━━━\u001b[0m\u001b[37m\u001b[0m \u001b[1m3s\u001b[0m 4ms/step - accuracy: 0.9371 - loss: 0.2208 - val_accuracy: 0.9722 - val_loss: 0.0964\n",
            "Epoch 4/20\n",
            "\u001b[1m844/844\u001b[0m \u001b[32m━━━━━━━━━━━━━━━━━━━━\u001b[0m\u001b[37m\u001b[0m \u001b[1m5s\u001b[0m 4ms/step - accuracy: 0.9497 - loss: 0.1743 - val_accuracy: 0.9768 - val_loss: 0.0810\n",
            "Epoch 5/20\n",
            "\u001b[1m844/844\u001b[0m \u001b[32m━━━━━━━━━━━━━━━━━━━━\u001b[0m\u001b[37m\u001b[0m \u001b[1m5s\u001b[0m 4ms/step - accuracy: 0.9612 - loss: 0.1397 - val_accuracy: 0.9780 - val_loss: 0.0714\n",
            "Epoch 6/20\n",
            "\u001b[1m844/844\u001b[0m \u001b[32m━━━━━━━━━━━━━━━━━━━━\u001b[0m\u001b[37m\u001b[0m \u001b[1m3s\u001b[0m 4ms/step - accuracy: 0.9655 - loss: 0.1239 - val_accuracy: 0.9772 - val_loss: 0.0723\n",
            "Epoch 7/20\n",
            "\u001b[1m844/844\u001b[0m \u001b[32m━━━━━━━━━━━━━━━━━━━━\u001b[0m\u001b[37m\u001b[0m \u001b[1m3s\u001b[0m 4ms/step - accuracy: 0.9691 - loss: 0.1070 - val_accuracy: 0.9795 - val_loss: 0.0652\n",
            "Epoch 8/20\n",
            "\u001b[1m151/844\u001b[0m \u001b[32m━━━\u001b[0m\u001b[37m━━━━━━━━━━━━━━━━━\u001b[0m \u001b[1m2s\u001b[0m 4ms/step - accuracy: 0.9741 - loss: 0.0920"
          ]
        }
      ]
    },
    {
      "cell_type": "code",
      "source": [
        "import pickle\n",
        "\n",
        "with open('ex_1.pickle', 'wb') as handle:\n",
        "    pickle.dump(h_ex1, handle)\n",
        "\n",
        "with open('ex_1.pickle', 'rb') as handle:\n",
        "    b = pickle.load(handle)\n",
        "\n",
        "print(h_ex1.values() == b.values())"
      ],
      "metadata": {
        "id": "TS2l4DRDYyiZ"
      },
      "execution_count": null,
      "outputs": []
    },
    {
      "cell_type": "code",
      "source": [
        "# best models\n",
        "\n",
        "for k in h_ex1.keys():\n",
        "  h_ex1[k].history['dif_acc_and_val_acc'] = (h_ex1[k].history['accuracy'][-1] / h_ex1[k].history['val_accuracy'][-1]) -1\n",
        "\n",
        "threesold = 0.9995\n",
        "h_ex1_aux = {}\n",
        "#selecting the models above a threesold with the mininmu dif between train and test\n",
        "for k in h_ex1.keys():\n",
        "  if h_ex1[k].history['accuracy'][-1] >= threesold:\n",
        "    h_ex1_aux[k] = h_ex1[k].history['dif_acc_and_val_acc']\n",
        "\n",
        "h_ex1_sorted_by_values = dict(sorted(h_ex1_aux.items(), key=lambda item: item[1]))\n",
        "print(h_ex1_sorted_by_values)\n",
        "ex1_best_models = sorted(h_ex1_sorted_by_values, key=h_ex1_sorted_by_values.get, reverse=False)[:3]\n",
        "ex1_best_models"
      ],
      "metadata": {
        "id": "evYbCGnnQhuv"
      },
      "execution_count": null,
      "outputs": []
    },
    {
      "cell_type": "code",
      "source": [
        "#recreate model creating function with optimizer and learning rate parameters (only for the top 3 selected models)\n",
        "def recompile_model (m, lr, opt):\n",
        "\n",
        "    m.compile(optimizer=opt(lr), loss='sparse_categorical_crossentropy', metrics=['accuracy'])\n",
        "    m.summary()\n",
        "    return m\n",
        "\n"
      ],
      "metadata": {
        "id": "AQjMO3tkWzw3"
      },
      "execution_count": null,
      "outputs": []
    },
    {
      "cell_type": "code",
      "source": [
        "# 2) Utilizando os conhecimentos adquiridos nos trabalhos anteriores, faça testes com outros otimizadores com diferentes learning rates,\n",
        "# para tentar uma melhor sintonia das redes mais promissoras.\n",
        "\n",
        "print(ex1_best_models)\n",
        "\n",
        "opts = [SGD, Adam, Adagrad, RMSprop, Adadelta]\n",
        "lrs = [0.01, 0.05,0.1, 0.2]\n",
        "ex2_models    = {'batch_norm_model_20_64': {'iw': initial_weights_batch_norm, 'ep': 20, 'bs':64}\n",
        "               ,            'Deep1_15_32': {'iw':  initial_weights , 'ep': 15, 'bs':32}\n",
        "               ,            'Deep1_20_32': {'iw':  initial_weights , 'ep': 20, 'bs':32}\n",
        "}\n",
        "\n",
        "\n",
        "h_ex2 = {}\n",
        "\n",
        "for m in ex2_models.keys():\n",
        "   for  opt in opts:\n",
        "    for lr in lrs:\n",
        "      k = m + '_' + str(opt.__name__) + '_' + str(lr)\n",
        "\n",
        "      nm = recompile_model(h_ex1[m].model, lr, opt)\n",
        "      nm.set_weights( ex2_models[m]['iw'])\n",
        "\n",
        "      start_time = time.process_time()\n",
        "      h_ex2[k] = nm.fit(X_train, y_train, batch_size= ex2_models[m]['bs'], epochs=ex2_models[m]['ep'], verbose=1, validation_split=0.1)\n",
        "      processing_time(start_time, time.process_time())\n",
        "\n"
      ],
      "metadata": {
        "id": "vZOP5DW1XrWU"
      },
      "execution_count": null,
      "outputs": []
    },
    {
      "cell_type": "code",
      "source": [
        "import pickle\n",
        "\n",
        "with open('ex_2.pickle', 'wb') as handle:\n",
        "    pickle.dump(h_ex2, handle)\n",
        "\n",
        "with open('ex_2.pickle', 'rb') as handle:\n",
        "    b = pickle.load(handle)\n",
        "\n",
        "print(h_ex2.values() == b.values())"
      ],
      "metadata": {
        "id": "NmAtOemhhRr-"
      },
      "execution_count": null,
      "outputs": []
    },
    {
      "cell_type": "code",
      "source": [
        "for k in h_ex2.keys():\n",
        "  h_ex2[k].history['dif_acc_and_val_acc'] = (h_ex2[k].history['accuracy'][-1] / h_ex2[k].history['val_accuracy'][-1]) -1\n",
        "\n",
        "threesold = 0.9998\n",
        "h_ex2_aux = {}\n",
        "#selecting the models above a threesold with the mininmu dif between train and test\n",
        "for k in h_ex2.keys():\n",
        "  if h_ex2[k].history['accuracy'][-1] >= threesold:\n",
        "    h_ex2_aux[k] = h_ex2[k].history['dif_acc_and_val_acc']\n",
        "\n",
        "h_ex2_sorted_by_values = dict(sorted(h_ex2_aux.items(), key=lambda item: item[1]))\n",
        "#print(h_ex2_sorted_by_values)\n",
        "ex2_best_models = sorted(h_ex2_sorted_by_values, key=h_ex2_sorted_by_values.get, reverse=False)[:3]\n",
        "ex2_best_models"
      ],
      "metadata": {
        "id": "8vu9p9_Ff2oa"
      },
      "execution_count": null,
      "outputs": []
    },
    {
      "cell_type": "code",
      "source": [
        "import pandas as pd\n",
        "\n",
        "def compare_models_results(models_history_dict):\n",
        "\n",
        "    results = []\n",
        "\n",
        "    for model_name, history in models_history_dict.items():\n",
        "        metrics = {}\n",
        "        for key, values in history.history.items():\n",
        "\n",
        "            if isinstance(values, (list, tuple)):  # Check if the value is iterable\n",
        "                if 'accuracy' in key:  # Use max for accuracy metrics\n",
        "                    metrics[key] = max(values)\n",
        "                else:  # Use min for loss or similar metrics\n",
        "                    metrics[key] = min(values)\n",
        "            else:\n",
        "                metrics[key] = values  # Directly assign if it's a single value\n",
        "        metrics['model'] = model_name  # Add the model name to the row\n",
        "        results.append(metrics)\n",
        "    # Convert to a pandas DataFrame\n",
        "    df = pd.DataFrame(results)\n",
        "    df.set_index('model', inplace=True)  # Set the model name as the index\n",
        "\n",
        "    return df"
      ],
      "metadata": {
        "id": "XmNxBSuoMHzt"
      },
      "execution_count": null,
      "outputs": []
    },
    {
      "cell_type": "code",
      "source": [
        "# 3) Elabore gráficos e/ou tabelas com dados comparativos, mostrando o desempenho das redes selecionadas com os diferentes hiper-parâmetros escolhidos.\n",
        "\n",
        "comparison_df = compare_models_results(h_ex2)\n",
        "comparison_df\n",
        "\n"
      ],
      "metadata": {
        "id": "l16UttyrXrK8"
      },
      "execution_count": null,
      "outputs": []
    },
    {
      "cell_type": "code",
      "source": [
        "# 4) Salve os melhores modelos de rede para se fazer as predições futuras, que serão utilizadas no notebook Deep Learning #5.\n",
        "\n",
        "models_ex4 = {}\n",
        "for m in ex2_best_models:\n",
        "  models_ex4[m] = h_ex2[m].model\n",
        "\n",
        "\n",
        "import pickle\n",
        "\n",
        "with open('ex_4.pickle', 'wb') as handle:\n",
        "    pickle.dump(models_ex4, handle)\n",
        "\n",
        "with open('ex_4.pickle', 'rb') as handle:\n",
        "    b = pickle.load(handle)\n",
        "\n"
      ],
      "metadata": {
        "id": "Y3tQiTMrXqog"
      },
      "execution_count": null,
      "outputs": []
    },
    {
      "cell_type": "code",
      "source": [
        "from PIL import Image\n",
        "from numpy import asarray\n",
        "import albumentations as A\n",
        "import random\n",
        "img = './{d}.png'\n",
        "i = 0\n",
        "\n",
        "X_test_new = np.zeros((50, 28, 28))\n",
        "X_test_flat_new = X_test_new.reshape(-1, 28*28)\n",
        "X_test_sc_new = X_test_flat_new / 255\n",
        "y_test_new = np.zeros((50))\n",
        "\n",
        "\n",
        "def data_augmentation(data):\n",
        "  image = np.array(data)\n",
        "  random.seed(7)\n",
        "  images = [data,\n",
        "            A.VerticalFlip(p=1)(image=image)['image'],\n",
        "            A.Rotate(-30)(image=image)['image'],\n",
        "            A.Rotate(-95)(image=image)['image'],\n",
        "            A.Rotate(70)(image=image)['image']\n",
        "\n",
        "           ]\n",
        "  return images\n",
        "\n",
        "for d in range(10):\n",
        "  image_file = img.replace(\"{d}\", str(d))\n",
        "\n",
        "  img1=Image.open(image_file)\n",
        "  img1.thumbnail((28,28))\n",
        "  img2=img1.convert(mode='L')\n",
        "  img3=asarray(img2)\n",
        "  img3 = 255 - img3\n",
        "  img_to_import = data_augmentation(img3)\n",
        "  for im in img_to_import:\n",
        "    X_test_new[i] = im\n",
        "    X_test_flat_new[i] = X_test_new[i].reshape(-1, 28*28)\n",
        "    X_test_sc_new[i] = X_test_flat_new[i] / 255\n",
        "    y_test_new[i] = d\n",
        "    i += 1\n",
        "\n",
        "\n",
        "# função para visualização das predições (examples: 28*28 pixels)\n",
        "def show_predict_ex2(examples, targets, predict_):\n",
        "    init = 0\n",
        "    plt.figure(figsize=(10, 10))\n",
        "\n",
        "    for i in range(49):\n",
        "        plt.subplot(8, 8, i+1)\n",
        "        plt.imshow(examples[init + i], cmap='Greys')\n",
        "        plt.xlabel(f'y: {targets[init + i]} - ŷ: {predict_[init + i]}', size = 9)\n",
        "        plt.xticks([])\n",
        "        plt.yticks([])\n",
        "\n",
        "    plt.tight_layout()\n",
        "    plt.show()\n"
      ],
      "metadata": {
        "id": "auLBJzmdWPoW"
      },
      "execution_count": null,
      "outputs": []
    },
    {
      "cell_type": "code",
      "source": [
        "# 5) Faça um teste nos modelos projetados acima com o banco de dados de dígitos que você criou. Quais modelos obtiveram melhores performance?\n",
        "predictions = {}\n",
        "\n",
        "for m in models_ex4.keys():\n",
        "  print('**********************************************************************************************************************')\n",
        "  print('Model Name:',m)\n",
        "  print('**********************************************************************************************************************')\n",
        "  predictions[m] = np.argmax(models_ex4[m].predict(X_test_new),axis=1)\n",
        "\n",
        "  #prediction_new = my_model.predict(X_train_sc)\n",
        "  #y_predict_new = np.argmax(prediction_new,axis=1)\n",
        "\n",
        "\n",
        "  show_predict_ex2(X_test_new, y_test_new, predictions[m])\n",
        "  print('**********************************************************************************************************************')"
      ],
      "metadata": {
        "id": "-r0kTu4yYD8P"
      },
      "execution_count": null,
      "outputs": []
    },
    {
      "cell_type": "code",
      "source": [],
      "metadata": {
        "id": "wi_7AXtySMn1"
      },
      "execution_count": null,
      "outputs": []
    }
  ]
}