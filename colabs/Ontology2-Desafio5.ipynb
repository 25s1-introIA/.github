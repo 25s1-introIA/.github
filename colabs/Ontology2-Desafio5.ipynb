{
  "nbformat": 4,
  "nbformat_minor": 0,
  "metadata": {
    "colab": {
      "provenance": []
    },
    "kernelspec": {
      "name": "python3",
      "display_name": "Python 3"
    },
    "language_info": {
      "name": "python"
    }
  },
  "cells": [
    {
      "cell_type": "code",
      "source": [
        "!pip install owlready2 rdflib"
      ],
      "metadata": {
        "colab": {
          "base_uri": "https://localhost:8080/"
        },
        "id": "dwY1azCrO9oX",
        "outputId": "826f6e2b-7562-4c75-cbd2-e25875830a26"
      },
      "execution_count": 2,
      "outputs": [
        {
          "output_type": "stream",
          "name": "stdout",
          "text": [
            "Collecting owlready2\n",
            "  Downloading owlready2-0.47.tar.gz (27.3 MB)\n",
            "\u001b[2K     \u001b[90m━━━━━━━━━━━━━━━━━━━━━━━━━━━━━━━━━━━━━━━━\u001b[0m \u001b[32m27.3/27.3 MB\u001b[0m \u001b[31m63.6 MB/s\u001b[0m eta \u001b[36m0:00:00\u001b[0m\n",
            "\u001b[?25h  Installing build dependencies ... \u001b[?25l\u001b[?25hdone\n",
            "  Getting requirements to build wheel ... \u001b[?25l\u001b[?25hdone\n",
            "  Preparing metadata (pyproject.toml) ... \u001b[?25l\u001b[?25hdone\n",
            "Collecting rdflib\n",
            "  Downloading rdflib-7.1.4-py3-none-any.whl.metadata (11 kB)\n",
            "Requirement already satisfied: pyparsing<4,>=2.1.0 in /usr/local/lib/python3.11/dist-packages (from rdflib) (3.2.3)\n",
            "Downloading rdflib-7.1.4-py3-none-any.whl (565 kB)\n",
            "\u001b[2K   \u001b[90m━━━━━━━━━━━━━━━━━━━━━━━━━━━━━━━━━━━━━━━━\u001b[0m \u001b[32m565.1/565.1 kB\u001b[0m \u001b[31m31.9 MB/s\u001b[0m eta \u001b[36m0:00:00\u001b[0m\n",
            "\u001b[?25hBuilding wheels for collected packages: owlready2\n",
            "  Building wheel for owlready2 (pyproject.toml) ... \u001b[?25l\u001b[?25hdone\n",
            "  Created wheel for owlready2: filename=owlready2-0.47-cp311-cp311-linux_x86_64.whl size=24577500 sha256=78c5c330d537632710c0234e6c6ba289397bd2171daeaf2810492087e353f8a4\n",
            "  Stored in directory: /root/.cache/pip/wheels/25/9a/a3/fb1ac6339caa859c8bb18d685736168b0b51d851af13d81d52\n",
            "Successfully built owlready2\n",
            "Installing collected packages: rdflib, owlready2\n",
            "Successfully installed owlready2-0.47 rdflib-7.1.4\n"
          ]
        }
      ]
    },
    {
      "cell_type": "code",
      "execution_count": 3,
      "metadata": {
        "colab": {
          "base_uri": "https://localhost:8080/"
        },
        "id": "_BGIcQZvOt1b",
        "outputId": "9cabe7b6-593b-42cf-e515-63bd20022538"
      },
      "outputs": [
        {
          "output_type": "stream",
          "name": "stdout",
          "text": [
            "Ontologia gerada e salva como ontologia_manutencao_populada.owl\n"
          ]
        }
      ],
      "source": [
        "# -*- coding: utf-8 -*-\n",
        "import pandas as pd\n",
        "from owlready2 import *\n",
        "\n",
        "# Carregar CSV\n",
        "df = pd.read_csv(\"equipamentos_manutencao.csv\")\n",
        "\n",
        "# Criar ontologia\n",
        "onto = get_ontology(\"http://www.exemplo.org/manutencao_preditiva.owl\")\n",
        "\n",
        "with onto:\n",
        "\n",
        "    # === CLASSES ===\n",
        "    class Equipamento(Thing): pass\n",
        "    class Sensor(Thing): pass\n",
        "    class Componente(Thing): pass\n",
        "    class Falha(Thing): pass\n",
        "    class Manutencao(Thing): pass\n",
        "    class Procedimento(Thing): pass\n",
        "    class Responsavel(Thing): pass\n",
        "    class Alerta(Thing): pass\n",
        "\n",
        "    # === PROPRIEDADES DE OBJETO ===\n",
        "    class possuiComponente(Equipamento >> Componente): pass\n",
        "    class mede(Sensor >> Componente): pass\n",
        "    class detectaFalha(Sensor >> Falha): pass\n",
        "    class generaAlerta(Sensor >> Alerta): pass\n",
        "    class executaProcedimento(Responsavel >> Procedimento): pass\n",
        "    class associadoA(Manutencao >> Equipamento): pass\n",
        "\n",
        "    # === PROPRIEDADES DE DADOS ===\n",
        "    class frequenciaDeLeitura(DataProperty):\n",
        "        domain = [Sensor]\n",
        "        range = [float]\n",
        "\n",
        "    class dataFalha(DataProperty):\n",
        "        domain = [Falha]\n",
        "        range = [str]\n",
        "\n",
        "    class descricao(DataProperty):\n",
        "        domain = [Falha]\n",
        "        range = [str]\n",
        "\n",
        "    class nome(DataProperty):\n",
        "        domain = [Thing]\n",
        "        range = [str]\n",
        "\n",
        "# === POPULAR A ONTOLOGIA COM DADOS DO CSV ===\n",
        "for _, row in df.iterrows():\n",
        "    # Criar instâncias\n",
        "    eqp = Equipamento(row['equipamento_id'])\n",
        "    eqp.nome = [row['equipamento_nome']]\n",
        "\n",
        "    cmp = Componente(row['componente_id'])\n",
        "    cmp.nome = [row['componente_nome']]\n",
        "    eqp.possuiComponente.append(cmp)\n",
        "\n",
        "    sns = Sensor(row['sensor_id'])\n",
        "    sns.nome = [row['sensor_nome']]\n",
        "    sns.frequenciaDeLeitura = [row['frequencia_leitura']]\n",
        "    sns.mede.append(cmp)\n",
        "\n",
        "    flh = Falha(row['falha_id'])\n",
        "    flh.nome = [row['falha_nome']]\n",
        "    flh.dataFalha = [row['data_falha']]\n",
        "    flh.descricao = [row['descricao_falha']]\n",
        "    sns.detectaFalha.append(flh)\n",
        "\n",
        "    alerta = Alerta(f\"alerta_{row['sensor_id']}\")\n",
        "    sns.generaAlerta.append(alerta)\n",
        "\n",
        "    tec = Responsavel(row['tecnico_id'])\n",
        "    tec.nome = [row['tecnico_nome']]\n",
        "\n",
        "    prc = Procedimento(row['procedimento_id'])\n",
        "    prc.nome = [row['procedimento_nome']]\n",
        "    tec.executaProcedimento.append(prc)\n",
        "\n",
        "    manut = Manutencao(f\"manut_{row['equipamento_id']}\")\n",
        "    manut.associadoA.append(eqp)\n",
        "\n",
        "# === SALVAR A ONTOLOGIA ===\n",
        "onto.save(file=\"ontologia_manutencao_populada.owl\", format=\"rdfxml\")\n",
        "print(\"Ontologia gerada e salva como ontologia_manutencao_populada.owl\")\n"
      ]
    },
    {
      "cell_type": "code",
      "source": [
        "# -*- coding: utf-8 -*-\n",
        "from owlready2 import *\n",
        "\n",
        "# Carregar ontologia populada\n",
        "onto = get_ontology(\"ontologia_manutencao_populada.owl\").load()\n",
        "\n",
        "\n",
        "# Exemplo 1 – Listar todos os sensores e suas frequências de leitura\n",
        "# print(\"\\nSensores e frequência de leitura:\")\n",
        "#for s in onto.Sensor.instances():\n",
        "#    print(f\"{s.name}: {s.frequenciaDeLeitura[0]} Hz\")\n",
        "\n",
        "\n",
        "# Exemplo 2 – Mostrar falhas detectadas por um sensor específico\n",
        "sensor_escolhido = \"sns493\"\n",
        "sensor = onto.search_one(iri=\"*\" + sensor_escolhido)\n",
        "if sensor:\n",
        "    print(f\"\\nFalhas detectadas por {sensor.nome[0]}:\")\n",
        "    for f in sensor.detectaFalha:\n",
        "        print(f\"- {f.nome[0]} em {f.dataFalha[0]}: {f.descricao[0]}\")\n",
        "\n",
        "\n",
        "# Exemplo 3 – Mostrar componentes que cada equipamento possui\n",
        "#print(\"\\nEquipamentos e seus componentes:\")\n",
        "#for e in onto.Equipamento.instances():\n",
        "#    print(f\"{e.nome[0]} possui:\")\n",
        "#    for c in e.possuiComponente:\n",
        "#        print(f\"  - {c.nome[0]}\")\n"
      ],
      "metadata": {
        "colab": {
          "base_uri": "https://localhost:8080/"
        },
        "id": "mvlg43F-O4Re",
        "outputId": "48d2e769-277a-4e98-dd81-0ff93a5749f8"
      },
      "execution_count": 8,
      "outputs": [
        {
          "output_type": "stream",
          "name": "stdout",
          "text": [
            "\n",
            "Falhas detectadas por Sensor de Vibração:\n",
            "- Falha por Vibração Excedente em 2024-11-19: Perda de pressão no componente\n"
          ]
        }
      ]
    },
    {
      "cell_type": "markdown",
      "source": [
        "# Exerícios\n",
        "\n",
        "1. Quantos sensores existem na ontologia?\n",
        "\n",
        "1. Qual é a frequência de leitura mais comum entre os sensores?\n",
        "\n",
        "1. Liste todos os tipos de falhas registradas.\n",
        "\n",
        "1. Quais sensores detectaram falhas no ano de 2024? (Filtrar Falha.dataFalha por startswith(\"2024\"))\n",
        "\n",
        "1. Qual técnico executou o maior número de procedimentos diferentes? (Contar as instâncias de Responsavel e executaProcedimento)"
      ],
      "metadata": {
        "id": "6lui9PjTRmzs"
      }
    },
    {
      "cell_type": "code",
      "source": [],
      "metadata": {
        "id": "hWBC5g_fRy7Q"
      },
      "execution_count": null,
      "outputs": []
    }
  ]
}